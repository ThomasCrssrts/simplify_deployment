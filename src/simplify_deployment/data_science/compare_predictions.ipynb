{
 "cells": [
  {
   "cell_type": "code",
   "execution_count": null,
   "metadata": {},
   "outputs": [],
   "source": [
    "import numpy as np\n",
    "import pandas as pd\n",
    "from sklearn.metrics import mean_squared_error, mean_absolute_error\n",
    "import plotly.express as px\n",
    "from functools import reduce\n",
    "from scipy.stats import ecdf\n",
    "from datetime import timedelta"
   ]
  },
  {
   "cell_type": "code",
   "execution_count": null,
   "metadata": {},
   "outputs": [],
   "source": [
    "s1 = pd.read_parquet(\"/home/thomas/repos/simplify_deployment/data/simplify_1_0/predictions/s1_predictions.parquet\")\n",
    "\n",
    "s1_50_gen = pd.read_parquet(\"/home/thomas/repos/simplify_deployment/data/simplify_1_0/predictions/s1_50_gen_parallel.parquet\")\n",
    "s1_50_gen = (\n",
    "    s1_50_gen\n",
    "    .rename(\n",
    "        columns = {\n",
    "            \"y_pred\": \"y_pred_s1_50_gen_parallel\"\n",
    "        }\n",
    "    )\n",
    "    .drop(\n",
    "        columns = [\"y_true\"]\n",
    "    )\n",
    ")\n",
    "\n",
    "s1_100_gen = pd.read_parquet(\"/home/thomas/repos/simplify_deployment/data/simplify_1_0/predictions/s1_100_gen_parallel.parquet\")\n",
    "s1_100_gen = (\n",
    "    s1_100_gen\n",
    "    .rename(\n",
    "        columns = {\n",
    "            \"y_pred\": \"y_pred_s1_100_gen_parallel\"\n",
    "        }\n",
    "    )\n",
    "    .drop(\n",
    "        columns = [\"y_true\"]\n",
    "    )\n",
    ")\n",
    "\n",
    "lots_of_vars_150_gen = pd.read_parquet(\"/home/thomas/repos/simplify_deployment/data/lots_of_vars/predictions/lots_of_vars_150_gen_parallel.parquet\")\n",
    "lots_of_vars_150_gen = (\n",
    "    lots_of_vars_150_gen\n",
    "    .rename(\n",
    "        columns = {\n",
    "            \"y_pred\":\"y_pred_lots_of_vars_150_gen_parallel\"\n",
    "        }\n",
    "    )\n",
    "    .drop(\n",
    "        columns = [\"y_true\"]\n",
    "    )\n",
    ")\n",
    "\n",
    "predictions_list = [\n",
    "    s1,\n",
    "    s1_50_gen,\n",
    "    s1_100_gen,\n",
    "    lots_of_vars_150_gen,\n",
    "]\n",
    "\n",
    "predictions = reduce(\n",
    "    lambda a,b: pd.merge(\n",
    "        a,\n",
    "        b,\n",
    "        left_index = True,\n",
    "        right_index = True,\n",
    "        how = \"inner\",\n",
    "    ),\n",
    "    predictions_list,\n",
    ")\n",
    "predictions.to_parquet(\"/home/thomas/repos/simplify_deployment/src/simplify_deployment/data_science/predictions.parquet\")\n",
    "predictions"
   ]
  },
  {
   "cell_type": "code",
   "execution_count": null,
   "metadata": {},
   "outputs": [],
   "source": [
    "for column in predictions.columns[1:]:\n",
    "    rmse_value = np.sqrt(mean_squared_error(predictions[\"y_true\"],predictions[column]))\n",
    "    print(f\"Rmse {column} is {rmse_value}.\")\n",
    "print(\"\\n\")\n",
    "for column in predictions.columns[1:]:\n",
    "    mae_value = mean_absolute_error(predictions[\"y_true\"],predictions[column])\n",
    "    print(f\"Mae {column} is {mae_value}.\")"
   ]
  },
  {
   "cell_type": "code",
   "execution_count": null,
   "metadata": {},
   "outputs": [],
   "source": [
    "residuals = pd.DataFrame(index = predictions.index)\n",
    "for column in predictions.columns[1:]:\n",
    "    residuals[f\"{column}_residuals\"] = predictions[\"y_true\"] - predictions[column]\n",
    "residuals "
   ]
  },
  {
   "cell_type": "code",
   "execution_count": null,
   "metadata": {},
   "outputs": [],
   "source": [
    "# What is the p-value that we actually do better?\n",
    "# To get this p-value, we will sample residuals with replacement from all the techniques.\n",
    "# For then check for each sample of rmse is better or not\n",
    "# if it is better give a hit. This gives a p value if we do this 10 000 times.\n",
    "n = 10000\n",
    "sample_rmse_list = []\n",
    "for _ in range(n):\n",
    "    sample = residuals.apply(lambda x: np.random.choice(x, size=len(x), replace=True), axis = 0)\n",
    "    sample.columns = [col.replace(\"_residuals\", \"_rmse\") for col in sample.columns]\n",
    "    sample_rmse = sample.apply(lambda x: np.sqrt(np.mean(x**2)),axis = 0)\n",
    "    sample_rmse_list.append(sample_rmse.to_frame().T)\n",
    "\n",
    "sample_rmse_df = pd.concat(\n",
    "    sample_rmse_list, \n",
    "    axis = 0,\n",
    ")\n",
    "sample_rmse_df"
   ]
  },
  {
   "cell_type": "code",
   "execution_count": null,
   "metadata": {},
   "outputs": [],
   "source": [
    "np.mean(sample_rmse_df[\"y_pred_s1_50_gen_parallel_rmse\"] <= sample_rmse_df[\"y_pred_s1_rmse\"])\n"
   ]
  },
  {
   "cell_type": "code",
   "execution_count": null,
   "metadata": {},
   "outputs": [],
   "source": [
    "sample_rmse_df_molten = sample_rmse_df.melt(value_name=\"rmse\", var_name=\"source\")\n",
    "sample_rmse_df_molten"
   ]
  },
  {
   "cell_type": "code",
   "execution_count": null,
   "metadata": {},
   "outputs": [],
   "source": [
    "fig = px.histogram(\n",
    "    sample_rmse_df_molten, \n",
    "    x = \"rmse\", \n",
    "    color = \n",
    "    \"source\", \n",
    "    title=f\"25 minutes before real time si prediction\", \n",
    "    barmode=\"overlay\",\n",
    ")\n",
    "fig.show()"
   ]
  },
  {
   "cell_type": "code",
   "execution_count": null,
   "metadata": {},
   "outputs": [],
   "source": [
    "fig2 = px.line(predictions, x = predictions.index, y =predictions.columns)\n",
    "fig2.show()"
   ]
  }
 ],
 "metadata": {
  "kernelspec": {
   "display_name": "simplify-deployment-2FnGvFJr-py3.12",
   "language": "python",
   "name": "python3"
  },
  "language_info": {
   "codemirror_mode": {
    "name": "ipython",
    "version": 3
   },
   "file_extension": ".py",
   "mimetype": "text/x-python",
   "name": "python",
   "nbconvert_exporter": "python",
   "pygments_lexer": "ipython3",
   "version": "3.12.3"
  }
 },
 "nbformat": 4,
 "nbformat_minor": 2
}
