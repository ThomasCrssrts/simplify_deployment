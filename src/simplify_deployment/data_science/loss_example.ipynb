{
 "cells": [
  {
   "cell_type": "code",
   "execution_count": 1,
   "metadata": {},
   "outputs": [],
   "source": [
    "import pandas as pd\n",
    "import numpy as np\n",
    "import torch.nn as nn \n",
    "from sklearn.datasets import make_regression\n",
    "from torch.utils.data import Dataset, DataLoader\n",
    "import torch\n",
    "from typing import Tuple\n",
    "from sklearn.linear_model import LinearRegression\n",
    "from sklearn.preprocessing import StandardScaler\n"
   ]
  },
  {
   "cell_type": "code",
   "execution_count": 2,
   "metadata": {},
   "outputs": [
    {
     "data": {
      "text/plain": [
       "array([-3.06058589e-16, -1.66533454e-16,  7.40578140e-17,  5.94118465e-01,\n",
       "        3.37884065e-01, -3.68313332e-16,  3.60265228e-01,  1.25244403e-01,\n",
       "        6.29419989e-01, -1.35217446e-16])"
      ]
     },
     "execution_count": 2,
     "metadata": {},
     "output_type": "execute_result"
    }
   ],
   "source": [
    "# Make linear regression problem\n",
    "X_raw, y_raw = make_regression(\n",
    "    n_features=10,\n",
    "    n_informative=5,\n",
    "    n_samples=10000,\n",
    "\n",
    ")\n",
    "# Standard scale X and y\n",
    "X_scaler = StandardScaler()\n",
    "X_np = X_scaler.fit_transform(X_raw)\n",
    "\n",
    "y_scaler = StandardScaler()\n",
    "y_np = y_scaler.fit_transform(y_raw.reshape(-1,1)).flatten()\n",
    "\n",
    "# Fit a linear regression to check coef\n",
    "linear_regression = LinearRegression()\n",
    "linear_regression.fit(X_np, y_np)\n",
    "linear_regression.coef_"
   ]
  },
  {
   "cell_type": "code",
   "execution_count": 3,
   "metadata": {},
   "outputs": [],
   "source": [
    "X = torch.tensor(X_np, dtype=torch.float32)\n",
    "y = torch.tensor(y_np, dtype=torch.float32)"
   ]
  },
  {
   "cell_type": "code",
   "execution_count": 4,
   "metadata": {},
   "outputs": [
    {
     "data": {
      "text/plain": [
       "tensor([[-0.1358, -0.9549, -0.6626,  ...,  0.0371, -0.7060,  1.0937],\n",
       "        [ 0.9668, -1.5644, -0.3024,  ..., -0.0902,  0.4332,  0.8637],\n",
       "        [ 1.6658, -0.0986,  0.8327,  ...,  0.4785,  0.9229, -1.2112],\n",
       "        ...,\n",
       "        [ 0.8226, -0.1252, -1.5468,  ...,  0.2786, -0.0556,  0.2661],\n",
       "        [ 0.5509,  0.2108, -1.6172,  ..., -0.2233, -1.0985,  1.3313],\n",
       "        [ 0.4317,  0.3193, -0.0791,  ...,  0.9349, -2.8498, -0.4877]])"
      ]
     },
     "execution_count": 4,
     "metadata": {},
     "output_type": "execute_result"
    }
   ],
   "source": [
    "X"
   ]
  },
  {
   "cell_type": "code",
   "execution_count": 5,
   "metadata": {},
   "outputs": [
    {
     "data": {
      "text/plain": [
       "tensor([ 0.4136,  0.9394,  1.1275,  ..., -0.0064, -0.8932, -1.8407])"
      ]
     },
     "execution_count": 5,
     "metadata": {},
     "output_type": "execute_result"
    }
   ],
   "source": [
    "y"
   ]
  },
  {
   "cell_type": "code",
   "execution_count": 6,
   "metadata": {},
   "outputs": [],
   "source": [
    "class Model(nn.Module):\n",
    "    def __init__(\n",
    "            self,\n",
    "            n_features: int,\n",
    "    ) -> None:\n",
    "        super().__init__()\n",
    "        self.fc1 = nn.Linear(\n",
    "            in_features=n_features,\n",
    "            out_features=1,\n",
    "        )\n",
    "\n",
    "    def forward(\n",
    "        self,  \n",
    "        X: torch.Tensor,  \n",
    "    ) -> torch.Tensor:\n",
    "        y = self.fc1(X)\n",
    "        return y.flatten()\n",
    "        "
   ]
  },
  {
   "cell_type": "code",
   "execution_count": 7,
   "metadata": {},
   "outputs": [],
   "source": [
    "class CustomLoss(nn.Module):\n",
    "    def __init__(\n",
    "            self,\n",
    "            threshold: float = 0.3,\n",
    "            weight_max_error: float = 2,\n",
    "            weight_percentage_above_threshold:float = 3,\n",
    "            weight_wrong_sign: float = 1,\n",
    "            sigmoid_steepness: float = 100,\n",
    "    ) -> None:\n",
    "        super().__init__()\n",
    "        self.steepness = sigmoid_steepness\n",
    "        self.threshold = threshold\n",
    "        # Normalize weights and assign them\n",
    "        sum_weights = (\n",
    "            weight_max_error\n",
    "            + weight_percentage_above_threshold\n",
    "            + weight_wrong_sign\n",
    "        )\n",
    "        self.weight_max_error = (\n",
    "            weight_max_error / sum_weights\n",
    "        )\n",
    "        self.weight_percentage_above_threshold = (\n",
    "            weight_percentage_above_threshold / sum_weights\n",
    "        )\n",
    "        self.weight_wrong_sign = (\n",
    "            weight_wrong_sign / sum_weights\n",
    "        )\n",
    "\n",
    "    def forward(\n",
    "            self, \n",
    "            inputs: torch.Tensor, \n",
    "            targets: torch.Tensor,\n",
    "        ) -> torch.Tensor:\n",
    "\n",
    "        residuals = targets - inputs\n",
    "        # Maximum abs error\n",
    "        max_error = residuals.abs().max()\n",
    "\n",
    "        # Percentage of time above threshold value\n",
    "        percentage_of_time_above_x = (\n",
    "            1/(1+torch.e**(-self.steepness*(residuals.abs()-self.threshold)))\n",
    "        ).mean()\n",
    "\n",
    "        # Percentage of time wrong sign\n",
    "        loss_percentage_of_time_wrong_sign = (\n",
    "            1/(1+torch.e**(-self.steepness*(inputs*targets)))\n",
    "        )\n",
    "        \n",
    "        # Total loss\n",
    "        total_loss = (\n",
    "            self.weight_max_error * max_error\n",
    "            + self.weight_percentage_above_threshold * percentage_of_time_above_x\n",
    "            + self.weight_wrong_sign * loss_percentage_of_time_wrong_sign\n",
    "        )\n",
    "        return percentage_of_time_above_x"
   ]
  },
  {
   "cell_type": "code",
   "execution_count": 8,
   "metadata": {},
   "outputs": [],
   "source": [
    "class CustomDataset(Dataset):\n",
    "    def __init__(\n",
    "            self,\n",
    "            X: torch.Tensor,\n",
    "            y: torch.Tensor,\n",
    "        ) -> None:\n",
    "        self.X = X\n",
    "        self.y = y\n",
    "\n",
    "    def __len__(\n",
    "            self\n",
    "    ) -> int:\n",
    "        return self.X.shape[0]\n",
    "    \n",
    "    def __getitem__(\n",
    "            self,\n",
    "            idx: int,\n",
    "    ) -> Tuple[torch.Tensor, torch.Tensor]:\n",
    "        X_item = self.X[idx,:]\n",
    "        y_item = self.y[idx]\n",
    "        return X_item, y_item"
   ]
  },
  {
   "cell_type": "code",
   "execution_count": 9,
   "metadata": {},
   "outputs": [
    {
     "name": "stdout",
     "output_type": "stream",
     "text": [
      "Average epoch loss: 0.7387279734178802\n",
      "Epoch 0 done.\n",
      "Average epoch loss: 0.7305702490431156\n",
      "Epoch 1 done.\n",
      "Average epoch loss: 0.7222951591252796\n",
      "Epoch 2 done.\n",
      "Average epoch loss: 0.7133668655150408\n",
      "Epoch 3 done.\n",
      "Average epoch loss: 0.7026615778843097\n",
      "Epoch 4 done.\n",
      "Average epoch loss: 0.6909708274868898\n",
      "Epoch 5 done.\n",
      "Average epoch loss: 0.678041777796267\n",
      "Epoch 6 done.\n",
      "Average epoch loss: 0.6625545976218571\n",
      "Epoch 7 done.\n",
      "Average epoch loss: 0.6454553684224665\n",
      "Epoch 8 done.\n",
      "Average epoch loss: 0.62479743239155\n",
      "Epoch 9 done.\n",
      "Average epoch loss: 0.5986939884117533\n",
      "Epoch 10 done.\n",
      "Average epoch loss: 0.5639153707014938\n",
      "Epoch 11 done.\n",
      "Average epoch loss: 0.5151876770814754\n",
      "Epoch 12 done.\n",
      "Average epoch loss: 0.44980618797025584\n",
      "Epoch 13 done.\n",
      "Average epoch loss: 0.334912649820095\n",
      "Epoch 14 done.\n",
      "Average epoch loss: 0.1626605201395298\n",
      "Epoch 15 done.\n",
      "Average epoch loss: 0.025229118747941086\n",
      "Epoch 16 done.\n",
      "Average epoch loss: 0.002163916513218864\n",
      "Epoch 17 done.\n",
      "Average epoch loss: 0.000533696943042796\n",
      "Epoch 18 done.\n",
      "Average epoch loss: 0.0001686964470792092\n",
      "Epoch 19 done.\n",
      "Average epoch loss: 3.0340184591782578e-05\n",
      "Epoch 20 done.\n",
      "Average epoch loss: 8.893036875067217e-06\n",
      "Epoch 21 done.\n",
      "Average epoch loss: 4.610963918636796e-06\n",
      "Epoch 22 done.\n",
      "Average epoch loss: 2.672418421411231e-06\n",
      "Epoch 23 done.\n",
      "Average epoch loss: 1.603725951264607e-06\n",
      "Epoch 24 done.\n",
      "Average epoch loss: 9.605895762069808e-07\n",
      "Epoch 25 done.\n",
      "Average epoch loss: 6.084217882394969e-07\n",
      "Epoch 26 done.\n",
      "Average epoch loss: 3.829546257864804e-07\n",
      "Epoch 27 done.\n",
      "Average epoch loss: 2.3589056577756096e-07\n",
      "Epoch 28 done.\n",
      "Average epoch loss: 1.4695643714805832e-07\n",
      "Epoch 29 done.\n",
      "Average epoch loss: 9.2727191998024e-08\n",
      "Epoch 30 done.\n",
      "Average epoch loss: 5.983600259164721e-08\n",
      "Epoch 31 done.\n",
      "Average epoch loss: 3.841240130613539e-08\n",
      "Epoch 32 done.\n",
      "Average epoch loss: 2.421415535444647e-08\n",
      "Epoch 33 done.\n",
      "Average epoch loss: 1.4864884474682325e-08\n",
      "Epoch 34 done.\n",
      "Average epoch loss: 9.340983406524914e-09\n",
      "Epoch 35 done.\n",
      "Average epoch loss: 5.885914827765997e-09\n",
      "Epoch 36 done.\n",
      "Average epoch loss: 3.676013777724242e-09\n",
      "Epoch 37 done.\n",
      "Average epoch loss: 2.3164719621484035e-09\n",
      "Epoch 38 done.\n",
      "Average epoch loss: 1.4429884163061098e-09\n",
      "Epoch 39 done.\n",
      "Average epoch loss: 8.983275739263577e-10\n",
      "Epoch 40 done.\n",
      "Average epoch loss: 5.614036988493936e-10\n",
      "Epoch 41 done.\n",
      "Average epoch loss: 3.51545617486945e-10\n",
      "Epoch 42 done.\n",
      "Average epoch loss: 2.2098512459018727e-10\n",
      "Epoch 43 done.\n",
      "Average epoch loss: 1.386121532211962e-10\n",
      "Epoch 44 done.\n",
      "Average epoch loss: 8.695732313716179e-11\n",
      "Epoch 45 done.\n",
      "Average epoch loss: 5.501197599674997e-11\n",
      "Epoch 46 done.\n",
      "Average epoch loss: 3.4667288944570136e-11\n",
      "Epoch 47 done.\n",
      "Average epoch loss: 2.20318511613673e-11\n",
      "Epoch 48 done.\n",
      "Average epoch loss: 1.4092864516778775e-11\n",
      "Epoch 49 done.\n",
      "Average epoch loss: 9.175493672769192e-12\n",
      "Epoch 50 done.\n",
      "Average epoch loss: 6.0877459652809754e-12\n",
      "Epoch 51 done.\n",
      "Average epoch loss: 4.106506457736746e-12\n",
      "Epoch 52 done.\n",
      "Average epoch loss: 2.8332409359262557e-12\n",
      "Epoch 53 done.\n",
      "Average epoch loss: 2.0171762393759276e-12\n",
      "Epoch 54 done.\n",
      "Average epoch loss: 1.487990448317187e-12\n",
      "Epoch 55 done.\n",
      "Average epoch loss: 1.1401693530827733e-12\n",
      "Epoch 56 done.\n",
      "Average epoch loss: 9.06515595088808e-13\n",
      "Epoch 57 done.\n",
      "Average epoch loss: 7.459757644913295e-13\n",
      "Epoch 58 done.\n",
      "Average epoch loss: 6.326924512444489e-13\n",
      "Epoch 59 done.\n",
      "Average epoch loss: 5.501540942930579e-13\n",
      "Epoch 60 done.\n",
      "Average epoch loss: 4.881508825306577e-13\n",
      "Epoch 61 done.\n",
      "Average epoch loss: 4.4026284842667624e-13\n",
      "Epoch 62 done.\n",
      "Average epoch loss: 4.023997151013948e-13\n",
      "Epoch 63 done.\n",
      "Average epoch loss: 3.7169969769717577e-13\n",
      "Epoch 64 done.\n",
      "Average epoch loss: 3.463152200033162e-13\n",
      "Epoch 65 done.\n",
      "Average epoch loss: 3.249861548857344e-13\n",
      "Epoch 66 done.\n",
      "Average epoch loss: 3.0681723402664263e-13\n",
      "Epoch 67 done.\n",
      "Average epoch loss: 2.9109146207570255e-13\n",
      "Epoch 68 done.\n",
      "Average epoch loss: 2.773330124769851e-13\n",
      "Epoch 69 done.\n",
      "Average epoch loss: 2.6519177989332355e-13\n",
      "Epoch 70 done.\n",
      "Average epoch loss: 2.54398238773271e-13\n",
      "Epoch 71 done.\n",
      "Average epoch loss: 2.4473800273433466e-13\n",
      "Epoch 72 done.\n",
      "Average epoch loss: 2.3602825918728085e-13\n",
      "Epoch 73 done.\n",
      "Average epoch loss: 2.281281586166297e-13\n",
      "Epoch 74 done.\n",
      "Average epoch loss: 2.2091759369719487e-13\n",
      "Epoch 75 done.\n",
      "Average epoch loss: 2.1433854227528125e-13\n",
      "Epoch 76 done.\n",
      "Average epoch loss: 2.0824567040049217e-13\n",
      "Epoch 77 done.\n",
      "Average epoch loss: 2.0259902572471703e-13\n",
      "Epoch 78 done.\n",
      "Average epoch loss: 1.9733501748430367e-13\n",
      "Epoch 79 done.\n",
      "Average epoch loss: 1.924353285909199e-13\n",
      "Epoch 80 done.\n",
      "Average epoch loss: 1.8786789010246922e-13\n",
      "Epoch 81 done.\n",
      "Average epoch loss: 1.835718085880542e-13\n",
      "Epoch 82 done.\n",
      "Average epoch loss: 1.7953300753016702e-13\n",
      "Epoch 83 done.\n",
      "Average epoch loss: 1.7580461959117393e-13\n",
      "Epoch 84 done.\n",
      "Average epoch loss: 1.723291331637331e-13\n",
      "Epoch 85 done.\n",
      "Average epoch loss: 1.6906992571088801e-13\n",
      "Epoch 86 done.\n",
      "Average epoch loss: 1.660119877952473e-13\n",
      "Epoch 87 done.\n",
      "Average epoch loss: 1.6313795902972372e-13\n",
      "Epoch 88 done.\n",
      "Average epoch loss: 1.6039787687662157e-13\n",
      "Epoch 89 done.\n",
      "Average epoch loss: 1.5779817129785654e-13\n",
      "Epoch 90 done.\n",
      "Average epoch loss: 1.5533109483323485e-13\n",
      "Epoch 91 done.\n",
      "Average epoch loss: 1.5295770557796934e-13\n",
      "Epoch 92 done.\n",
      "Average epoch loss: 1.5068537209126933e-13\n",
      "Epoch 93 done.\n",
      "Average epoch loss: 1.484752517653672e-13\n",
      "Epoch 94 done.\n",
      "Average epoch loss: 1.4632088709239497e-13\n",
      "Epoch 95 done.\n",
      "Average epoch loss: 1.4424493407211929e-13\n",
      "Epoch 96 done.\n",
      "Average epoch loss: 1.4223134197452915e-13\n",
      "Epoch 97 done.\n",
      "Average epoch loss: 1.4027195318895055e-13\n",
      "Epoch 98 done.\n",
      "Average epoch loss: 1.3837455531086412e-13\n",
      "Epoch 99 done.\n"
     ]
    }
   ],
   "source": [
    "epochs = 100\n",
    "lr = 1e-4\n",
    "batch_size = 10\n",
    "\n",
    "dataloader = DataLoader(\n",
    "    CustomDataset(X,y),\n",
    "    batch_size=batch_size,\n",
    "    shuffle=True,\n",
    ")\n",
    "model = Model(10)\n",
    "optimizer = torch.optim.Adam(\n",
    "    model.parameters(),\n",
    "    lr = lr,\n",
    ")\n",
    "criterion = CustomLoss(\n",
    "    weight_wrong_sign=10,\n",
    "    weight_max_error=1,\n",
    "    weight_percentage_above_threshold=1,\n",
    ")\n",
    "for epoch in range(epochs):\n",
    "    epoch_loss = 0\n",
    "    for i,(X_batch, y_batch) in enumerate(dataloader):\n",
    "        prediction = model(X_batch)\n",
    "        optimizer.zero_grad()\n",
    "        loss = criterion(prediction, y_batch)\n",
    "        loss.backward()\n",
    "        optimizer.step()\n",
    "        epoch_loss += loss.item()\n",
    "        average_loss = epoch_loss/(i+1e-10)\n",
    "    print(f\"Average epoch loss: {average_loss}\")\n",
    "    print(f\"Epoch {epoch} done.\")"
   ]
  },
  {
   "cell_type": "code",
   "execution_count": 10,
   "metadata": {},
   "outputs": [
    {
     "data": {
      "text/plain": [
       "Parameter containing:\n",
       "tensor([[-1.4661e-04, -4.2382e-05, -5.5316e-04,  5.9068e-01,  3.3665e-01,\n",
       "         -5.8377e-04,  3.5941e-01,  1.2512e-01,  6.2731e-01, -2.5383e-04]],\n",
       "       requires_grad=True)"
      ]
     },
     "execution_count": 10,
     "metadata": {},
     "output_type": "execute_result"
    }
   ],
   "source": [
    "model.fc1.weight"
   ]
  },
  {
   "cell_type": "code",
   "execution_count": 11,
   "metadata": {},
   "outputs": [
    {
     "data": {
      "text/plain": [
       "array([-3.06058589e-16, -1.66533454e-16,  7.40578140e-17,  5.94118465e-01,\n",
       "        3.37884065e-01, -3.68313332e-16,  3.60265228e-01,  1.25244403e-01,\n",
       "        6.29419989e-01, -1.35217446e-16])"
      ]
     },
     "execution_count": 11,
     "metadata": {},
     "output_type": "execute_result"
    }
   ],
   "source": [
    "linear_regression.coef_"
   ]
  },
  {
   "cell_type": "markdown",
   "metadata": {},
   "source": [
    "# Tryout some loss functions"
   ]
  },
  {
   "cell_type": "code",
   "execution_count": 12,
   "metadata": {},
   "outputs": [],
   "source": [
    "pred = torch.rand(5, requires_grad=True) - 0.5\n",
    "real = torch.rand(5, requires_grad=True) - 0.5\n",
    "residuals = real - pred"
   ]
  },
  {
   "cell_type": "code",
   "execution_count": 13,
   "metadata": {},
   "outputs": [
    {
     "data": {
      "text/plain": [
       "tensor([ 0.4042,  0.0645, -0.6739, -0.1173, -0.7771], grad_fn=<SubBackward0>)"
      ]
     },
     "execution_count": 13,
     "metadata": {},
     "output_type": "execute_result"
    }
   ],
   "source": [
    "residuals"
   ]
  },
  {
   "cell_type": "code",
   "execution_count": 14,
   "metadata": {},
   "outputs": [
    {
     "data": {
      "text/plain": [
       "tensor([ 0.2399,  0.2546, -0.4177,  0.3813, -0.4837], grad_fn=<SubBackward0>)"
      ]
     },
     "execution_count": 14,
     "metadata": {},
     "output_type": "execute_result"
    }
   ],
   "source": [
    "real"
   ]
  },
  {
   "cell_type": "code",
   "execution_count": 15,
   "metadata": {},
   "outputs": [
    {
     "data": {
      "text/plain": [
       "tensor([-0.1643,  0.1901,  0.2562,  0.4986,  0.2934], grad_fn=<SubBackward0>)"
      ]
     },
     "execution_count": 15,
     "metadata": {},
     "output_type": "execute_result"
    }
   ],
   "source": [
    "pred"
   ]
  },
  {
   "cell_type": "code",
   "execution_count": 16,
   "metadata": {},
   "outputs": [
    {
     "data": {
      "text/plain": [
       "tensor([9.9997e-01, 5.9357e-11, 0.0000e+00, 7.5487e-19, 0.0000e+00],\n",
       "       grad_fn=<MulBackward0>)"
      ]
     },
     "execution_count": 16,
     "metadata": {},
     "output_type": "execute_result"
    }
   ],
   "source": [
    "steepness = 100 \n",
    "threshold = 0.3\n",
    "\n",
    "loss1 = 1/(1+torch.e**(-steepness*(residuals-threshold)))\n",
    "loss1"
   ]
  },
  {
   "cell_type": "code",
   "execution_count": 17,
   "metadata": {},
   "outputs": [
    {
     "data": {
      "text/plain": [
       "tensor([0., 1., 0., 1., 0.], grad_fn=<MulBackward0>)"
      ]
     },
     "execution_count": 17,
     "metadata": {},
     "output_type": "execute_result"
    }
   ],
   "source": [
    "signs = pred*real / (pred*real).abs()\n",
    "loss2 = 1/(1+torch.e**(-steepness*(signs)))\n",
    "loss2"
   ]
  },
  {
   "cell_type": "code",
   "execution_count": 18,
   "metadata": {},
   "outputs": [
    {
     "data": {
      "text/plain": [
       "tensor([-0.0394,  0.0484, -0.1070,  0.1901, -0.1419], grad_fn=<MulBackward0>)"
      ]
     },
     "execution_count": 18,
     "metadata": {},
     "output_type": "execute_result"
    }
   ],
   "source": [
    "pred*real "
   ]
  },
  {
   "cell_type": "code",
   "execution_count": null,
   "metadata": {},
   "outputs": [],
   "source": []
  }
 ],
 "metadata": {
  "kernelspec": {
   "display_name": "simplify-deployment-2FnGvFJr-py3.12",
   "language": "python",
   "name": "python3"
  },
  "language_info": {
   "codemirror_mode": {
    "name": "ipython",
    "version": 3
   },
   "file_extension": ".py",
   "mimetype": "text/x-python",
   "name": "python",
   "nbconvert_exporter": "python",
   "pygments_lexer": "ipython3",
   "version": "3.12.3"
  }
 },
 "nbformat": 4,
 "nbformat_minor": 2
}
