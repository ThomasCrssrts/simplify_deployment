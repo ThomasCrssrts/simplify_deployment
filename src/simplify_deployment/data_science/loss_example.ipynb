{
 "cells": [
  {
   "cell_type": "code",
   "execution_count": 87,
   "metadata": {},
   "outputs": [],
   "source": [
    "import pandas as pd\n",
    "import numpy as np\n",
    "import torch.nn as nn \n",
    "from sklearn.datasets import make_regression\n",
    "from torch.utils.data import Dataset, DataLoader\n",
    "import torch\n",
    "from typing import Tuple\n",
    "from sklearn.linear_model import LinearRegression\n",
    "from sklearn.preprocessing import StandardScaler\n"
   ]
  },
  {
   "cell_type": "code",
   "execution_count": 88,
   "metadata": {},
   "outputs": [
    {
     "data": {
      "text/plain": [
       "array([ 4.74936961e-01,  2.61417087e-01,  3.62929076e-02,  5.45608538e-01,\n",
       "        1.58928776e-16,  6.48266616e-01,  5.89720193e-16, -8.84876241e-17,\n",
       "       -1.00920016e-16,  2.44493610e-16])"
      ]
     },
     "execution_count": 88,
     "metadata": {},
     "output_type": "execute_result"
    }
   ],
   "source": [
    "# Make linear regression problem\n",
    "X_raw, y_raw = make_regression(\n",
    "    n_features=10,\n",
    "    n_informative=5,\n",
    "    n_samples=10000,\n",
    "\n",
    ")\n",
    "# Standard scale X and y\n",
    "X_scaler = StandardScaler()\n",
    "X_np = X_scaler.fit_transform(X_raw)\n",
    "\n",
    "y_scaler = StandardScaler()\n",
    "y_np = y_scaler.fit_transform(y_raw.reshape(-1,1)).flatten()\n",
    "\n",
    "# Fit a linear regression to check coef\n",
    "linear_regression = LinearRegression()\n",
    "linear_regression.fit(X_np, y_np)\n",
    "linear_regression.coef_"
   ]
  },
  {
   "cell_type": "code",
   "execution_count": 89,
   "metadata": {},
   "outputs": [],
   "source": [
    "X = torch.tensor(X_np, dtype=torch.float32)\n",
    "y = torch.tensor(y_np, dtype=torch.float32)"
   ]
  },
  {
   "cell_type": "code",
   "execution_count": 90,
   "metadata": {},
   "outputs": [
    {
     "data": {
      "text/plain": [
       "tensor([[-0.3932, -0.2430,  1.1028,  ..., -0.6886,  0.0074, -0.7459],\n",
       "        [-0.2960,  0.1223,  0.2751,  ...,  0.1748, -0.0868, -0.1728],\n",
       "        [-0.5495,  2.1534,  0.4155,  ..., -0.0296, -1.3600, -1.1377],\n",
       "        ...,\n",
       "        [-1.6305,  0.7473,  1.4869,  ..., -0.0668, -3.9125,  0.5599],\n",
       "        [ 0.9321, -0.0219,  1.3071,  ...,  0.9743, -0.1945,  0.2274],\n",
       "        [ 1.3765, -0.6308, -0.6520,  ...,  0.8862,  0.4011, -1.0510]])"
      ]
     },
     "execution_count": 90,
     "metadata": {},
     "output_type": "execute_result"
    }
   ],
   "source": [
    "X"
   ]
  },
  {
   "cell_type": "code",
   "execution_count": 91,
   "metadata": {},
   "outputs": [
    {
     "data": {
      "text/plain": [
       "tensor([ 0.5427,  0.5102,  1.1947,  ..., -0.5010,  1.6198, -0.8509])"
      ]
     },
     "execution_count": 91,
     "metadata": {},
     "output_type": "execute_result"
    }
   ],
   "source": [
    "y"
   ]
  },
  {
   "cell_type": "code",
   "execution_count": 92,
   "metadata": {},
   "outputs": [],
   "source": [
    "class Model(nn.Module):\n",
    "    def __init__(\n",
    "            self,\n",
    "            n_features: int,\n",
    "    ) -> None:\n",
    "        super().__init__()\n",
    "        self.fc1 = nn.Linear(\n",
    "            in_features=n_features,\n",
    "            out_features=1,\n",
    "        )\n",
    "\n",
    "    def forward(\n",
    "        self,  \n",
    "        X: torch.Tensor,  \n",
    "    ) -> torch.Tensor:\n",
    "        y = self.fc1(X)\n",
    "        return y.flatten()\n",
    "        "
   ]
  },
  {
   "cell_type": "code",
   "execution_count": 93,
   "metadata": {},
   "outputs": [],
   "source": [
    "class CustomLoss(nn.Module):\n",
    "    def __init__(\n",
    "            self,\n",
    "            threshold: float = 0.3,\n",
    "            weight_max_error: float = 2,\n",
    "            weight_percentage_above_threshold:float = 3,\n",
    "            weight_wrong_sign: float = 1,\n",
    "            sigmoid_steepness: float = 100,\n",
    "    ) -> None:\n",
    "        super().__init__()\n",
    "        self.steepness = sigmoid_steepness\n",
    "        self.threshold = threshold\n",
    "        # Normalize weights and assign them\n",
    "        sum_weights = (\n",
    "            weight_max_error\n",
    "            + weight_percentage_above_threshold\n",
    "            + weight_wrong_sign\n",
    "        )\n",
    "        self.weight_max_error = (\n",
    "            weight_max_error / sum_weights\n",
    "        )\n",
    "        self.weight_percentage_above_threshold = (\n",
    "            weight_percentage_above_threshold / sum_weights\n",
    "        )\n",
    "        self.weight_wrong_sign = (\n",
    "            weight_wrong_sign / sum_weights\n",
    "        )\n",
    "\n",
    "    def forward(\n",
    "            self, \n",
    "            inputs: torch.Tensor, \n",
    "            targets: torch.Tensor,\n",
    "        ) -> torch.Tensor:\n",
    "\n",
    "        residuals = targets - inputs\n",
    "        # Maximum abs error\n",
    "        max_error = residuals.abs().max()\n",
    "\n",
    "        # Percentage of time above threshold value\n",
    "        percentage_of_time_above_x = (\n",
    "            1/(1+torch.e**(-self.steepness*(residuals.abs()-self.threshold)))\n",
    "        ).mean()\n",
    "\n",
    "        # Percentage of time wrong sign\n",
    "        loss_percentage_of_time_wrong_sign = (\n",
    "            1/(1+torch.e**(-self.steepness*(inputs*targets)))\n",
    "        )\n",
    "        \n",
    "        # Total loss\n",
    "        total_loss = (\n",
    "            self.weight_max_error * max_error\n",
    "            + self.weight_percentage_above_threshold * percentage_of_time_above_x\n",
    "            + self.weight_wrong_sign * loss_percentage_of_time_wrong_sign\n",
    "        )\n",
    "        return percentage_of_time_above_x"
   ]
  },
  {
   "cell_type": "code",
   "execution_count": 94,
   "metadata": {},
   "outputs": [],
   "source": [
    "class CustomDataset(Dataset):\n",
    "    def __init__(\n",
    "            self,\n",
    "            X: torch.Tensor,\n",
    "            y: torch.Tensor,\n",
    "        ) -> None:\n",
    "        self.X = X\n",
    "        self.y = y\n",
    "\n",
    "    def __len__(\n",
    "            self\n",
    "    ) -> int:\n",
    "        return self.X.shape[0]\n",
    "    \n",
    "    def __getitem__(\n",
    "            self,\n",
    "            idx: int,\n",
    "    ) -> Tuple[torch.Tensor, torch.Tensor]:\n",
    "        X_item = self.X[idx,:]\n",
    "        y_item = self.y[idx]\n",
    "        return X_item, y_item"
   ]
  },
  {
   "cell_type": "code",
   "execution_count": 95,
   "metadata": {},
   "outputs": [
    {
     "name": "stdout",
     "output_type": "stream",
     "text": [
      "Average epoch loss: 0.8182144329711736\n",
      "Epoch 0 done.\n",
      "Average epoch loss: 0.8149967318897748\n",
      "Epoch 1 done.\n",
      "Average epoch loss: 0.8123250277012937\n",
      "Epoch 2 done.\n",
      "Average epoch loss: 0.8097737606640121\n",
      "Epoch 3 done.\n",
      "Average epoch loss: 0.8071333277332082\n",
      "Epoch 4 done.\n",
      "Average epoch loss: 0.804064040845021\n",
      "Epoch 5 done.\n",
      "Average epoch loss: 0.8006285315936187\n",
      "Epoch 6 done.\n",
      "Average epoch loss: 0.7971771978161751\n",
      "Epoch 7 done.\n",
      "Average epoch loss: 0.7937700289027628\n",
      "Epoch 8 done.\n",
      "Average epoch loss: 0.7901930313657278\n",
      "Epoch 9 done.\n",
      "Average epoch loss: 0.7868393306676499\n",
      "Epoch 10 done.\n",
      "Average epoch loss: 0.7836141368528198\n",
      "Epoch 11 done.\n",
      "Average epoch loss: 0.7804517789824166\n",
      "Epoch 12 done.\n",
      "Average epoch loss: 0.777001795288959\n",
      "Epoch 13 done.\n",
      "Average epoch loss: 0.7728257963546823\n",
      "Epoch 14 done.\n",
      "Average epoch loss: 0.7684251738262076\n",
      "Epoch 15 done.\n",
      "Average epoch loss: 0.7638290164706178\n",
      "Epoch 16 done.\n",
      "Average epoch loss: 0.758393551255533\n",
      "Epoch 17 done.\n",
      "Average epoch loss: 0.7527521804526246\n",
      "Epoch 18 done.\n",
      "Average epoch loss: 0.7466392502769662\n",
      "Epoch 19 done.\n",
      "Average epoch loss: 0.7403809133621759\n",
      "Epoch 20 done.\n",
      "Average epoch loss: 0.7334901788331826\n",
      "Epoch 21 done.\n",
      "Average epoch loss: 0.7259520762585294\n",
      "Epoch 22 done.\n",
      "Average epoch loss: 0.7175259512137123\n",
      "Epoch 23 done.\n",
      "Average epoch loss: 0.7084866612104808\n",
      "Epoch 24 done.\n",
      "Average epoch loss: 0.6985507017975948\n",
      "Epoch 25 done.\n",
      "Average epoch loss: 0.68646678941558\n",
      "Epoch 26 done.\n",
      "Average epoch loss: 0.6726386171799446\n",
      "Epoch 27 done.\n",
      "Average epoch loss: 0.6546648156654191\n",
      "Epoch 28 done.\n",
      "Average epoch loss: 0.6333476645392183\n",
      "Epoch 29 done.\n",
      "Average epoch loss: 0.6075147834957321\n",
      "Epoch 30 done.\n",
      "Average epoch loss: 0.5728550598964461\n",
      "Epoch 31 done.\n",
      "Average epoch loss: 0.5287190235114022\n",
      "Epoch 32 done.\n",
      "Average epoch loss: 0.47558372175140023\n",
      "Epoch 33 done.\n",
      "Average epoch loss: 0.3918064191528727\n",
      "Epoch 34 done.\n",
      "Average epoch loss: 0.23891614321879262\n",
      "Epoch 35 done.\n",
      "Average epoch loss: 0.05673659314925779\n",
      "Epoch 36 done.\n",
      "Average epoch loss: 0.00609533878729056\n",
      "Epoch 37 done.\n",
      "Average epoch loss: 0.001303588765577268\n",
      "Epoch 38 done.\n",
      "Average epoch loss: 0.0002669102177545801\n",
      "Epoch 39 done.\n",
      "Average epoch loss: 0.000119219187513981\n",
      "Epoch 40 done.\n",
      "Average epoch loss: 8.296449950609342e-05\n",
      "Epoch 41 done.\n",
      "Average epoch loss: 2.8874547714841107e-05\n",
      "Epoch 42 done.\n",
      "Average epoch loss: 3.426168052098357e-06\n",
      "Epoch 43 done.\n",
      "Average epoch loss: 2.174539098764545e-06\n",
      "Epoch 44 done.\n",
      "Average epoch loss: 1.3424773336267308e-06\n",
      "Epoch 45 done.\n",
      "Average epoch loss: 7.499472867168263e-07\n",
      "Epoch 46 done.\n",
      "Average epoch loss: 4.891596017322552e-07\n",
      "Epoch 47 done.\n",
      "Average epoch loss: 3.229195560545395e-07\n",
      "Epoch 48 done.\n",
      "Average epoch loss: 2.0897614083208026e-07\n",
      "Epoch 49 done.\n",
      "Average epoch loss: 1.3106153402467255e-07\n",
      "Epoch 50 done.\n",
      "Average epoch loss: 7.921229329981141e-08\n",
      "Epoch 51 done.\n",
      "Average epoch loss: 4.893767335092464e-08\n",
      "Epoch 52 done.\n",
      "Average epoch loss: 3.0866730342946793e-08\n",
      "Epoch 53 done.\n",
      "Average epoch loss: 1.9532659474003013e-08\n",
      "Epoch 54 done.\n",
      "Average epoch loss: 1.2244238881231696e-08\n",
      "Epoch 55 done.\n",
      "Average epoch loss: 7.575451793789062e-09\n",
      "Epoch 56 done.\n",
      "Average epoch loss: 4.576954162913449e-09\n",
      "Epoch 57 done.\n",
      "Average epoch loss: 2.671652769833944e-09\n",
      "Epoch 58 done.\n",
      "Average epoch loss: 1.6700171723024868e-09\n",
      "Epoch 59 done.\n",
      "Average epoch loss: 1.075115971821827e-09\n",
      "Epoch 60 done.\n",
      "Average epoch loss: 6.861134162890179e-10\n",
      "Epoch 61 done.\n",
      "Average epoch loss: 4.323189655161503e-10\n",
      "Epoch 62 done.\n",
      "Average epoch loss: 2.7526201229018973e-10\n",
      "Epoch 63 done.\n",
      "Average epoch loss: 1.7386910154742956e-10\n",
      "Epoch 64 done.\n",
      "Average epoch loss: 1.0700424401220408e-10\n",
      "Epoch 65 done.\n",
      "Average epoch loss: 6.904378428802003e-11\n",
      "Epoch 66 done.\n",
      "Average epoch loss: 4.4848177205134614e-11\n",
      "Epoch 67 done.\n",
      "Average epoch loss: 2.905599853746919e-11\n",
      "Epoch 68 done.\n",
      "Average epoch loss: 1.8787337057189043e-11\n",
      "Epoch 69 done.\n",
      "Average epoch loss: 1.2267899626646886e-11\n",
      "Epoch 70 done.\n",
      "Average epoch loss: 8.13915776362986e-12\n",
      "Epoch 71 done.\n",
      "Average epoch loss: 5.540863396548395e-12\n",
      "Epoch 72 done.\n",
      "Average epoch loss: 3.8408690436997415e-12\n",
      "Epoch 73 done.\n",
      "Average epoch loss: 2.707427857035826e-12\n",
      "Epoch 74 done.\n",
      "Average epoch loss: 1.95794913972985e-12\n",
      "Epoch 75 done.\n",
      "Average epoch loss: 1.4600135707181462e-12\n",
      "Epoch 76 done.\n",
      "Average epoch loss: 1.124279834479279e-12\n",
      "Epoch 77 done.\n",
      "Average epoch loss: 8.948828389711155e-13\n",
      "Epoch 78 done.\n",
      "Average epoch loss: 7.354315235191865e-13\n",
      "Epoch 79 done.\n",
      "Average epoch loss: 6.22144173016521e-13\n",
      "Epoch 80 done.\n",
      "Average epoch loss: 5.394483432423243e-13\n",
      "Epoch 81 done.\n",
      "Average epoch loss: 4.776296124951361e-13\n",
      "Epoch 82 done.\n",
      "Average epoch loss: 4.30040351395058e-13\n",
      "Epoch 83 done.\n",
      "Average epoch loss: 3.925862443143161e-13\n",
      "Epoch 84 done.\n",
      "Average epoch loss: 3.6242855792805424e-13\n",
      "Epoch 85 done.\n",
      "Average epoch loss: 3.375616285366448e-13\n",
      "Epoch 86 done.\n",
      "Average epoch loss: 3.167382782082971e-13\n",
      "Epoch 87 done.\n",
      "Average epoch loss: 2.9904757406083965e-13\n",
      "Epoch 88 done.\n",
      "Average epoch loss: 2.8379470214749474e-13\n",
      "Epoch 89 done.\n",
      "Average epoch loss: 2.705031121341261e-13\n",
      "Epoch 90 done.\n",
      "Average epoch loss: 2.5878556158469367e-13\n",
      "Epoch 91 done.\n",
      "Average epoch loss: 2.483875447157219e-13\n",
      "Epoch 92 done.\n",
      "Average epoch loss: 2.39054664231783e-13\n",
      "Epoch 93 done.\n",
      "Average epoch loss: 2.3064267141567575e-13\n",
      "Epoch 94 done.\n",
      "Average epoch loss: 2.2299846905231125e-13\n",
      "Epoch 95 done.\n",
      "Average epoch loss: 2.160344010511074e-13\n",
      "Epoch 96 done.\n",
      "Average epoch loss: 2.0966653669278327e-13\n",
      "Epoch 97 done.\n",
      "Average epoch loss: 2.037825227054676e-13\n",
      "Epoch 98 done.\n",
      "Average epoch loss: 1.9836463687401716e-13\n",
      "Epoch 99 done.\n"
     ]
    }
   ],
   "source": [
    "epochs = 100\n",
    "lr = 1e-4\n",
    "batch_size = 10\n",
    "\n",
    "dataloader = DataLoader(\n",
    "    CustomDataset(X,y),\n",
    "    batch_size=batch_size,\n",
    "    shuffle=True,\n",
    ")\n",
    "model = Model(10)\n",
    "optimizer = torch.optim.Adam(\n",
    "    model.parameters(),\n",
    "    lr = lr,\n",
    ")\n",
    "criterion = CustomLoss(\n",
    "    weight_wrong_sign=1,\n",
    "    weight_max_error=1,\n",
    "    weight_percentage_above_threshold=1,\n",
    ")\n",
    "for epoch in range(epochs):\n",
    "    epoch_loss = 0\n",
    "    for i,(X_batch, y_batch) in enumerate(dataloader):\n",
    "        prediction = model(X_batch)\n",
    "        optimizer.zero_grad()\n",
    "        loss = criterion(prediction, y_batch)\n",
    "        loss.backward()\n",
    "        optimizer.step()\n",
    "        epoch_loss += loss.item()\n",
    "        average_loss = epoch_loss/(i+1e-10)\n",
    "    print(f\"Average epoch loss: {average_loss}\")\n",
    "    print(f\"Epoch {epoch} done.\")"
   ]
  },
  {
   "cell_type": "code",
   "execution_count": 96,
   "metadata": {},
   "outputs": [
    {
     "data": {
      "text/plain": [
       "Parameter containing:\n",
       "tensor([[ 4.7258e-01,  2.5998e-01,  3.5086e-02,  5.4427e-01, -2.2798e-05,\n",
       "          6.4136e-01,  6.4996e-04, -7.9514e-05, -4.6952e-05,  3.3786e-04]],\n",
       "       requires_grad=True)"
      ]
     },
     "execution_count": 96,
     "metadata": {},
     "output_type": "execute_result"
    }
   ],
   "source": [
    "model.fc1.weight"
   ]
  },
  {
   "cell_type": "code",
   "execution_count": 97,
   "metadata": {},
   "outputs": [
    {
     "data": {
      "text/plain": [
       "array([ 4.74936961e-01,  2.61417087e-01,  3.62929076e-02,  5.45608538e-01,\n",
       "        1.58928776e-16,  6.48266616e-01,  5.89720193e-16, -8.84876241e-17,\n",
       "       -1.00920016e-16,  2.44493610e-16])"
      ]
     },
     "execution_count": 97,
     "metadata": {},
     "output_type": "execute_result"
    }
   ],
   "source": [
    "linear_regression.coef_"
   ]
  },
  {
   "cell_type": "markdown",
   "metadata": {},
   "source": [
    "# Tryout some loss functions"
   ]
  },
  {
   "cell_type": "code",
   "execution_count": 98,
   "metadata": {},
   "outputs": [],
   "source": [
    "pred = torch.rand(5, requires_grad=True) - 0.5\n",
    "real = torch.rand(5, requires_grad=True) - 0.5\n",
    "residuals = real - pred"
   ]
  },
  {
   "cell_type": "code",
   "execution_count": 99,
   "metadata": {},
   "outputs": [
    {
     "data": {
      "text/plain": [
       "tensor([ 0.3669,  0.8406, -0.3462,  0.2298, -0.3947], grad_fn=<SubBackward0>)"
      ]
     },
     "execution_count": 99,
     "metadata": {},
     "output_type": "execute_result"
    }
   ],
   "source": [
    "residuals"
   ]
  },
  {
   "cell_type": "code",
   "execution_count": 100,
   "metadata": {},
   "outputs": [
    {
     "data": {
      "text/plain": [
       "tensor([ 0.3021,  0.3909, -0.3320,  0.2157,  0.0452], grad_fn=<SubBackward0>)"
      ]
     },
     "execution_count": 100,
     "metadata": {},
     "output_type": "execute_result"
    }
   ],
   "source": [
    "real"
   ]
  },
  {
   "cell_type": "code",
   "execution_count": 101,
   "metadata": {},
   "outputs": [
    {
     "data": {
      "text/plain": [
       "tensor([-0.0648, -0.4497,  0.0142, -0.0141,  0.4399], grad_fn=<SubBackward0>)"
      ]
     },
     "execution_count": 101,
     "metadata": {},
     "output_type": "execute_result"
    }
   ],
   "source": [
    "pred"
   ]
  },
  {
   "cell_type": "code",
   "execution_count": 102,
   "metadata": {},
   "outputs": [
    {
     "data": {
      "text/plain": [
       "tensor([9.9876e-01, 1.0000e+00, 8.6509e-29, 8.9671e-04, 6.7491e-31],\n",
       "       grad_fn=<MulBackward0>)"
      ]
     },
     "execution_count": 102,
     "metadata": {},
     "output_type": "execute_result"
    }
   ],
   "source": [
    "steepness = 100 \n",
    "threshold = 0.3\n",
    "\n",
    "loss1 = 1/(1+torch.e**(-steepness*(residuals-threshold)))\n",
    "loss1"
   ]
  },
  {
   "cell_type": "code",
   "execution_count": 103,
   "metadata": {},
   "outputs": [
    {
     "data": {
      "text/plain": [
       "tensor([0., 0., 0., 0., 1.], grad_fn=<MulBackward0>)"
      ]
     },
     "execution_count": 103,
     "metadata": {},
     "output_type": "execute_result"
    }
   ],
   "source": [
    "signs = pred*real / (pred*real).abs()\n",
    "loss2 = 1/(1+torch.e**(-steepness*(signs)))\n",
    "loss2"
   ]
  },
  {
   "cell_type": "code",
   "execution_count": 104,
   "metadata": {},
   "outputs": [
    {
     "data": {
      "text/plain": [
       "tensor([-0.0196, -0.1758, -0.0047, -0.0030,  0.0199], grad_fn=<MulBackward0>)"
      ]
     },
     "execution_count": 104,
     "metadata": {},
     "output_type": "execute_result"
    }
   ],
   "source": [
    "pred*real "
   ]
  },
  {
   "cell_type": "code",
   "execution_count": null,
   "metadata": {},
   "outputs": [],
   "source": []
  }
 ],
 "metadata": {
  "kernelspec": {
   "display_name": "simplify-deployment-2FnGvFJr-py3.12",
   "language": "python",
   "name": "python3"
  },
  "language_info": {
   "codemirror_mode": {
    "name": "ipython",
    "version": 3
   },
   "file_extension": ".py",
   "mimetype": "text/x-python",
   "name": "python",
   "nbconvert_exporter": "python",
   "pygments_lexer": "ipython3",
   "version": "3.12.3"
  }
 },
 "nbformat": 4,
 "nbformat_minor": 2
}
