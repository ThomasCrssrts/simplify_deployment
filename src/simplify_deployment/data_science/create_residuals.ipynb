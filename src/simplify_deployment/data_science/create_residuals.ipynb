{
 "cells": [
  {
   "cell_type": "code",
   "execution_count": 13,
   "metadata": {},
   "outputs": [],
   "source": [
    "import pandas as pd\n",
    "import numpy as np\n",
    "\n"
   ]
  },
  {
   "cell_type": "code",
   "execution_count": 14,
   "metadata": {},
   "outputs": [
    {
     "data": {
      "text/html": [
       "<div>\n",
       "<style scoped>\n",
       "    .dataframe tbody tr th:only-of-type {\n",
       "        vertical-align: middle;\n",
       "    }\n",
       "\n",
       "    .dataframe tbody tr th {\n",
       "        vertical-align: top;\n",
       "    }\n",
       "\n",
       "    .dataframe thead th {\n",
       "        text-align: right;\n",
       "    }\n",
       "</style>\n",
       "<table border=\"1\" class=\"dataframe\">\n",
       "  <thead>\n",
       "    <tr style=\"text-align: right;\">\n",
       "      <th></th>\n",
       "      <th>y_pred</th>\n",
       "      <th>y_true</th>\n",
       "    </tr>\n",
       "  </thead>\n",
       "  <tbody>\n",
       "    <tr>\n",
       "      <th>2022-12-01 21:44:00+00:00</th>\n",
       "      <td>-5.485671</td>\n",
       "      <td>-45.005</td>\n",
       "    </tr>\n",
       "    <tr>\n",
       "      <th>2022-12-01 21:59:00+00:00</th>\n",
       "      <td>-43.889439</td>\n",
       "      <td>52.562</td>\n",
       "    </tr>\n",
       "    <tr>\n",
       "      <th>2022-12-01 22:14:00+00:00</th>\n",
       "      <td>63.038171</td>\n",
       "      <td>-140.732</td>\n",
       "    </tr>\n",
       "    <tr>\n",
       "      <th>2022-12-01 22:29:00+00:00</th>\n",
       "      <td>26.899498</td>\n",
       "      <td>-92.954</td>\n",
       "    </tr>\n",
       "    <tr>\n",
       "      <th>2022-12-01 22:44:00+00:00</th>\n",
       "      <td>-70.529247</td>\n",
       "      <td>-70.484</td>\n",
       "    </tr>\n",
       "    <tr>\n",
       "      <th>...</th>\n",
       "      <td>...</td>\n",
       "      <td>...</td>\n",
       "    </tr>\n",
       "    <tr>\n",
       "      <th>2023-10-31 21:29:00+00:00</th>\n",
       "      <td>71.002988</td>\n",
       "      <td>238.933</td>\n",
       "    </tr>\n",
       "    <tr>\n",
       "      <th>2023-10-31 21:44:00+00:00</th>\n",
       "      <td>93.505422</td>\n",
       "      <td>124.501</td>\n",
       "    </tr>\n",
       "    <tr>\n",
       "      <th>2023-10-31 21:59:00+00:00</th>\n",
       "      <td>89.748297</td>\n",
       "      <td>82.104</td>\n",
       "    </tr>\n",
       "    <tr>\n",
       "      <th>2023-10-31 22:14:00+00:00</th>\n",
       "      <td>95.703515</td>\n",
       "      <td>116.606</td>\n",
       "    </tr>\n",
       "    <tr>\n",
       "      <th>2023-10-31 22:29:00+00:00</th>\n",
       "      <td>90.319758</td>\n",
       "      <td>-22.183</td>\n",
       "    </tr>\n",
       "  </tbody>\n",
       "</table>\n",
       "<p>29960 rows × 2 columns</p>\n",
       "</div>"
      ],
      "text/plain": [
       "                              y_pred   y_true\n",
       "2022-12-01 21:44:00+00:00  -5.485671  -45.005\n",
       "2022-12-01 21:59:00+00:00 -43.889439   52.562\n",
       "2022-12-01 22:14:00+00:00  63.038171 -140.732\n",
       "2022-12-01 22:29:00+00:00  26.899498  -92.954\n",
       "2022-12-01 22:44:00+00:00 -70.529247  -70.484\n",
       "...                              ...      ...\n",
       "2023-10-31 21:29:00+00:00  71.002988  238.933\n",
       "2023-10-31 21:44:00+00:00  93.505422  124.501\n",
       "2023-10-31 21:59:00+00:00  89.748297   82.104\n",
       "2023-10-31 22:14:00+00:00  95.703515  116.606\n",
       "2023-10-31 22:29:00+00:00  90.319758  -22.183\n",
       "\n",
       "[29960 rows x 2 columns]"
      ]
     },
     "execution_count": 14,
     "metadata": {},
     "output_type": "execute_result"
    }
   ],
   "source": [
    "predictions = pd.read_parquet(\"/home/thomas/repos/simplify_deployment/data/simplify_1_0/predictions/s1_50_gen_parallel.parquet\")\n",
    "predictions"
   ]
  },
  {
   "cell_type": "code",
   "execution_count": 15,
   "metadata": {},
   "outputs": [],
   "source": [
    "residuals = predictions[\"y_true\"] - predictions[\"y_pred\"]\n",
    "residuals.name = \"residuals_s1_vars_50_gen\"\n",
    "residuals.to_frame().to_parquet(\"/home/thomas/repos/simplify_deployment/data/residuals/residuals_s1_50_gen_parallel.parquet\")\n"
   ]
  }
 ],
 "metadata": {
  "kernelspec": {
   "display_name": "simplify-deployment-2FnGvFJr-py3.12",
   "language": "python",
   "name": "python3"
  },
  "language_info": {
   "codemirror_mode": {
    "name": "ipython",
    "version": 3
   },
   "file_extension": ".py",
   "mimetype": "text/x-python",
   "name": "python",
   "nbconvert_exporter": "python",
   "pygments_lexer": "ipython3",
   "version": "3.12.3"
  }
 },
 "nbformat": 4,
 "nbformat_minor": 2
}
