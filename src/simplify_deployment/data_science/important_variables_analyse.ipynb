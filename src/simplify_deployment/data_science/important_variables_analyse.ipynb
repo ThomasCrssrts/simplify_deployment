{
 "cells": [
  {
   "cell_type": "code",
   "execution_count": 19,
   "metadata": {},
   "outputs": [],
   "source": [
    "import pandas as pd\n",
    "import numpy as np\n",
    "from sklearn.inspection import permutation_importance\n",
    "from simplify_deployment.organism import Organism\n",
    "from pathlib import Path\n",
    "from sklearn.linear_model import LinearRegression\n",
    "import plotly.express as px\n",
    "from functools import reduce\n",
    "from sklearn.metrics import mean_squared_error"
   ]
  },
  {
   "cell_type": "code",
   "execution_count": 20,
   "metadata": {},
   "outputs": [],
   "source": [
    "fold = 1"
   ]
  },
  {
   "cell_type": "code",
   "execution_count": 21,
   "metadata": {},
   "outputs": [],
   "source": [
    "org = Organism.from_yaml(\n",
    "    path_config=Path(\"/home/thomas/repos/simplify_deployment/data/data_science/50_gen_s1/lag_25_s1_config.yaml\"),\n",
    "    path_genome=Path(f\"/home/thomas/repos/simplify_deployment/data/data_science/50_gen_s1/best_genome/lag_25_s1_50_gen_fold_{fold}_best_genome.yaml\")\n",
    ")"
   ]
  },
  {
   "cell_type": "code",
   "execution_count": 22,
   "metadata": {},
   "outputs": [],
   "source": [
    "X_train = pd.read_parquet(f\"/home/thomas/repos/simplify_deployment/data/data_science/50_gen_s1/folds/X_train_fold_{fold}.parquet\")\n",
    "X_test = pd.read_parquet(f\"/home/thomas/repos/simplify_deployment/data/data_science/50_gen_s1/folds/X_test_fold_{fold}.parquet\")\n",
    "y_train = pd.read_parquet(f\"/home/thomas/repos/simplify_deployment/data/data_science/50_gen_s1/folds/y_train_fold_{fold}.parquet\")\n",
    "y_test = pd.read_parquet(f\"/home/thomas/repos/simplify_deployment/data/data_science/50_gen_s1/folds/y_test_fold_{fold}.parquet\")"
   ]
  },
  {
   "cell_type": "code",
   "execution_count": 23,
   "metadata": {},
   "outputs": [],
   "source": [
    "y_train_model, X_train_model = org.create_y_X(\n",
    "    y_train,\n",
    "    X_train,\n",
    ")\n",
    "# to create test for model we first glue all together so we don't lose any data\n",
    "y_test_model, X_test_model = org.create_y_X(\n",
    "    y_test,\n",
    "    X_test,\n",
    ")\n",
    "y_test_model = y_test_model.rename(\"y_true\")"
   ]
  },
  {
   "cell_type": "code",
   "execution_count": 24,
   "metadata": {},
   "outputs": [],
   "source": [
    "model = LinearRegression()\n",
    "model.fit(\n",
    "    X_train_model,\n",
    "    y_train_model,\n",
    ")\n",
    "importances_train = permutation_importance(\n",
    "    estimator = model,\n",
    "    X = X_train_model,\n",
    "    y = y_train_model,\n",
    "    scoring = \"neg_root_mean_squared_error\",\n",
    "    n_repeats = 100\n",
    ")\n",
    "importances_test = permutation_importance(\n",
    "    estimator = model,\n",
    "    X = X_test_model,\n",
    "    y = y_test_model,\n",
    "    scoring = \"neg_root_mean_squared_error\",\n",
    "    n_repeats = 100\n",
    ")\n",
    "\n"
   ]
  },
  {
   "cell_type": "code",
   "execution_count": 25,
   "metadata": {},
   "outputs": [
    {
     "data": {
      "text/html": [
       "<div>\n",
       "<style scoped>\n",
       "    .dataframe tbody tr th:only-of-type {\n",
       "        vertical-align: middle;\n",
       "    }\n",
       "\n",
       "    .dataframe tbody tr th {\n",
       "        vertical-align: top;\n",
       "    }\n",
       "\n",
       "    .dataframe thead th {\n",
       "        text-align: right;\n",
       "    }\n",
       "</style>\n",
       "<table border=\"1\" class=\"dataframe\">\n",
       "  <thead>\n",
       "    <tr style=\"text-align: right;\">\n",
       "      <th></th>\n",
       "      <th>variable</th>\n",
       "      <th>importance</th>\n",
       "    </tr>\n",
       "  </thead>\n",
       "  <tbody>\n",
       "    <tr>\n",
       "      <th>18</th>\n",
       "      <td>dsO_ID_MW_lag_10</td>\n",
       "      <td>5.169124e+02</td>\n",
       "    </tr>\n",
       "    <tr>\n",
       "      <th>19</th>\n",
       "      <td>dsO_ID_MW_lag_25</td>\n",
       "      <td>4.177875e+02</td>\n",
       "    </tr>\n",
       "    <tr>\n",
       "      <th>0</th>\n",
       "      <td>siCumulative_lag_25</td>\n",
       "      <td>3.093869e+02</td>\n",
       "    </tr>\n",
       "    <tr>\n",
       "      <th>1</th>\n",
       "      <td>siCumulative_lag_26</td>\n",
       "      <td>2.004231e+02</td>\n",
       "    </tr>\n",
       "    <tr>\n",
       "      <th>24</th>\n",
       "      <td>xB_ID_MW_lag_25</td>\n",
       "      <td>1.802449e+02</td>\n",
       "    </tr>\n",
       "    <tr>\n",
       "      <th>...</th>\n",
       "      <td>...</td>\n",
       "      <td>...</td>\n",
       "    </tr>\n",
       "    <tr>\n",
       "      <th>35</th>\n",
       "      <td>siCumulative_band_pass_1_0_h_lag_1952</td>\n",
       "      <td>5.961457e-05</td>\n",
       "    </tr>\n",
       "    <tr>\n",
       "      <th>75</th>\n",
       "      <td>siCumulative_second_derivative_lag_213</td>\n",
       "      <td>5.862118e-05</td>\n",
       "    </tr>\n",
       "    <tr>\n",
       "      <th>70</th>\n",
       "      <td>siCumulative_first_derivative_lag_1520</td>\n",
       "      <td>3.319611e-05</td>\n",
       "    </tr>\n",
       "    <tr>\n",
       "      <th>80</th>\n",
       "      <td>siCumulative_second_derivative_lag_1597</td>\n",
       "      <td>3.185804e-06</td>\n",
       "    </tr>\n",
       "    <tr>\n",
       "      <th>41</th>\n",
       "      <td>siCumulative_band_pass_0_25_h_lag_2658</td>\n",
       "      <td>-2.641775e-07</td>\n",
       "    </tr>\n",
       "  </tbody>\n",
       "</table>\n",
       "<p>84 rows × 2 columns</p>\n",
       "</div>"
      ],
      "text/plain": [
       "                                   variable    importance\n",
       "18                         dsO_ID_MW_lag_10  5.169124e+02\n",
       "19                         dsO_ID_MW_lag_25  4.177875e+02\n",
       "0                       siCumulative_lag_25  3.093869e+02\n",
       "1                       siCumulative_lag_26  2.004231e+02\n",
       "24                          xB_ID_MW_lag_25  1.802449e+02\n",
       "..                                      ...           ...\n",
       "35    siCumulative_band_pass_1_0_h_lag_1952  5.961457e-05\n",
       "75   siCumulative_second_derivative_lag_213  5.862118e-05\n",
       "70   siCumulative_first_derivative_lag_1520  3.319611e-05\n",
       "80  siCumulative_second_derivative_lag_1597  3.185804e-06\n",
       "41   siCumulative_band_pass_0_25_h_lag_2658 -2.641775e-07\n",
       "\n",
       "[84 rows x 2 columns]"
      ]
     },
     "execution_count": 25,
     "metadata": {},
     "output_type": "execute_result"
    }
   ],
   "source": [
    "importance_df_train = pd.DataFrame(\n",
    "    {\n",
    "        \"variable\": X_train_model.columns,\n",
    "        \"importance\": importances_train[\"importances_mean\"]\n",
    "    }\n",
    ")\n",
    "importance_df_train = importance_df_train.sort_values(by = \"importance\", ascending = False)\n",
    "importance_df_train"
   ]
  },
  {
   "cell_type": "code",
   "execution_count": 26,
   "metadata": {},
   "outputs": [
    {
     "data": {
      "application/vnd.plotly.v1+json": {
       "config": {
        "plotlyServerURL": "https://plot.ly"
       },
       "data": [
        {
         "alignmentgroup": "True",
         "hovertemplate": "variable=%{x}<br>importance=%{y}<extra></extra>",
         "legendgroup": "",
         "marker": {
          "color": "#636efa",
          "pattern": {
           "shape": ""
          }
         },
         "name": "",
         "offsetgroup": "",
         "orientation": "v",
         "showlegend": false,
         "textposition": "auto",
         "type": "bar",
         "x": [
          "dsO_ID_MW_lag_10",
          "dsO_ID_MW_lag_25",
          "siCumulative_lag_25",
          "siCumulative_lag_26",
          "xB_ID_MW_lag_25",
          "xB_ID_MW_lag_10",
          "dsO_ID_MW_lag_-20",
          "loaD_ID_MW_lag_10",
          "loaD_ID_MW_lag_25",
          "siCumulative_lag_61",
          "dsO_ID_MW_lag_70",
          "dsO_ID_MW_lag_85",
          "loaD_ID_MW_lag_55",
          "xB_ID_MW_lag_55",
          "loaD_ID_MW_lag_85",
          "siCumulative_cumsum_during_quarter_lag_37",
          "siCumulative_lag_64",
          "siCumulative_band_pass_12_0_h_lag_389",
          "siCumulative_low_pass_0_25_h_lag_288",
          "siCumulative_low_pass_24_0_h_lag_1822",
          "xB_ID_MW_lag_-20",
          "loaD_ID_MW_lag_-20",
          "siCumulative_band_pass_12_0_h_lag_2855",
          "siCumulative_low_pass_24_0_h_lag_1879",
          "siCumulative_high_pass_24_0_h_lag_294",
          "siCumulative_lag_28",
          "siCumulative_low_pass_12_0_h_lag_496",
          "xB_ID_MW_lag_70",
          "siCumulative_lag_27",
          "siCumulative_first_derivative_lag_30",
          "siCumulative_band_pass_1_0_h_lag_1174",
          "siCumulative_band_pass_12_0_h_lag_2657",
          "siCumulative_band_pass_24_0_h_lag_2691",
          "siCumulative_first_derivative_lag_45",
          "siCumulative_high_pass_24_0_h_lag_1468",
          "siCumulative_low_pass_24_0_h_lag_1148",
          "siCumulative_band_pass_24_0_h_lag_2523",
          "siCumulative_high_pass_1_0_h_lag_825",
          "siCumulative_lag_1404",
          "siCumulative_low_pass_0_25_h_lag_2833",
          "siCumulative_lag_325",
          "siCumulative_low_pass_24_0_h_lag_2125",
          "siCumulative_second_derivative_lag_236",
          "siCumulative_low_pass_24_0_h_lag_2588",
          "siCumulative_lag_693",
          "siCumulative_high_pass_24_0_h_lag_1626",
          "siCumulative_low_pass_12_0_h_lag_2431",
          "siCumulative_low_pass_24_0_h_lag_1946",
          "siCumulative_lag_1395",
          "siCumulative_band_pass_1_0_h_lag_779",
          "siCumulative_first_derivative_lag_2440",
          "siCumulative_low_pass_12_0_h_lag_943",
          "siCumulative_band_pass_1_0_h_lag_2852",
          "siCumulative_high_pass_12_0_h_lag_764",
          "siCumulative_band_pass_1_0_h_lag_2832",
          "siCumulative_lag_1401",
          "siCumulative_lag_371",
          "siCumulative_first_derivative_lag_1604",
          "siCumulative_second_derivative_lag_528",
          "siCumulative_high_pass_1_0_h_lag_1859",
          "siCumulative_second_derivative_lag_427",
          "siCumulative_band_pass_24_0_h_lag_614",
          "siCumulative_low_pass_0_25_h_lag_2603",
          "siCumulative_high_pass_0_25_h_lag_121",
          "siCumulative_band_pass_1_0_h_lag_2657",
          "siCumulative_low_pass_12_0_h_lag_836",
          "siCumulative_band_pass_0_25_h_lag_1178",
          "siCumulative_band_pass_0_25_h_lag_2199",
          "siCumulative_first_derivative_lag_1976",
          "siCumulative_low_pass_1_0_h_lag_1943",
          "siCumulative_high_pass_1_0_h_lag_1869",
          "siCumulative_first_derivative_lag_2547",
          "siCumulative_second_derivative_lag_794",
          "siCumulative_cumsum_during_quarter_lag_1971",
          "siCumulative_high_pass_1_0_h_lag_205",
          "siCumulative_cumsum_during_quarter_lag_1608",
          "siCumulative_high_pass_1_0_h_lag_2679",
          "siCumulative_low_pass_1_0_h_lag_2716",
          "siCumulative_high_pass_12_0_h_lag_1671",
          "siCumulative_band_pass_1_0_h_lag_1952",
          "siCumulative_second_derivative_lag_213",
          "siCumulative_first_derivative_lag_1520",
          "siCumulative_second_derivative_lag_1597",
          "siCumulative_band_pass_0_25_h_lag_2658"
         ],
         "xaxis": "x",
         "y": [
          516.9123994524241,
          417.7874937788742,
          309.3868980550939,
          200.42307439211046,
          180.2449001782358,
          166.32889981569457,
          107.4211241856382,
          69.93094405312998,
          48.03072622915,
          18.786503021283192,
          9.372588508574584,
          7.9207490655606545,
          6.662256026117668,
          6.266251010371811,
          6.0423666477355695,
          4.163552536260502,
          3.2688408472204107,
          3.057220934774554,
          2.1090669420642154,
          1.484146553147875,
          1.483691602022684,
          1.4734475615489402,
          1.3975125248248623,
          1.381323174105808,
          0.887999213136516,
          0.7198877107153746,
          0.35744620328469096,
          0.35069567990034956,
          0.285188917910165,
          0.2294136067101877,
          0.2093668203417755,
          0.19167233789392754,
          0.17084888429575387,
          0.1383736851029235,
          0.13281710915383457,
          0.11803029727263123,
          0.11510581464545794,
          0.1108559572741325,
          0.10951519775317423,
          0.0948766195587072,
          0.0823196565850131,
          0.07752202857697199,
          0.06794177492689812,
          0.06354196994655836,
          0.06295539463629865,
          0.06007448913854091,
          0.058062577539344885,
          0.055184044275249845,
          0.05318320900217373,
          0.047510143851406214,
          0.04373574378829659,
          0.03875787062390515,
          0.03719862415682854,
          0.028718689226031414,
          0.025757813781444837,
          0.024912744932916838,
          0.018288371440594062,
          0.017358635177925238,
          0.016327919497340134,
          0.013762501969144409,
          0.013367775199944277,
          0.012516535291929927,
          0.01046654381280291,
          0.009156867243417537,
          0.006923290828256938,
          0.006253475165352427,
          0.005117186751232339,
          0.005011202379144208,
          0.004867201743224427,
          0.003846483051079872,
          0.003583484856206951,
          0.003293965946325841,
          0.0029535104510185306,
          0.0013487417610019746,
          0.0011289064729777464,
          0.0007701912034414704,
          0.0005126185405961792,
          0.0003436267511719393,
          0.00009136994870459603,
          0.00005961457102955592,
          0.000058621177475117745,
          0.00003319611179392723,
          0.000003185804202416875,
          -2.641774861444901e-7
         ],
         "yaxis": "y"
        }
       ],
       "layout": {
        "barmode": "relative",
        "legend": {
         "tracegroupgap": 0
        },
        "margin": {
         "t": 60
        },
        "template": {
         "data": {
          "bar": [
           {
            "error_x": {
             "color": "#2a3f5f"
            },
            "error_y": {
             "color": "#2a3f5f"
            },
            "marker": {
             "line": {
              "color": "#E5ECF6",
              "width": 0.5
             },
             "pattern": {
              "fillmode": "overlay",
              "size": 10,
              "solidity": 0.2
             }
            },
            "type": "bar"
           }
          ],
          "barpolar": [
           {
            "marker": {
             "line": {
              "color": "#E5ECF6",
              "width": 0.5
             },
             "pattern": {
              "fillmode": "overlay",
              "size": 10,
              "solidity": 0.2
             }
            },
            "type": "barpolar"
           }
          ],
          "carpet": [
           {
            "aaxis": {
             "endlinecolor": "#2a3f5f",
             "gridcolor": "white",
             "linecolor": "white",
             "minorgridcolor": "white",
             "startlinecolor": "#2a3f5f"
            },
            "baxis": {
             "endlinecolor": "#2a3f5f",
             "gridcolor": "white",
             "linecolor": "white",
             "minorgridcolor": "white",
             "startlinecolor": "#2a3f5f"
            },
            "type": "carpet"
           }
          ],
          "choropleth": [
           {
            "colorbar": {
             "outlinewidth": 0,
             "ticks": ""
            },
            "type": "choropleth"
           }
          ],
          "contour": [
           {
            "colorbar": {
             "outlinewidth": 0,
             "ticks": ""
            },
            "colorscale": [
             [
              0,
              "#0d0887"
             ],
             [
              0.1111111111111111,
              "#46039f"
             ],
             [
              0.2222222222222222,
              "#7201a8"
             ],
             [
              0.3333333333333333,
              "#9c179e"
             ],
             [
              0.4444444444444444,
              "#bd3786"
             ],
             [
              0.5555555555555556,
              "#d8576b"
             ],
             [
              0.6666666666666666,
              "#ed7953"
             ],
             [
              0.7777777777777778,
              "#fb9f3a"
             ],
             [
              0.8888888888888888,
              "#fdca26"
             ],
             [
              1,
              "#f0f921"
             ]
            ],
            "type": "contour"
           }
          ],
          "contourcarpet": [
           {
            "colorbar": {
             "outlinewidth": 0,
             "ticks": ""
            },
            "type": "contourcarpet"
           }
          ],
          "heatmap": [
           {
            "colorbar": {
             "outlinewidth": 0,
             "ticks": ""
            },
            "colorscale": [
             [
              0,
              "#0d0887"
             ],
             [
              0.1111111111111111,
              "#46039f"
             ],
             [
              0.2222222222222222,
              "#7201a8"
             ],
             [
              0.3333333333333333,
              "#9c179e"
             ],
             [
              0.4444444444444444,
              "#bd3786"
             ],
             [
              0.5555555555555556,
              "#d8576b"
             ],
             [
              0.6666666666666666,
              "#ed7953"
             ],
             [
              0.7777777777777778,
              "#fb9f3a"
             ],
             [
              0.8888888888888888,
              "#fdca26"
             ],
             [
              1,
              "#f0f921"
             ]
            ],
            "type": "heatmap"
           }
          ],
          "heatmapgl": [
           {
            "colorbar": {
             "outlinewidth": 0,
             "ticks": ""
            },
            "colorscale": [
             [
              0,
              "#0d0887"
             ],
             [
              0.1111111111111111,
              "#46039f"
             ],
             [
              0.2222222222222222,
              "#7201a8"
             ],
             [
              0.3333333333333333,
              "#9c179e"
             ],
             [
              0.4444444444444444,
              "#bd3786"
             ],
             [
              0.5555555555555556,
              "#d8576b"
             ],
             [
              0.6666666666666666,
              "#ed7953"
             ],
             [
              0.7777777777777778,
              "#fb9f3a"
             ],
             [
              0.8888888888888888,
              "#fdca26"
             ],
             [
              1,
              "#f0f921"
             ]
            ],
            "type": "heatmapgl"
           }
          ],
          "histogram": [
           {
            "marker": {
             "pattern": {
              "fillmode": "overlay",
              "size": 10,
              "solidity": 0.2
             }
            },
            "type": "histogram"
           }
          ],
          "histogram2d": [
           {
            "colorbar": {
             "outlinewidth": 0,
             "ticks": ""
            },
            "colorscale": [
             [
              0,
              "#0d0887"
             ],
             [
              0.1111111111111111,
              "#46039f"
             ],
             [
              0.2222222222222222,
              "#7201a8"
             ],
             [
              0.3333333333333333,
              "#9c179e"
             ],
             [
              0.4444444444444444,
              "#bd3786"
             ],
             [
              0.5555555555555556,
              "#d8576b"
             ],
             [
              0.6666666666666666,
              "#ed7953"
             ],
             [
              0.7777777777777778,
              "#fb9f3a"
             ],
             [
              0.8888888888888888,
              "#fdca26"
             ],
             [
              1,
              "#f0f921"
             ]
            ],
            "type": "histogram2d"
           }
          ],
          "histogram2dcontour": [
           {
            "colorbar": {
             "outlinewidth": 0,
             "ticks": ""
            },
            "colorscale": [
             [
              0,
              "#0d0887"
             ],
             [
              0.1111111111111111,
              "#46039f"
             ],
             [
              0.2222222222222222,
              "#7201a8"
             ],
             [
              0.3333333333333333,
              "#9c179e"
             ],
             [
              0.4444444444444444,
              "#bd3786"
             ],
             [
              0.5555555555555556,
              "#d8576b"
             ],
             [
              0.6666666666666666,
              "#ed7953"
             ],
             [
              0.7777777777777778,
              "#fb9f3a"
             ],
             [
              0.8888888888888888,
              "#fdca26"
             ],
             [
              1,
              "#f0f921"
             ]
            ],
            "type": "histogram2dcontour"
           }
          ],
          "mesh3d": [
           {
            "colorbar": {
             "outlinewidth": 0,
             "ticks": ""
            },
            "type": "mesh3d"
           }
          ],
          "parcoords": [
           {
            "line": {
             "colorbar": {
              "outlinewidth": 0,
              "ticks": ""
             }
            },
            "type": "parcoords"
           }
          ],
          "pie": [
           {
            "automargin": true,
            "type": "pie"
           }
          ],
          "scatter": [
           {
            "fillpattern": {
             "fillmode": "overlay",
             "size": 10,
             "solidity": 0.2
            },
            "type": "scatter"
           }
          ],
          "scatter3d": [
           {
            "line": {
             "colorbar": {
              "outlinewidth": 0,
              "ticks": ""
             }
            },
            "marker": {
             "colorbar": {
              "outlinewidth": 0,
              "ticks": ""
             }
            },
            "type": "scatter3d"
           }
          ],
          "scattercarpet": [
           {
            "marker": {
             "colorbar": {
              "outlinewidth": 0,
              "ticks": ""
             }
            },
            "type": "scattercarpet"
           }
          ],
          "scattergeo": [
           {
            "marker": {
             "colorbar": {
              "outlinewidth": 0,
              "ticks": ""
             }
            },
            "type": "scattergeo"
           }
          ],
          "scattergl": [
           {
            "marker": {
             "colorbar": {
              "outlinewidth": 0,
              "ticks": ""
             }
            },
            "type": "scattergl"
           }
          ],
          "scattermapbox": [
           {
            "marker": {
             "colorbar": {
              "outlinewidth": 0,
              "ticks": ""
             }
            },
            "type": "scattermapbox"
           }
          ],
          "scatterpolar": [
           {
            "marker": {
             "colorbar": {
              "outlinewidth": 0,
              "ticks": ""
             }
            },
            "type": "scatterpolar"
           }
          ],
          "scatterpolargl": [
           {
            "marker": {
             "colorbar": {
              "outlinewidth": 0,
              "ticks": ""
             }
            },
            "type": "scatterpolargl"
           }
          ],
          "scatterternary": [
           {
            "marker": {
             "colorbar": {
              "outlinewidth": 0,
              "ticks": ""
             }
            },
            "type": "scatterternary"
           }
          ],
          "surface": [
           {
            "colorbar": {
             "outlinewidth": 0,
             "ticks": ""
            },
            "colorscale": [
             [
              0,
              "#0d0887"
             ],
             [
              0.1111111111111111,
              "#46039f"
             ],
             [
              0.2222222222222222,
              "#7201a8"
             ],
             [
              0.3333333333333333,
              "#9c179e"
             ],
             [
              0.4444444444444444,
              "#bd3786"
             ],
             [
              0.5555555555555556,
              "#d8576b"
             ],
             [
              0.6666666666666666,
              "#ed7953"
             ],
             [
              0.7777777777777778,
              "#fb9f3a"
             ],
             [
              0.8888888888888888,
              "#fdca26"
             ],
             [
              1,
              "#f0f921"
             ]
            ],
            "type": "surface"
           }
          ],
          "table": [
           {
            "cells": {
             "fill": {
              "color": "#EBF0F8"
             },
             "line": {
              "color": "white"
             }
            },
            "header": {
             "fill": {
              "color": "#C8D4E3"
             },
             "line": {
              "color": "white"
             }
            },
            "type": "table"
           }
          ]
         },
         "layout": {
          "annotationdefaults": {
           "arrowcolor": "#2a3f5f",
           "arrowhead": 0,
           "arrowwidth": 1
          },
          "autotypenumbers": "strict",
          "coloraxis": {
           "colorbar": {
            "outlinewidth": 0,
            "ticks": ""
           }
          },
          "colorscale": {
           "diverging": [
            [
             0,
             "#8e0152"
            ],
            [
             0.1,
             "#c51b7d"
            ],
            [
             0.2,
             "#de77ae"
            ],
            [
             0.3,
             "#f1b6da"
            ],
            [
             0.4,
             "#fde0ef"
            ],
            [
             0.5,
             "#f7f7f7"
            ],
            [
             0.6,
             "#e6f5d0"
            ],
            [
             0.7,
             "#b8e186"
            ],
            [
             0.8,
             "#7fbc41"
            ],
            [
             0.9,
             "#4d9221"
            ],
            [
             1,
             "#276419"
            ]
           ],
           "sequential": [
            [
             0,
             "#0d0887"
            ],
            [
             0.1111111111111111,
             "#46039f"
            ],
            [
             0.2222222222222222,
             "#7201a8"
            ],
            [
             0.3333333333333333,
             "#9c179e"
            ],
            [
             0.4444444444444444,
             "#bd3786"
            ],
            [
             0.5555555555555556,
             "#d8576b"
            ],
            [
             0.6666666666666666,
             "#ed7953"
            ],
            [
             0.7777777777777778,
             "#fb9f3a"
            ],
            [
             0.8888888888888888,
             "#fdca26"
            ],
            [
             1,
             "#f0f921"
            ]
           ],
           "sequentialminus": [
            [
             0,
             "#0d0887"
            ],
            [
             0.1111111111111111,
             "#46039f"
            ],
            [
             0.2222222222222222,
             "#7201a8"
            ],
            [
             0.3333333333333333,
             "#9c179e"
            ],
            [
             0.4444444444444444,
             "#bd3786"
            ],
            [
             0.5555555555555556,
             "#d8576b"
            ],
            [
             0.6666666666666666,
             "#ed7953"
            ],
            [
             0.7777777777777778,
             "#fb9f3a"
            ],
            [
             0.8888888888888888,
             "#fdca26"
            ],
            [
             1,
             "#f0f921"
            ]
           ]
          },
          "colorway": [
           "#636efa",
           "#EF553B",
           "#00cc96",
           "#ab63fa",
           "#FFA15A",
           "#19d3f3",
           "#FF6692",
           "#B6E880",
           "#FF97FF",
           "#FECB52"
          ],
          "font": {
           "color": "#2a3f5f"
          },
          "geo": {
           "bgcolor": "white",
           "lakecolor": "white",
           "landcolor": "#E5ECF6",
           "showlakes": true,
           "showland": true,
           "subunitcolor": "white"
          },
          "hoverlabel": {
           "align": "left"
          },
          "hovermode": "closest",
          "mapbox": {
           "style": "light"
          },
          "paper_bgcolor": "white",
          "plot_bgcolor": "#E5ECF6",
          "polar": {
           "angularaxis": {
            "gridcolor": "white",
            "linecolor": "white",
            "ticks": ""
           },
           "bgcolor": "#E5ECF6",
           "radialaxis": {
            "gridcolor": "white",
            "linecolor": "white",
            "ticks": ""
           }
          },
          "scene": {
           "xaxis": {
            "backgroundcolor": "#E5ECF6",
            "gridcolor": "white",
            "gridwidth": 2,
            "linecolor": "white",
            "showbackground": true,
            "ticks": "",
            "zerolinecolor": "white"
           },
           "yaxis": {
            "backgroundcolor": "#E5ECF6",
            "gridcolor": "white",
            "gridwidth": 2,
            "linecolor": "white",
            "showbackground": true,
            "ticks": "",
            "zerolinecolor": "white"
           },
           "zaxis": {
            "backgroundcolor": "#E5ECF6",
            "gridcolor": "white",
            "gridwidth": 2,
            "linecolor": "white",
            "showbackground": true,
            "ticks": "",
            "zerolinecolor": "white"
           }
          },
          "shapedefaults": {
           "line": {
            "color": "#2a3f5f"
           }
          },
          "ternary": {
           "aaxis": {
            "gridcolor": "white",
            "linecolor": "white",
            "ticks": ""
           },
           "baxis": {
            "gridcolor": "white",
            "linecolor": "white",
            "ticks": ""
           },
           "bgcolor": "#E5ECF6",
           "caxis": {
            "gridcolor": "white",
            "linecolor": "white",
            "ticks": ""
           }
          },
          "title": {
           "x": 0.05
          },
          "xaxis": {
           "automargin": true,
           "gridcolor": "white",
           "linecolor": "white",
           "ticks": "",
           "title": {
            "standoff": 15
           },
           "zerolinecolor": "white",
           "zerolinewidth": 2
          },
          "yaxis": {
           "automargin": true,
           "gridcolor": "white",
           "linecolor": "white",
           "ticks": "",
           "title": {
            "standoff": 15
           },
           "zerolinecolor": "white",
           "zerolinewidth": 2
          }
         }
        },
        "xaxis": {
         "anchor": "y",
         "domain": [
          0,
          1
         ],
         "title": {
          "text": "variable"
         }
        },
        "yaxis": {
         "anchor": "x",
         "domain": [
          0,
          1
         ],
         "title": {
          "text": "importance"
         }
        }
       }
      },
      "text/html": [
       "<div>                            <div id=\"035445f5-f22b-4e5b-b976-d23667fd3068\" class=\"plotly-graph-div\" style=\"height:525px; width:100%;\"></div>            <script type=\"text/javascript\">                require([\"plotly\"], function(Plotly) {                    window.PLOTLYENV=window.PLOTLYENV || {};                                    if (document.getElementById(\"035445f5-f22b-4e5b-b976-d23667fd3068\")) {                    Plotly.newPlot(                        \"035445f5-f22b-4e5b-b976-d23667fd3068\",                        [{\"alignmentgroup\":\"True\",\"hovertemplate\":\"variable=%{x}\\u003cbr\\u003eimportance=%{y}\\u003cextra\\u003e\\u003c\\u002fextra\\u003e\",\"legendgroup\":\"\",\"marker\":{\"color\":\"#636efa\",\"pattern\":{\"shape\":\"\"}},\"name\":\"\",\"offsetgroup\":\"\",\"orientation\":\"v\",\"showlegend\":false,\"textposition\":\"auto\",\"x\":[\"dsO_ID_MW_lag_10\",\"dsO_ID_MW_lag_25\",\"siCumulative_lag_25\",\"siCumulative_lag_26\",\"xB_ID_MW_lag_25\",\"xB_ID_MW_lag_10\",\"dsO_ID_MW_lag_-20\",\"loaD_ID_MW_lag_10\",\"loaD_ID_MW_lag_25\",\"siCumulative_lag_61\",\"dsO_ID_MW_lag_70\",\"dsO_ID_MW_lag_85\",\"loaD_ID_MW_lag_55\",\"xB_ID_MW_lag_55\",\"loaD_ID_MW_lag_85\",\"siCumulative_cumsum_during_quarter_lag_37\",\"siCumulative_lag_64\",\"siCumulative_band_pass_12_0_h_lag_389\",\"siCumulative_low_pass_0_25_h_lag_288\",\"siCumulative_low_pass_24_0_h_lag_1822\",\"xB_ID_MW_lag_-20\",\"loaD_ID_MW_lag_-20\",\"siCumulative_band_pass_12_0_h_lag_2855\",\"siCumulative_low_pass_24_0_h_lag_1879\",\"siCumulative_high_pass_24_0_h_lag_294\",\"siCumulative_lag_28\",\"siCumulative_low_pass_12_0_h_lag_496\",\"xB_ID_MW_lag_70\",\"siCumulative_lag_27\",\"siCumulative_first_derivative_lag_30\",\"siCumulative_band_pass_1_0_h_lag_1174\",\"siCumulative_band_pass_12_0_h_lag_2657\",\"siCumulative_band_pass_24_0_h_lag_2691\",\"siCumulative_first_derivative_lag_45\",\"siCumulative_high_pass_24_0_h_lag_1468\",\"siCumulative_low_pass_24_0_h_lag_1148\",\"siCumulative_band_pass_24_0_h_lag_2523\",\"siCumulative_high_pass_1_0_h_lag_825\",\"siCumulative_lag_1404\",\"siCumulative_low_pass_0_25_h_lag_2833\",\"siCumulative_lag_325\",\"siCumulative_low_pass_24_0_h_lag_2125\",\"siCumulative_second_derivative_lag_236\",\"siCumulative_low_pass_24_0_h_lag_2588\",\"siCumulative_lag_693\",\"siCumulative_high_pass_24_0_h_lag_1626\",\"siCumulative_low_pass_12_0_h_lag_2431\",\"siCumulative_low_pass_24_0_h_lag_1946\",\"siCumulative_lag_1395\",\"siCumulative_band_pass_1_0_h_lag_779\",\"siCumulative_first_derivative_lag_2440\",\"siCumulative_low_pass_12_0_h_lag_943\",\"siCumulative_band_pass_1_0_h_lag_2852\",\"siCumulative_high_pass_12_0_h_lag_764\",\"siCumulative_band_pass_1_0_h_lag_2832\",\"siCumulative_lag_1401\",\"siCumulative_lag_371\",\"siCumulative_first_derivative_lag_1604\",\"siCumulative_second_derivative_lag_528\",\"siCumulative_high_pass_1_0_h_lag_1859\",\"siCumulative_second_derivative_lag_427\",\"siCumulative_band_pass_24_0_h_lag_614\",\"siCumulative_low_pass_0_25_h_lag_2603\",\"siCumulative_high_pass_0_25_h_lag_121\",\"siCumulative_band_pass_1_0_h_lag_2657\",\"siCumulative_low_pass_12_0_h_lag_836\",\"siCumulative_band_pass_0_25_h_lag_1178\",\"siCumulative_band_pass_0_25_h_lag_2199\",\"siCumulative_first_derivative_lag_1976\",\"siCumulative_low_pass_1_0_h_lag_1943\",\"siCumulative_high_pass_1_0_h_lag_1869\",\"siCumulative_first_derivative_lag_2547\",\"siCumulative_second_derivative_lag_794\",\"siCumulative_cumsum_during_quarter_lag_1971\",\"siCumulative_high_pass_1_0_h_lag_205\",\"siCumulative_cumsum_during_quarter_lag_1608\",\"siCumulative_high_pass_1_0_h_lag_2679\",\"siCumulative_low_pass_1_0_h_lag_2716\",\"siCumulative_high_pass_12_0_h_lag_1671\",\"siCumulative_band_pass_1_0_h_lag_1952\",\"siCumulative_second_derivative_lag_213\",\"siCumulative_first_derivative_lag_1520\",\"siCumulative_second_derivative_lag_1597\",\"siCumulative_band_pass_0_25_h_lag_2658\"],\"xaxis\":\"x\",\"y\":[516.9123994524241,417.7874937788742,309.3868980550939,200.42307439211046,180.2449001782358,166.32889981569457,107.4211241856382,69.93094405312998,48.03072622915,18.786503021283192,9.372588508574584,7.9207490655606545,6.662256026117668,6.266251010371811,6.0423666477355695,4.163552536260502,3.2688408472204107,3.057220934774554,2.1090669420642154,1.484146553147875,1.483691602022684,1.4734475615489402,1.3975125248248623,1.381323174105808,0.887999213136516,0.7198877107153746,0.35744620328469096,0.35069567990034956,0.285188917910165,0.2294136067101877,0.2093668203417755,0.19167233789392754,0.17084888429575387,0.1383736851029235,0.13281710915383457,0.11803029727263123,0.11510581464545794,0.1108559572741325,0.10951519775317423,0.0948766195587072,0.0823196565850131,0.07752202857697199,0.06794177492689812,0.06354196994655836,0.06295539463629865,0.06007448913854091,0.058062577539344885,0.055184044275249845,0.05318320900217373,0.047510143851406214,0.04373574378829659,0.03875787062390515,0.03719862415682854,0.028718689226031414,0.025757813781444837,0.024912744932916838,0.018288371440594062,0.017358635177925238,0.016327919497340134,0.013762501969144409,0.013367775199944277,0.012516535291929927,0.01046654381280291,0.009156867243417537,0.006923290828256938,0.006253475165352427,0.005117186751232339,0.005011202379144208,0.004867201743224427,0.003846483051079872,0.003583484856206951,0.003293965946325841,0.0029535104510185306,0.0013487417610019746,0.0011289064729777464,0.0007701912034414704,0.0005126185405961792,0.0003436267511719393,9.136994870459603e-05,5.961457102955592e-05,5.8621177475117745e-05,3.319611179392723e-05,3.185804202416875e-06,-2.641774861444901e-07],\"yaxis\":\"y\",\"type\":\"bar\"}],                        {\"template\":{\"data\":{\"histogram2dcontour\":[{\"type\":\"histogram2dcontour\",\"colorbar\":{\"outlinewidth\":0,\"ticks\":\"\"},\"colorscale\":[[0.0,\"#0d0887\"],[0.1111111111111111,\"#46039f\"],[0.2222222222222222,\"#7201a8\"],[0.3333333333333333,\"#9c179e\"],[0.4444444444444444,\"#bd3786\"],[0.5555555555555556,\"#d8576b\"],[0.6666666666666666,\"#ed7953\"],[0.7777777777777778,\"#fb9f3a\"],[0.8888888888888888,\"#fdca26\"],[1.0,\"#f0f921\"]]}],\"choropleth\":[{\"type\":\"choropleth\",\"colorbar\":{\"outlinewidth\":0,\"ticks\":\"\"}}],\"histogram2d\":[{\"type\":\"histogram2d\",\"colorbar\":{\"outlinewidth\":0,\"ticks\":\"\"},\"colorscale\":[[0.0,\"#0d0887\"],[0.1111111111111111,\"#46039f\"],[0.2222222222222222,\"#7201a8\"],[0.3333333333333333,\"#9c179e\"],[0.4444444444444444,\"#bd3786\"],[0.5555555555555556,\"#d8576b\"],[0.6666666666666666,\"#ed7953\"],[0.7777777777777778,\"#fb9f3a\"],[0.8888888888888888,\"#fdca26\"],[1.0,\"#f0f921\"]]}],\"heatmap\":[{\"type\":\"heatmap\",\"colorbar\":{\"outlinewidth\":0,\"ticks\":\"\"},\"colorscale\":[[0.0,\"#0d0887\"],[0.1111111111111111,\"#46039f\"],[0.2222222222222222,\"#7201a8\"],[0.3333333333333333,\"#9c179e\"],[0.4444444444444444,\"#bd3786\"],[0.5555555555555556,\"#d8576b\"],[0.6666666666666666,\"#ed7953\"],[0.7777777777777778,\"#fb9f3a\"],[0.8888888888888888,\"#fdca26\"],[1.0,\"#f0f921\"]]}],\"heatmapgl\":[{\"type\":\"heatmapgl\",\"colorbar\":{\"outlinewidth\":0,\"ticks\":\"\"},\"colorscale\":[[0.0,\"#0d0887\"],[0.1111111111111111,\"#46039f\"],[0.2222222222222222,\"#7201a8\"],[0.3333333333333333,\"#9c179e\"],[0.4444444444444444,\"#bd3786\"],[0.5555555555555556,\"#d8576b\"],[0.6666666666666666,\"#ed7953\"],[0.7777777777777778,\"#fb9f3a\"],[0.8888888888888888,\"#fdca26\"],[1.0,\"#f0f921\"]]}],\"contourcarpet\":[{\"type\":\"contourcarpet\",\"colorbar\":{\"outlinewidth\":0,\"ticks\":\"\"}}],\"contour\":[{\"type\":\"contour\",\"colorbar\":{\"outlinewidth\":0,\"ticks\":\"\"},\"colorscale\":[[0.0,\"#0d0887\"],[0.1111111111111111,\"#46039f\"],[0.2222222222222222,\"#7201a8\"],[0.3333333333333333,\"#9c179e\"],[0.4444444444444444,\"#bd3786\"],[0.5555555555555556,\"#d8576b\"],[0.6666666666666666,\"#ed7953\"],[0.7777777777777778,\"#fb9f3a\"],[0.8888888888888888,\"#fdca26\"],[1.0,\"#f0f921\"]]}],\"surface\":[{\"type\":\"surface\",\"colorbar\":{\"outlinewidth\":0,\"ticks\":\"\"},\"colorscale\":[[0.0,\"#0d0887\"],[0.1111111111111111,\"#46039f\"],[0.2222222222222222,\"#7201a8\"],[0.3333333333333333,\"#9c179e\"],[0.4444444444444444,\"#bd3786\"],[0.5555555555555556,\"#d8576b\"],[0.6666666666666666,\"#ed7953\"],[0.7777777777777778,\"#fb9f3a\"],[0.8888888888888888,\"#fdca26\"],[1.0,\"#f0f921\"]]}],\"mesh3d\":[{\"type\":\"mesh3d\",\"colorbar\":{\"outlinewidth\":0,\"ticks\":\"\"}}],\"scatter\":[{\"fillpattern\":{\"fillmode\":\"overlay\",\"size\":10,\"solidity\":0.2},\"type\":\"scatter\"}],\"parcoords\":[{\"type\":\"parcoords\",\"line\":{\"colorbar\":{\"outlinewidth\":0,\"ticks\":\"\"}}}],\"scatterpolargl\":[{\"type\":\"scatterpolargl\",\"marker\":{\"colorbar\":{\"outlinewidth\":0,\"ticks\":\"\"}}}],\"bar\":[{\"error_x\":{\"color\":\"#2a3f5f\"},\"error_y\":{\"color\":\"#2a3f5f\"},\"marker\":{\"line\":{\"color\":\"#E5ECF6\",\"width\":0.5},\"pattern\":{\"fillmode\":\"overlay\",\"size\":10,\"solidity\":0.2}},\"type\":\"bar\"}],\"scattergeo\":[{\"type\":\"scattergeo\",\"marker\":{\"colorbar\":{\"outlinewidth\":0,\"ticks\":\"\"}}}],\"scatterpolar\":[{\"type\":\"scatterpolar\",\"marker\":{\"colorbar\":{\"outlinewidth\":0,\"ticks\":\"\"}}}],\"histogram\":[{\"marker\":{\"pattern\":{\"fillmode\":\"overlay\",\"size\":10,\"solidity\":0.2}},\"type\":\"histogram\"}],\"scattergl\":[{\"type\":\"scattergl\",\"marker\":{\"colorbar\":{\"outlinewidth\":0,\"ticks\":\"\"}}}],\"scatter3d\":[{\"type\":\"scatter3d\",\"line\":{\"colorbar\":{\"outlinewidth\":0,\"ticks\":\"\"}},\"marker\":{\"colorbar\":{\"outlinewidth\":0,\"ticks\":\"\"}}}],\"scattermapbox\":[{\"type\":\"scattermapbox\",\"marker\":{\"colorbar\":{\"outlinewidth\":0,\"ticks\":\"\"}}}],\"scatterternary\":[{\"type\":\"scatterternary\",\"marker\":{\"colorbar\":{\"outlinewidth\":0,\"ticks\":\"\"}}}],\"scattercarpet\":[{\"type\":\"scattercarpet\",\"marker\":{\"colorbar\":{\"outlinewidth\":0,\"ticks\":\"\"}}}],\"carpet\":[{\"aaxis\":{\"endlinecolor\":\"#2a3f5f\",\"gridcolor\":\"white\",\"linecolor\":\"white\",\"minorgridcolor\":\"white\",\"startlinecolor\":\"#2a3f5f\"},\"baxis\":{\"endlinecolor\":\"#2a3f5f\",\"gridcolor\":\"white\",\"linecolor\":\"white\",\"minorgridcolor\":\"white\",\"startlinecolor\":\"#2a3f5f\"},\"type\":\"carpet\"}],\"table\":[{\"cells\":{\"fill\":{\"color\":\"#EBF0F8\"},\"line\":{\"color\":\"white\"}},\"header\":{\"fill\":{\"color\":\"#C8D4E3\"},\"line\":{\"color\":\"white\"}},\"type\":\"table\"}],\"barpolar\":[{\"marker\":{\"line\":{\"color\":\"#E5ECF6\",\"width\":0.5},\"pattern\":{\"fillmode\":\"overlay\",\"size\":10,\"solidity\":0.2}},\"type\":\"barpolar\"}],\"pie\":[{\"automargin\":true,\"type\":\"pie\"}]},\"layout\":{\"autotypenumbers\":\"strict\",\"colorway\":[\"#636efa\",\"#EF553B\",\"#00cc96\",\"#ab63fa\",\"#FFA15A\",\"#19d3f3\",\"#FF6692\",\"#B6E880\",\"#FF97FF\",\"#FECB52\"],\"font\":{\"color\":\"#2a3f5f\"},\"hovermode\":\"closest\",\"hoverlabel\":{\"align\":\"left\"},\"paper_bgcolor\":\"white\",\"plot_bgcolor\":\"#E5ECF6\",\"polar\":{\"bgcolor\":\"#E5ECF6\",\"angularaxis\":{\"gridcolor\":\"white\",\"linecolor\":\"white\",\"ticks\":\"\"},\"radialaxis\":{\"gridcolor\":\"white\",\"linecolor\":\"white\",\"ticks\":\"\"}},\"ternary\":{\"bgcolor\":\"#E5ECF6\",\"aaxis\":{\"gridcolor\":\"white\",\"linecolor\":\"white\",\"ticks\":\"\"},\"baxis\":{\"gridcolor\":\"white\",\"linecolor\":\"white\",\"ticks\":\"\"},\"caxis\":{\"gridcolor\":\"white\",\"linecolor\":\"white\",\"ticks\":\"\"}},\"coloraxis\":{\"colorbar\":{\"outlinewidth\":0,\"ticks\":\"\"}},\"colorscale\":{\"sequential\":[[0.0,\"#0d0887\"],[0.1111111111111111,\"#46039f\"],[0.2222222222222222,\"#7201a8\"],[0.3333333333333333,\"#9c179e\"],[0.4444444444444444,\"#bd3786\"],[0.5555555555555556,\"#d8576b\"],[0.6666666666666666,\"#ed7953\"],[0.7777777777777778,\"#fb9f3a\"],[0.8888888888888888,\"#fdca26\"],[1.0,\"#f0f921\"]],\"sequentialminus\":[[0.0,\"#0d0887\"],[0.1111111111111111,\"#46039f\"],[0.2222222222222222,\"#7201a8\"],[0.3333333333333333,\"#9c179e\"],[0.4444444444444444,\"#bd3786\"],[0.5555555555555556,\"#d8576b\"],[0.6666666666666666,\"#ed7953\"],[0.7777777777777778,\"#fb9f3a\"],[0.8888888888888888,\"#fdca26\"],[1.0,\"#f0f921\"]],\"diverging\":[[0,\"#8e0152\"],[0.1,\"#c51b7d\"],[0.2,\"#de77ae\"],[0.3,\"#f1b6da\"],[0.4,\"#fde0ef\"],[0.5,\"#f7f7f7\"],[0.6,\"#e6f5d0\"],[0.7,\"#b8e186\"],[0.8,\"#7fbc41\"],[0.9,\"#4d9221\"],[1,\"#276419\"]]},\"xaxis\":{\"gridcolor\":\"white\",\"linecolor\":\"white\",\"ticks\":\"\",\"title\":{\"standoff\":15},\"zerolinecolor\":\"white\",\"automargin\":true,\"zerolinewidth\":2},\"yaxis\":{\"gridcolor\":\"white\",\"linecolor\":\"white\",\"ticks\":\"\",\"title\":{\"standoff\":15},\"zerolinecolor\":\"white\",\"automargin\":true,\"zerolinewidth\":2},\"scene\":{\"xaxis\":{\"backgroundcolor\":\"#E5ECF6\",\"gridcolor\":\"white\",\"linecolor\":\"white\",\"showbackground\":true,\"ticks\":\"\",\"zerolinecolor\":\"white\",\"gridwidth\":2},\"yaxis\":{\"backgroundcolor\":\"#E5ECF6\",\"gridcolor\":\"white\",\"linecolor\":\"white\",\"showbackground\":true,\"ticks\":\"\",\"zerolinecolor\":\"white\",\"gridwidth\":2},\"zaxis\":{\"backgroundcolor\":\"#E5ECF6\",\"gridcolor\":\"white\",\"linecolor\":\"white\",\"showbackground\":true,\"ticks\":\"\",\"zerolinecolor\":\"white\",\"gridwidth\":2}},\"shapedefaults\":{\"line\":{\"color\":\"#2a3f5f\"}},\"annotationdefaults\":{\"arrowcolor\":\"#2a3f5f\",\"arrowhead\":0,\"arrowwidth\":1},\"geo\":{\"bgcolor\":\"white\",\"landcolor\":\"#E5ECF6\",\"subunitcolor\":\"white\",\"showland\":true,\"showlakes\":true,\"lakecolor\":\"white\"},\"title\":{\"x\":0.05},\"mapbox\":{\"style\":\"light\"}}},\"xaxis\":{\"anchor\":\"y\",\"domain\":[0.0,1.0],\"title\":{\"text\":\"variable\"}},\"yaxis\":{\"anchor\":\"x\",\"domain\":[0.0,1.0],\"title\":{\"text\":\"importance\"}},\"legend\":{\"tracegroupgap\":0},\"margin\":{\"t\":60},\"barmode\":\"relative\"},                        {\"responsive\": true}                    ).then(function(){\n",
       "                            \n",
       "var gd = document.getElementById('035445f5-f22b-4e5b-b976-d23667fd3068');\n",
       "var x = new MutationObserver(function (mutations, observer) {{\n",
       "        var display = window.getComputedStyle(gd).display;\n",
       "        if (!display || display === 'none') {{\n",
       "            console.log([gd, 'removed!']);\n",
       "            Plotly.purge(gd);\n",
       "            observer.disconnect();\n",
       "        }}\n",
       "}});\n",
       "\n",
       "// Listen for the removal of the full notebook cells\n",
       "var notebookContainer = gd.closest('#notebook-container');\n",
       "if (notebookContainer) {{\n",
       "    x.observe(notebookContainer, {childList: true});\n",
       "}}\n",
       "\n",
       "// Listen for the clearing of the current output cell\n",
       "var outputEl = gd.closest('.output');\n",
       "if (outputEl) {{\n",
       "    x.observe(outputEl, {childList: true});\n",
       "}}\n",
       "\n",
       "                        })                };                });            </script>        </div>"
      ]
     },
     "metadata": {},
     "output_type": "display_data"
    }
   ],
   "source": [
    "fig = px.bar(\n",
    "    importance_df_train,\n",
    "    x = \"variable\",\n",
    "    y = \"importance\",\n",
    ")\n",
    "fig.show()"
   ]
  },
  {
   "cell_type": "code",
   "execution_count": 27,
   "metadata": {},
   "outputs": [
    {
     "data": {
      "text/html": [
       "<div>\n",
       "<style scoped>\n",
       "    .dataframe tbody tr th:only-of-type {\n",
       "        vertical-align: middle;\n",
       "    }\n",
       "\n",
       "    .dataframe tbody tr th {\n",
       "        vertical-align: top;\n",
       "    }\n",
       "\n",
       "    .dataframe thead th {\n",
       "        text-align: right;\n",
       "    }\n",
       "</style>\n",
       "<table border=\"1\" class=\"dataframe\">\n",
       "  <thead>\n",
       "    <tr style=\"text-align: right;\">\n",
       "      <th></th>\n",
       "      <th>variable</th>\n",
       "      <th>importance</th>\n",
       "    </tr>\n",
       "  </thead>\n",
       "  <tbody>\n",
       "    <tr>\n",
       "      <th>18</th>\n",
       "      <td>dsO_ID_MW_lag_10</td>\n",
       "      <td>575.953494</td>\n",
       "    </tr>\n",
       "    <tr>\n",
       "      <th>19</th>\n",
       "      <td>dsO_ID_MW_lag_25</td>\n",
       "      <td>475.406452</td>\n",
       "    </tr>\n",
       "    <tr>\n",
       "      <th>0</th>\n",
       "      <td>siCumulative_lag_25</td>\n",
       "      <td>245.516914</td>\n",
       "    </tr>\n",
       "    <tr>\n",
       "      <th>1</th>\n",
       "      <td>siCumulative_lag_26</td>\n",
       "      <td>162.674335</td>\n",
       "    </tr>\n",
       "    <tr>\n",
       "      <th>24</th>\n",
       "      <td>xB_ID_MW_lag_25</td>\n",
       "      <td>156.977158</td>\n",
       "    </tr>\n",
       "    <tr>\n",
       "      <th>...</th>\n",
       "      <td>...</td>\n",
       "      <td>...</td>\n",
       "    </tr>\n",
       "    <tr>\n",
       "      <th>69</th>\n",
       "      <td>siCumulative_first_derivative_lag_45</td>\n",
       "      <td>-0.027315</td>\n",
       "    </tr>\n",
       "    <tr>\n",
       "      <th>63</th>\n",
       "      <td>siCumulative_high_pass_1_0_h_lag_825</td>\n",
       "      <td>-0.027566</td>\n",
       "    </tr>\n",
       "    <tr>\n",
       "      <th>29</th>\n",
       "      <td>siCumulative_band_pass_24_0_h_lag_2691</td>\n",
       "      <td>-0.034093</td>\n",
       "    </tr>\n",
       "    <tr>\n",
       "      <th>8</th>\n",
       "      <td>siCumulative_lag_693</td>\n",
       "      <td>-0.039883</td>\n",
       "    </tr>\n",
       "    <tr>\n",
       "      <th>60</th>\n",
       "      <td>siCumulative_high_pass_12_0_h_lag_764</td>\n",
       "      <td>-0.085984</td>\n",
       "    </tr>\n",
       "  </tbody>\n",
       "</table>\n",
       "<p>84 rows × 2 columns</p>\n",
       "</div>"
      ],
      "text/plain": [
       "                                  variable  importance\n",
       "18                        dsO_ID_MW_lag_10  575.953494\n",
       "19                        dsO_ID_MW_lag_25  475.406452\n",
       "0                      siCumulative_lag_25  245.516914\n",
       "1                      siCumulative_lag_26  162.674335\n",
       "24                         xB_ID_MW_lag_25  156.977158\n",
       "..                                     ...         ...\n",
       "69    siCumulative_first_derivative_lag_45   -0.027315\n",
       "63    siCumulative_high_pass_1_0_h_lag_825   -0.027566\n",
       "29  siCumulative_band_pass_24_0_h_lag_2691   -0.034093\n",
       "8                     siCumulative_lag_693   -0.039883\n",
       "60   siCumulative_high_pass_12_0_h_lag_764   -0.085984\n",
       "\n",
       "[84 rows x 2 columns]"
      ]
     },
     "execution_count": 27,
     "metadata": {},
     "output_type": "execute_result"
    }
   ],
   "source": [
    "importance_df_test = pd.DataFrame(\n",
    "    {\n",
    "        \"variable\": X_test_model.columns,\n",
    "        \"importance\": importances_test[\"importances_mean\"]\n",
    "    }\n",
    ")\n",
    "importance_df_test = importance_df_test.sort_values(by = \"importance\", ascending = False)\n",
    "importance_df_test"
   ]
  },
  {
   "cell_type": "code",
   "execution_count": 28,
   "metadata": {},
   "outputs": [
    {
     "data": {
      "application/vnd.plotly.v1+json": {
       "config": {
        "plotlyServerURL": "https://plot.ly"
       },
       "data": [
        {
         "alignmentgroup": "True",
         "hovertemplate": "variable=%{x}<br>importance=%{y}<extra></extra>",
         "legendgroup": "",
         "marker": {
          "color": "#636efa",
          "pattern": {
           "shape": ""
          }
         },
         "name": "",
         "offsetgroup": "",
         "orientation": "v",
         "showlegend": false,
         "textposition": "auto",
         "type": "bar",
         "x": [
          "dsO_ID_MW_lag_10",
          "dsO_ID_MW_lag_25",
          "siCumulative_lag_25",
          "siCumulative_lag_26",
          "xB_ID_MW_lag_25",
          "xB_ID_MW_lag_10",
          "dsO_ID_MW_lag_-20",
          "loaD_ID_MW_lag_10",
          "loaD_ID_MW_lag_25",
          "siCumulative_lag_61",
          "dsO_ID_MW_lag_70",
          "dsO_ID_MW_lag_85",
          "loaD_ID_MW_lag_55",
          "loaD_ID_MW_lag_85",
          "xB_ID_MW_lag_55",
          "siCumulative_cumsum_during_quarter_lag_37",
          "siCumulative_lag_64",
          "loaD_ID_MW_lag_-20",
          "xB_ID_MW_lag_-20",
          "siCumulative_low_pass_24_0_h_lag_1822",
          "siCumulative_low_pass_24_0_h_lag_1879",
          "siCumulative_low_pass_0_25_h_lag_288",
          "siCumulative_high_pass_24_0_h_lag_294",
          "siCumulative_band_pass_12_0_h_lag_389",
          "siCumulative_lag_28",
          "xB_ID_MW_lag_70",
          "siCumulative_lag_27",
          "siCumulative_band_pass_1_0_h_lag_1174",
          "siCumulative_low_pass_12_0_h_lag_496",
          "siCumulative_band_pass_12_0_h_lag_2855",
          "siCumulative_first_derivative_lag_30",
          "siCumulative_low_pass_24_0_h_lag_1148",
          "siCumulative_low_pass_0_25_h_lag_2833",
          "siCumulative_low_pass_12_0_h_lag_2431",
          "siCumulative_high_pass_24_0_h_lag_1468",
          "siCumulative_lag_325",
          "siCumulative_second_derivative_lag_528",
          "siCumulative_lag_1404",
          "siCumulative_band_pass_24_0_h_lag_2523",
          "siCumulative_low_pass_24_0_h_lag_1946",
          "siCumulative_lag_1395",
          "siCumulative_band_pass_0_25_h_lag_2199",
          "siCumulative_high_pass_24_0_h_lag_1626",
          "siCumulative_low_pass_12_0_h_lag_943",
          "siCumulative_band_pass_1_0_h_lag_2832",
          "siCumulative_low_pass_24_0_h_lag_2125",
          "siCumulative_first_derivative_lag_2440",
          "siCumulative_lag_1401",
          "siCumulative_band_pass_12_0_h_lag_2657",
          "siCumulative_low_pass_24_0_h_lag_2588",
          "siCumulative_high_pass_1_0_h_lag_205",
          "siCumulative_first_derivative_lag_1604",
          "siCumulative_high_pass_1_0_h_lag_1869",
          "siCumulative_band_pass_1_0_h_lag_779",
          "siCumulative_band_pass_1_0_h_lag_2657",
          "siCumulative_low_pass_12_0_h_lag_836",
          "siCumulative_low_pass_1_0_h_lag_1943",
          "siCumulative_band_pass_1_0_h_lag_1952",
          "siCumulative_cumsum_during_quarter_lag_1971",
          "siCumulative_second_derivative_lag_794",
          "siCumulative_first_derivative_lag_1976",
          "siCumulative_second_derivative_lag_213",
          "siCumulative_low_pass_1_0_h_lag_2716",
          "siCumulative_second_derivative_lag_1597",
          "siCumulative_band_pass_0_25_h_lag_2658",
          "siCumulative_high_pass_12_0_h_lag_1671",
          "siCumulative_first_derivative_lag_1520",
          "siCumulative_high_pass_1_0_h_lag_1859",
          "siCumulative_cumsum_during_quarter_lag_1608",
          "siCumulative_high_pass_1_0_h_lag_2679",
          "siCumulative_low_pass_0_25_h_lag_2603",
          "siCumulative_second_derivative_lag_236",
          "siCumulative_second_derivative_lag_427",
          "siCumulative_band_pass_24_0_h_lag_614",
          "siCumulative_lag_371",
          "siCumulative_first_derivative_lag_2547",
          "siCumulative_band_pass_0_25_h_lag_1178",
          "siCumulative_band_pass_1_0_h_lag_2852",
          "siCumulative_high_pass_0_25_h_lag_121",
          "siCumulative_first_derivative_lag_45",
          "siCumulative_high_pass_1_0_h_lag_825",
          "siCumulative_band_pass_24_0_h_lag_2691",
          "siCumulative_lag_693",
          "siCumulative_high_pass_12_0_h_lag_764"
         ],
         "xaxis": "x",
         "y": [
          575.953494095424,
          475.4064516104065,
          245.51691401181503,
          162.67433463329027,
          156.97715815169443,
          139.38073999581283,
          133.42536950951947,
          85.07365832361218,
          59.181173519003515,
          12.41321228254237,
          11.20025213273024,
          9.404658168893796,
          8.625256298102927,
          8.138669988800448,
          4.332411213164615,
          4.0617056339277955,
          3.367901593260966,
          2.027952485598533,
          1.6679572369822409,
          1.3481241038966498,
          1.0978379174375064,
          1.06563219306449,
          1.0042185832956259,
          0.8777761965127827,
          0.6113876542031593,
          0.5973345400174378,
          0.3081667006148361,
          0.24120988337337748,
          0.21381182062772552,
          0.19069553613397885,
          0.11629976025238604,
          0.11485300263031832,
          0.1105787106162667,
          0.10712444516624231,
          0.08560740066829638,
          0.06820399667466333,
          0.06743128337951504,
          0.06697511135432606,
          0.06518114240967549,
          0.06052744349520012,
          0.04877013968048985,
          0.04850175059869727,
          0.04481628638667843,
          0.041969223539090876,
          0.03935915425246264,
          0.039329828308401746,
          0.032284477686499856,
          0.026827374939118444,
          0.020405630125660535,
          0.018028977963448226,
          0.009306291068033658,
          0.008714191687095649,
          0.0080329462940648,
          0.006162264734645788,
          0.005022369432520862,
          0.004378874023267798,
          0.004299098863365742,
          0.0038990651642347982,
          0.0038747791637315744,
          0.0031710678664188664,
          0.0014201449802288834,
          0.0008380628552636437,
          0.0003600149213139048,
          0.0001633626467869931,
          0.000014514232963449559,
          -0.00004169713451503299,
          -0.0006791608191116438,
          -0.0024450955412123675,
          -0.0029442574411399393,
          -0.005087215116097496,
          -0.006560756615930501,
          -0.0073103197101481495,
          -0.009092487350824144,
          -0.010415122457693542,
          -0.011937910510961132,
          -0.014557121987787696,
          -0.015175068360384642,
          -0.021045182627550788,
          -0.024900550107122825,
          -0.027315473298517502,
          -0.027565542201829486,
          -0.03409283848822838,
          -0.039882538925845236,
          -0.08598430255984127
         ],
         "yaxis": "y"
        }
       ],
       "layout": {
        "barmode": "relative",
        "legend": {
         "tracegroupgap": 0
        },
        "margin": {
         "t": 60
        },
        "template": {
         "data": {
          "bar": [
           {
            "error_x": {
             "color": "#2a3f5f"
            },
            "error_y": {
             "color": "#2a3f5f"
            },
            "marker": {
             "line": {
              "color": "#E5ECF6",
              "width": 0.5
             },
             "pattern": {
              "fillmode": "overlay",
              "size": 10,
              "solidity": 0.2
             }
            },
            "type": "bar"
           }
          ],
          "barpolar": [
           {
            "marker": {
             "line": {
              "color": "#E5ECF6",
              "width": 0.5
             },
             "pattern": {
              "fillmode": "overlay",
              "size": 10,
              "solidity": 0.2
             }
            },
            "type": "barpolar"
           }
          ],
          "carpet": [
           {
            "aaxis": {
             "endlinecolor": "#2a3f5f",
             "gridcolor": "white",
             "linecolor": "white",
             "minorgridcolor": "white",
             "startlinecolor": "#2a3f5f"
            },
            "baxis": {
             "endlinecolor": "#2a3f5f",
             "gridcolor": "white",
             "linecolor": "white",
             "minorgridcolor": "white",
             "startlinecolor": "#2a3f5f"
            },
            "type": "carpet"
           }
          ],
          "choropleth": [
           {
            "colorbar": {
             "outlinewidth": 0,
             "ticks": ""
            },
            "type": "choropleth"
           }
          ],
          "contour": [
           {
            "colorbar": {
             "outlinewidth": 0,
             "ticks": ""
            },
            "colorscale": [
             [
              0,
              "#0d0887"
             ],
             [
              0.1111111111111111,
              "#46039f"
             ],
             [
              0.2222222222222222,
              "#7201a8"
             ],
             [
              0.3333333333333333,
              "#9c179e"
             ],
             [
              0.4444444444444444,
              "#bd3786"
             ],
             [
              0.5555555555555556,
              "#d8576b"
             ],
             [
              0.6666666666666666,
              "#ed7953"
             ],
             [
              0.7777777777777778,
              "#fb9f3a"
             ],
             [
              0.8888888888888888,
              "#fdca26"
             ],
             [
              1,
              "#f0f921"
             ]
            ],
            "type": "contour"
           }
          ],
          "contourcarpet": [
           {
            "colorbar": {
             "outlinewidth": 0,
             "ticks": ""
            },
            "type": "contourcarpet"
           }
          ],
          "heatmap": [
           {
            "colorbar": {
             "outlinewidth": 0,
             "ticks": ""
            },
            "colorscale": [
             [
              0,
              "#0d0887"
             ],
             [
              0.1111111111111111,
              "#46039f"
             ],
             [
              0.2222222222222222,
              "#7201a8"
             ],
             [
              0.3333333333333333,
              "#9c179e"
             ],
             [
              0.4444444444444444,
              "#bd3786"
             ],
             [
              0.5555555555555556,
              "#d8576b"
             ],
             [
              0.6666666666666666,
              "#ed7953"
             ],
             [
              0.7777777777777778,
              "#fb9f3a"
             ],
             [
              0.8888888888888888,
              "#fdca26"
             ],
             [
              1,
              "#f0f921"
             ]
            ],
            "type": "heatmap"
           }
          ],
          "heatmapgl": [
           {
            "colorbar": {
             "outlinewidth": 0,
             "ticks": ""
            },
            "colorscale": [
             [
              0,
              "#0d0887"
             ],
             [
              0.1111111111111111,
              "#46039f"
             ],
             [
              0.2222222222222222,
              "#7201a8"
             ],
             [
              0.3333333333333333,
              "#9c179e"
             ],
             [
              0.4444444444444444,
              "#bd3786"
             ],
             [
              0.5555555555555556,
              "#d8576b"
             ],
             [
              0.6666666666666666,
              "#ed7953"
             ],
             [
              0.7777777777777778,
              "#fb9f3a"
             ],
             [
              0.8888888888888888,
              "#fdca26"
             ],
             [
              1,
              "#f0f921"
             ]
            ],
            "type": "heatmapgl"
           }
          ],
          "histogram": [
           {
            "marker": {
             "pattern": {
              "fillmode": "overlay",
              "size": 10,
              "solidity": 0.2
             }
            },
            "type": "histogram"
           }
          ],
          "histogram2d": [
           {
            "colorbar": {
             "outlinewidth": 0,
             "ticks": ""
            },
            "colorscale": [
             [
              0,
              "#0d0887"
             ],
             [
              0.1111111111111111,
              "#46039f"
             ],
             [
              0.2222222222222222,
              "#7201a8"
             ],
             [
              0.3333333333333333,
              "#9c179e"
             ],
             [
              0.4444444444444444,
              "#bd3786"
             ],
             [
              0.5555555555555556,
              "#d8576b"
             ],
             [
              0.6666666666666666,
              "#ed7953"
             ],
             [
              0.7777777777777778,
              "#fb9f3a"
             ],
             [
              0.8888888888888888,
              "#fdca26"
             ],
             [
              1,
              "#f0f921"
             ]
            ],
            "type": "histogram2d"
           }
          ],
          "histogram2dcontour": [
           {
            "colorbar": {
             "outlinewidth": 0,
             "ticks": ""
            },
            "colorscale": [
             [
              0,
              "#0d0887"
             ],
             [
              0.1111111111111111,
              "#46039f"
             ],
             [
              0.2222222222222222,
              "#7201a8"
             ],
             [
              0.3333333333333333,
              "#9c179e"
             ],
             [
              0.4444444444444444,
              "#bd3786"
             ],
             [
              0.5555555555555556,
              "#d8576b"
             ],
             [
              0.6666666666666666,
              "#ed7953"
             ],
             [
              0.7777777777777778,
              "#fb9f3a"
             ],
             [
              0.8888888888888888,
              "#fdca26"
             ],
             [
              1,
              "#f0f921"
             ]
            ],
            "type": "histogram2dcontour"
           }
          ],
          "mesh3d": [
           {
            "colorbar": {
             "outlinewidth": 0,
             "ticks": ""
            },
            "type": "mesh3d"
           }
          ],
          "parcoords": [
           {
            "line": {
             "colorbar": {
              "outlinewidth": 0,
              "ticks": ""
             }
            },
            "type": "parcoords"
           }
          ],
          "pie": [
           {
            "automargin": true,
            "type": "pie"
           }
          ],
          "scatter": [
           {
            "fillpattern": {
             "fillmode": "overlay",
             "size": 10,
             "solidity": 0.2
            },
            "type": "scatter"
           }
          ],
          "scatter3d": [
           {
            "line": {
             "colorbar": {
              "outlinewidth": 0,
              "ticks": ""
             }
            },
            "marker": {
             "colorbar": {
              "outlinewidth": 0,
              "ticks": ""
             }
            },
            "type": "scatter3d"
           }
          ],
          "scattercarpet": [
           {
            "marker": {
             "colorbar": {
              "outlinewidth": 0,
              "ticks": ""
             }
            },
            "type": "scattercarpet"
           }
          ],
          "scattergeo": [
           {
            "marker": {
             "colorbar": {
              "outlinewidth": 0,
              "ticks": ""
             }
            },
            "type": "scattergeo"
           }
          ],
          "scattergl": [
           {
            "marker": {
             "colorbar": {
              "outlinewidth": 0,
              "ticks": ""
             }
            },
            "type": "scattergl"
           }
          ],
          "scattermapbox": [
           {
            "marker": {
             "colorbar": {
              "outlinewidth": 0,
              "ticks": ""
             }
            },
            "type": "scattermapbox"
           }
          ],
          "scatterpolar": [
           {
            "marker": {
             "colorbar": {
              "outlinewidth": 0,
              "ticks": ""
             }
            },
            "type": "scatterpolar"
           }
          ],
          "scatterpolargl": [
           {
            "marker": {
             "colorbar": {
              "outlinewidth": 0,
              "ticks": ""
             }
            },
            "type": "scatterpolargl"
           }
          ],
          "scatterternary": [
           {
            "marker": {
             "colorbar": {
              "outlinewidth": 0,
              "ticks": ""
             }
            },
            "type": "scatterternary"
           }
          ],
          "surface": [
           {
            "colorbar": {
             "outlinewidth": 0,
             "ticks": ""
            },
            "colorscale": [
             [
              0,
              "#0d0887"
             ],
             [
              0.1111111111111111,
              "#46039f"
             ],
             [
              0.2222222222222222,
              "#7201a8"
             ],
             [
              0.3333333333333333,
              "#9c179e"
             ],
             [
              0.4444444444444444,
              "#bd3786"
             ],
             [
              0.5555555555555556,
              "#d8576b"
             ],
             [
              0.6666666666666666,
              "#ed7953"
             ],
             [
              0.7777777777777778,
              "#fb9f3a"
             ],
             [
              0.8888888888888888,
              "#fdca26"
             ],
             [
              1,
              "#f0f921"
             ]
            ],
            "type": "surface"
           }
          ],
          "table": [
           {
            "cells": {
             "fill": {
              "color": "#EBF0F8"
             },
             "line": {
              "color": "white"
             }
            },
            "header": {
             "fill": {
              "color": "#C8D4E3"
             },
             "line": {
              "color": "white"
             }
            },
            "type": "table"
           }
          ]
         },
         "layout": {
          "annotationdefaults": {
           "arrowcolor": "#2a3f5f",
           "arrowhead": 0,
           "arrowwidth": 1
          },
          "autotypenumbers": "strict",
          "coloraxis": {
           "colorbar": {
            "outlinewidth": 0,
            "ticks": ""
           }
          },
          "colorscale": {
           "diverging": [
            [
             0,
             "#8e0152"
            ],
            [
             0.1,
             "#c51b7d"
            ],
            [
             0.2,
             "#de77ae"
            ],
            [
             0.3,
             "#f1b6da"
            ],
            [
             0.4,
             "#fde0ef"
            ],
            [
             0.5,
             "#f7f7f7"
            ],
            [
             0.6,
             "#e6f5d0"
            ],
            [
             0.7,
             "#b8e186"
            ],
            [
             0.8,
             "#7fbc41"
            ],
            [
             0.9,
             "#4d9221"
            ],
            [
             1,
             "#276419"
            ]
           ],
           "sequential": [
            [
             0,
             "#0d0887"
            ],
            [
             0.1111111111111111,
             "#46039f"
            ],
            [
             0.2222222222222222,
             "#7201a8"
            ],
            [
             0.3333333333333333,
             "#9c179e"
            ],
            [
             0.4444444444444444,
             "#bd3786"
            ],
            [
             0.5555555555555556,
             "#d8576b"
            ],
            [
             0.6666666666666666,
             "#ed7953"
            ],
            [
             0.7777777777777778,
             "#fb9f3a"
            ],
            [
             0.8888888888888888,
             "#fdca26"
            ],
            [
             1,
             "#f0f921"
            ]
           ],
           "sequentialminus": [
            [
             0,
             "#0d0887"
            ],
            [
             0.1111111111111111,
             "#46039f"
            ],
            [
             0.2222222222222222,
             "#7201a8"
            ],
            [
             0.3333333333333333,
             "#9c179e"
            ],
            [
             0.4444444444444444,
             "#bd3786"
            ],
            [
             0.5555555555555556,
             "#d8576b"
            ],
            [
             0.6666666666666666,
             "#ed7953"
            ],
            [
             0.7777777777777778,
             "#fb9f3a"
            ],
            [
             0.8888888888888888,
             "#fdca26"
            ],
            [
             1,
             "#f0f921"
            ]
           ]
          },
          "colorway": [
           "#636efa",
           "#EF553B",
           "#00cc96",
           "#ab63fa",
           "#FFA15A",
           "#19d3f3",
           "#FF6692",
           "#B6E880",
           "#FF97FF",
           "#FECB52"
          ],
          "font": {
           "color": "#2a3f5f"
          },
          "geo": {
           "bgcolor": "white",
           "lakecolor": "white",
           "landcolor": "#E5ECF6",
           "showlakes": true,
           "showland": true,
           "subunitcolor": "white"
          },
          "hoverlabel": {
           "align": "left"
          },
          "hovermode": "closest",
          "mapbox": {
           "style": "light"
          },
          "paper_bgcolor": "white",
          "plot_bgcolor": "#E5ECF6",
          "polar": {
           "angularaxis": {
            "gridcolor": "white",
            "linecolor": "white",
            "ticks": ""
           },
           "bgcolor": "#E5ECF6",
           "radialaxis": {
            "gridcolor": "white",
            "linecolor": "white",
            "ticks": ""
           }
          },
          "scene": {
           "xaxis": {
            "backgroundcolor": "#E5ECF6",
            "gridcolor": "white",
            "gridwidth": 2,
            "linecolor": "white",
            "showbackground": true,
            "ticks": "",
            "zerolinecolor": "white"
           },
           "yaxis": {
            "backgroundcolor": "#E5ECF6",
            "gridcolor": "white",
            "gridwidth": 2,
            "linecolor": "white",
            "showbackground": true,
            "ticks": "",
            "zerolinecolor": "white"
           },
           "zaxis": {
            "backgroundcolor": "#E5ECF6",
            "gridcolor": "white",
            "gridwidth": 2,
            "linecolor": "white",
            "showbackground": true,
            "ticks": "",
            "zerolinecolor": "white"
           }
          },
          "shapedefaults": {
           "line": {
            "color": "#2a3f5f"
           }
          },
          "ternary": {
           "aaxis": {
            "gridcolor": "white",
            "linecolor": "white",
            "ticks": ""
           },
           "baxis": {
            "gridcolor": "white",
            "linecolor": "white",
            "ticks": ""
           },
           "bgcolor": "#E5ECF6",
           "caxis": {
            "gridcolor": "white",
            "linecolor": "white",
            "ticks": ""
           }
          },
          "title": {
           "x": 0.05
          },
          "xaxis": {
           "automargin": true,
           "gridcolor": "white",
           "linecolor": "white",
           "ticks": "",
           "title": {
            "standoff": 15
           },
           "zerolinecolor": "white",
           "zerolinewidth": 2
          },
          "yaxis": {
           "automargin": true,
           "gridcolor": "white",
           "linecolor": "white",
           "ticks": "",
           "title": {
            "standoff": 15
           },
           "zerolinecolor": "white",
           "zerolinewidth": 2
          }
         }
        },
        "xaxis": {
         "anchor": "y",
         "domain": [
          0,
          1
         ],
         "title": {
          "text": "variable"
         }
        },
        "yaxis": {
         "anchor": "x",
         "domain": [
          0,
          1
         ],
         "title": {
          "text": "importance"
         }
        }
       }
      },
      "text/html": [
       "<div>                            <div id=\"3e5d2a79-9219-48d8-913d-6384090163a7\" class=\"plotly-graph-div\" style=\"height:525px; width:100%;\"></div>            <script type=\"text/javascript\">                require([\"plotly\"], function(Plotly) {                    window.PLOTLYENV=window.PLOTLYENV || {};                                    if (document.getElementById(\"3e5d2a79-9219-48d8-913d-6384090163a7\")) {                    Plotly.newPlot(                        \"3e5d2a79-9219-48d8-913d-6384090163a7\",                        [{\"alignmentgroup\":\"True\",\"hovertemplate\":\"variable=%{x}\\u003cbr\\u003eimportance=%{y}\\u003cextra\\u003e\\u003c\\u002fextra\\u003e\",\"legendgroup\":\"\",\"marker\":{\"color\":\"#636efa\",\"pattern\":{\"shape\":\"\"}},\"name\":\"\",\"offsetgroup\":\"\",\"orientation\":\"v\",\"showlegend\":false,\"textposition\":\"auto\",\"x\":[\"dsO_ID_MW_lag_10\",\"dsO_ID_MW_lag_25\",\"siCumulative_lag_25\",\"siCumulative_lag_26\",\"xB_ID_MW_lag_25\",\"xB_ID_MW_lag_10\",\"dsO_ID_MW_lag_-20\",\"loaD_ID_MW_lag_10\",\"loaD_ID_MW_lag_25\",\"siCumulative_lag_61\",\"dsO_ID_MW_lag_70\",\"dsO_ID_MW_lag_85\",\"loaD_ID_MW_lag_55\",\"loaD_ID_MW_lag_85\",\"xB_ID_MW_lag_55\",\"siCumulative_cumsum_during_quarter_lag_37\",\"siCumulative_lag_64\",\"loaD_ID_MW_lag_-20\",\"xB_ID_MW_lag_-20\",\"siCumulative_low_pass_24_0_h_lag_1822\",\"siCumulative_low_pass_24_0_h_lag_1879\",\"siCumulative_low_pass_0_25_h_lag_288\",\"siCumulative_high_pass_24_0_h_lag_294\",\"siCumulative_band_pass_12_0_h_lag_389\",\"siCumulative_lag_28\",\"xB_ID_MW_lag_70\",\"siCumulative_lag_27\",\"siCumulative_band_pass_1_0_h_lag_1174\",\"siCumulative_low_pass_12_0_h_lag_496\",\"siCumulative_band_pass_12_0_h_lag_2855\",\"siCumulative_first_derivative_lag_30\",\"siCumulative_low_pass_24_0_h_lag_1148\",\"siCumulative_low_pass_0_25_h_lag_2833\",\"siCumulative_low_pass_12_0_h_lag_2431\",\"siCumulative_high_pass_24_0_h_lag_1468\",\"siCumulative_lag_325\",\"siCumulative_second_derivative_lag_528\",\"siCumulative_lag_1404\",\"siCumulative_band_pass_24_0_h_lag_2523\",\"siCumulative_low_pass_24_0_h_lag_1946\",\"siCumulative_lag_1395\",\"siCumulative_band_pass_0_25_h_lag_2199\",\"siCumulative_high_pass_24_0_h_lag_1626\",\"siCumulative_low_pass_12_0_h_lag_943\",\"siCumulative_band_pass_1_0_h_lag_2832\",\"siCumulative_low_pass_24_0_h_lag_2125\",\"siCumulative_first_derivative_lag_2440\",\"siCumulative_lag_1401\",\"siCumulative_band_pass_12_0_h_lag_2657\",\"siCumulative_low_pass_24_0_h_lag_2588\",\"siCumulative_high_pass_1_0_h_lag_205\",\"siCumulative_first_derivative_lag_1604\",\"siCumulative_high_pass_1_0_h_lag_1869\",\"siCumulative_band_pass_1_0_h_lag_779\",\"siCumulative_band_pass_1_0_h_lag_2657\",\"siCumulative_low_pass_12_0_h_lag_836\",\"siCumulative_low_pass_1_0_h_lag_1943\",\"siCumulative_band_pass_1_0_h_lag_1952\",\"siCumulative_cumsum_during_quarter_lag_1971\",\"siCumulative_second_derivative_lag_794\",\"siCumulative_first_derivative_lag_1976\",\"siCumulative_second_derivative_lag_213\",\"siCumulative_low_pass_1_0_h_lag_2716\",\"siCumulative_second_derivative_lag_1597\",\"siCumulative_band_pass_0_25_h_lag_2658\",\"siCumulative_high_pass_12_0_h_lag_1671\",\"siCumulative_first_derivative_lag_1520\",\"siCumulative_high_pass_1_0_h_lag_1859\",\"siCumulative_cumsum_during_quarter_lag_1608\",\"siCumulative_high_pass_1_0_h_lag_2679\",\"siCumulative_low_pass_0_25_h_lag_2603\",\"siCumulative_second_derivative_lag_236\",\"siCumulative_second_derivative_lag_427\",\"siCumulative_band_pass_24_0_h_lag_614\",\"siCumulative_lag_371\",\"siCumulative_first_derivative_lag_2547\",\"siCumulative_band_pass_0_25_h_lag_1178\",\"siCumulative_band_pass_1_0_h_lag_2852\",\"siCumulative_high_pass_0_25_h_lag_121\",\"siCumulative_first_derivative_lag_45\",\"siCumulative_high_pass_1_0_h_lag_825\",\"siCumulative_band_pass_24_0_h_lag_2691\",\"siCumulative_lag_693\",\"siCumulative_high_pass_12_0_h_lag_764\"],\"xaxis\":\"x\",\"y\":[575.953494095424,475.4064516104065,245.51691401181503,162.67433463329027,156.97715815169443,139.38073999581283,133.42536950951947,85.07365832361218,59.181173519003515,12.41321228254237,11.20025213273024,9.404658168893796,8.625256298102927,8.138669988800448,4.332411213164615,4.0617056339277955,3.367901593260966,2.027952485598533,1.6679572369822409,1.3481241038966498,1.0978379174375064,1.06563219306449,1.0042185832956259,0.8777761965127827,0.6113876542031593,0.5973345400174378,0.3081667006148361,0.24120988337337748,0.21381182062772552,0.19069553613397885,0.11629976025238604,0.11485300263031832,0.1105787106162667,0.10712444516624231,0.08560740066829638,0.06820399667466333,0.06743128337951504,0.06697511135432606,0.06518114240967549,0.06052744349520012,0.04877013968048985,0.04850175059869727,0.04481628638667843,0.041969223539090876,0.03935915425246264,0.039329828308401746,0.032284477686499856,0.026827374939118444,0.020405630125660535,0.018028977963448226,0.009306291068033658,0.008714191687095649,0.0080329462940648,0.006162264734645788,0.005022369432520862,0.004378874023267798,0.004299098863365742,0.0038990651642347982,0.0038747791637315744,0.0031710678664188664,0.0014201449802288834,0.0008380628552636437,0.0003600149213139048,0.0001633626467869931,1.4514232963449559e-05,-4.169713451503299e-05,-0.0006791608191116438,-0.0024450955412123675,-0.0029442574411399393,-0.005087215116097496,-0.006560756615930501,-0.0073103197101481495,-0.009092487350824144,-0.010415122457693542,-0.011937910510961132,-0.014557121987787696,-0.015175068360384642,-0.021045182627550788,-0.024900550107122825,-0.027315473298517502,-0.027565542201829486,-0.03409283848822838,-0.039882538925845236,-0.08598430255984127],\"yaxis\":\"y\",\"type\":\"bar\"}],                        {\"template\":{\"data\":{\"histogram2dcontour\":[{\"type\":\"histogram2dcontour\",\"colorbar\":{\"outlinewidth\":0,\"ticks\":\"\"},\"colorscale\":[[0.0,\"#0d0887\"],[0.1111111111111111,\"#46039f\"],[0.2222222222222222,\"#7201a8\"],[0.3333333333333333,\"#9c179e\"],[0.4444444444444444,\"#bd3786\"],[0.5555555555555556,\"#d8576b\"],[0.6666666666666666,\"#ed7953\"],[0.7777777777777778,\"#fb9f3a\"],[0.8888888888888888,\"#fdca26\"],[1.0,\"#f0f921\"]]}],\"choropleth\":[{\"type\":\"choropleth\",\"colorbar\":{\"outlinewidth\":0,\"ticks\":\"\"}}],\"histogram2d\":[{\"type\":\"histogram2d\",\"colorbar\":{\"outlinewidth\":0,\"ticks\":\"\"},\"colorscale\":[[0.0,\"#0d0887\"],[0.1111111111111111,\"#46039f\"],[0.2222222222222222,\"#7201a8\"],[0.3333333333333333,\"#9c179e\"],[0.4444444444444444,\"#bd3786\"],[0.5555555555555556,\"#d8576b\"],[0.6666666666666666,\"#ed7953\"],[0.7777777777777778,\"#fb9f3a\"],[0.8888888888888888,\"#fdca26\"],[1.0,\"#f0f921\"]]}],\"heatmap\":[{\"type\":\"heatmap\",\"colorbar\":{\"outlinewidth\":0,\"ticks\":\"\"},\"colorscale\":[[0.0,\"#0d0887\"],[0.1111111111111111,\"#46039f\"],[0.2222222222222222,\"#7201a8\"],[0.3333333333333333,\"#9c179e\"],[0.4444444444444444,\"#bd3786\"],[0.5555555555555556,\"#d8576b\"],[0.6666666666666666,\"#ed7953\"],[0.7777777777777778,\"#fb9f3a\"],[0.8888888888888888,\"#fdca26\"],[1.0,\"#f0f921\"]]}],\"heatmapgl\":[{\"type\":\"heatmapgl\",\"colorbar\":{\"outlinewidth\":0,\"ticks\":\"\"},\"colorscale\":[[0.0,\"#0d0887\"],[0.1111111111111111,\"#46039f\"],[0.2222222222222222,\"#7201a8\"],[0.3333333333333333,\"#9c179e\"],[0.4444444444444444,\"#bd3786\"],[0.5555555555555556,\"#d8576b\"],[0.6666666666666666,\"#ed7953\"],[0.7777777777777778,\"#fb9f3a\"],[0.8888888888888888,\"#fdca26\"],[1.0,\"#f0f921\"]]}],\"contourcarpet\":[{\"type\":\"contourcarpet\",\"colorbar\":{\"outlinewidth\":0,\"ticks\":\"\"}}],\"contour\":[{\"type\":\"contour\",\"colorbar\":{\"outlinewidth\":0,\"ticks\":\"\"},\"colorscale\":[[0.0,\"#0d0887\"],[0.1111111111111111,\"#46039f\"],[0.2222222222222222,\"#7201a8\"],[0.3333333333333333,\"#9c179e\"],[0.4444444444444444,\"#bd3786\"],[0.5555555555555556,\"#d8576b\"],[0.6666666666666666,\"#ed7953\"],[0.7777777777777778,\"#fb9f3a\"],[0.8888888888888888,\"#fdca26\"],[1.0,\"#f0f921\"]]}],\"surface\":[{\"type\":\"surface\",\"colorbar\":{\"outlinewidth\":0,\"ticks\":\"\"},\"colorscale\":[[0.0,\"#0d0887\"],[0.1111111111111111,\"#46039f\"],[0.2222222222222222,\"#7201a8\"],[0.3333333333333333,\"#9c179e\"],[0.4444444444444444,\"#bd3786\"],[0.5555555555555556,\"#d8576b\"],[0.6666666666666666,\"#ed7953\"],[0.7777777777777778,\"#fb9f3a\"],[0.8888888888888888,\"#fdca26\"],[1.0,\"#f0f921\"]]}],\"mesh3d\":[{\"type\":\"mesh3d\",\"colorbar\":{\"outlinewidth\":0,\"ticks\":\"\"}}],\"scatter\":[{\"fillpattern\":{\"fillmode\":\"overlay\",\"size\":10,\"solidity\":0.2},\"type\":\"scatter\"}],\"parcoords\":[{\"type\":\"parcoords\",\"line\":{\"colorbar\":{\"outlinewidth\":0,\"ticks\":\"\"}}}],\"scatterpolargl\":[{\"type\":\"scatterpolargl\",\"marker\":{\"colorbar\":{\"outlinewidth\":0,\"ticks\":\"\"}}}],\"bar\":[{\"error_x\":{\"color\":\"#2a3f5f\"},\"error_y\":{\"color\":\"#2a3f5f\"},\"marker\":{\"line\":{\"color\":\"#E5ECF6\",\"width\":0.5},\"pattern\":{\"fillmode\":\"overlay\",\"size\":10,\"solidity\":0.2}},\"type\":\"bar\"}],\"scattergeo\":[{\"type\":\"scattergeo\",\"marker\":{\"colorbar\":{\"outlinewidth\":0,\"ticks\":\"\"}}}],\"scatterpolar\":[{\"type\":\"scatterpolar\",\"marker\":{\"colorbar\":{\"outlinewidth\":0,\"ticks\":\"\"}}}],\"histogram\":[{\"marker\":{\"pattern\":{\"fillmode\":\"overlay\",\"size\":10,\"solidity\":0.2}},\"type\":\"histogram\"}],\"scattergl\":[{\"type\":\"scattergl\",\"marker\":{\"colorbar\":{\"outlinewidth\":0,\"ticks\":\"\"}}}],\"scatter3d\":[{\"type\":\"scatter3d\",\"line\":{\"colorbar\":{\"outlinewidth\":0,\"ticks\":\"\"}},\"marker\":{\"colorbar\":{\"outlinewidth\":0,\"ticks\":\"\"}}}],\"scattermapbox\":[{\"type\":\"scattermapbox\",\"marker\":{\"colorbar\":{\"outlinewidth\":0,\"ticks\":\"\"}}}],\"scatterternary\":[{\"type\":\"scatterternary\",\"marker\":{\"colorbar\":{\"outlinewidth\":0,\"ticks\":\"\"}}}],\"scattercarpet\":[{\"type\":\"scattercarpet\",\"marker\":{\"colorbar\":{\"outlinewidth\":0,\"ticks\":\"\"}}}],\"carpet\":[{\"aaxis\":{\"endlinecolor\":\"#2a3f5f\",\"gridcolor\":\"white\",\"linecolor\":\"white\",\"minorgridcolor\":\"white\",\"startlinecolor\":\"#2a3f5f\"},\"baxis\":{\"endlinecolor\":\"#2a3f5f\",\"gridcolor\":\"white\",\"linecolor\":\"white\",\"minorgridcolor\":\"white\",\"startlinecolor\":\"#2a3f5f\"},\"type\":\"carpet\"}],\"table\":[{\"cells\":{\"fill\":{\"color\":\"#EBF0F8\"},\"line\":{\"color\":\"white\"}},\"header\":{\"fill\":{\"color\":\"#C8D4E3\"},\"line\":{\"color\":\"white\"}},\"type\":\"table\"}],\"barpolar\":[{\"marker\":{\"line\":{\"color\":\"#E5ECF6\",\"width\":0.5},\"pattern\":{\"fillmode\":\"overlay\",\"size\":10,\"solidity\":0.2}},\"type\":\"barpolar\"}],\"pie\":[{\"automargin\":true,\"type\":\"pie\"}]},\"layout\":{\"autotypenumbers\":\"strict\",\"colorway\":[\"#636efa\",\"#EF553B\",\"#00cc96\",\"#ab63fa\",\"#FFA15A\",\"#19d3f3\",\"#FF6692\",\"#B6E880\",\"#FF97FF\",\"#FECB52\"],\"font\":{\"color\":\"#2a3f5f\"},\"hovermode\":\"closest\",\"hoverlabel\":{\"align\":\"left\"},\"paper_bgcolor\":\"white\",\"plot_bgcolor\":\"#E5ECF6\",\"polar\":{\"bgcolor\":\"#E5ECF6\",\"angularaxis\":{\"gridcolor\":\"white\",\"linecolor\":\"white\",\"ticks\":\"\"},\"radialaxis\":{\"gridcolor\":\"white\",\"linecolor\":\"white\",\"ticks\":\"\"}},\"ternary\":{\"bgcolor\":\"#E5ECF6\",\"aaxis\":{\"gridcolor\":\"white\",\"linecolor\":\"white\",\"ticks\":\"\"},\"baxis\":{\"gridcolor\":\"white\",\"linecolor\":\"white\",\"ticks\":\"\"},\"caxis\":{\"gridcolor\":\"white\",\"linecolor\":\"white\",\"ticks\":\"\"}},\"coloraxis\":{\"colorbar\":{\"outlinewidth\":0,\"ticks\":\"\"}},\"colorscale\":{\"sequential\":[[0.0,\"#0d0887\"],[0.1111111111111111,\"#46039f\"],[0.2222222222222222,\"#7201a8\"],[0.3333333333333333,\"#9c179e\"],[0.4444444444444444,\"#bd3786\"],[0.5555555555555556,\"#d8576b\"],[0.6666666666666666,\"#ed7953\"],[0.7777777777777778,\"#fb9f3a\"],[0.8888888888888888,\"#fdca26\"],[1.0,\"#f0f921\"]],\"sequentialminus\":[[0.0,\"#0d0887\"],[0.1111111111111111,\"#46039f\"],[0.2222222222222222,\"#7201a8\"],[0.3333333333333333,\"#9c179e\"],[0.4444444444444444,\"#bd3786\"],[0.5555555555555556,\"#d8576b\"],[0.6666666666666666,\"#ed7953\"],[0.7777777777777778,\"#fb9f3a\"],[0.8888888888888888,\"#fdca26\"],[1.0,\"#f0f921\"]],\"diverging\":[[0,\"#8e0152\"],[0.1,\"#c51b7d\"],[0.2,\"#de77ae\"],[0.3,\"#f1b6da\"],[0.4,\"#fde0ef\"],[0.5,\"#f7f7f7\"],[0.6,\"#e6f5d0\"],[0.7,\"#b8e186\"],[0.8,\"#7fbc41\"],[0.9,\"#4d9221\"],[1,\"#276419\"]]},\"xaxis\":{\"gridcolor\":\"white\",\"linecolor\":\"white\",\"ticks\":\"\",\"title\":{\"standoff\":15},\"zerolinecolor\":\"white\",\"automargin\":true,\"zerolinewidth\":2},\"yaxis\":{\"gridcolor\":\"white\",\"linecolor\":\"white\",\"ticks\":\"\",\"title\":{\"standoff\":15},\"zerolinecolor\":\"white\",\"automargin\":true,\"zerolinewidth\":2},\"scene\":{\"xaxis\":{\"backgroundcolor\":\"#E5ECF6\",\"gridcolor\":\"white\",\"linecolor\":\"white\",\"showbackground\":true,\"ticks\":\"\",\"zerolinecolor\":\"white\",\"gridwidth\":2},\"yaxis\":{\"backgroundcolor\":\"#E5ECF6\",\"gridcolor\":\"white\",\"linecolor\":\"white\",\"showbackground\":true,\"ticks\":\"\",\"zerolinecolor\":\"white\",\"gridwidth\":2},\"zaxis\":{\"backgroundcolor\":\"#E5ECF6\",\"gridcolor\":\"white\",\"linecolor\":\"white\",\"showbackground\":true,\"ticks\":\"\",\"zerolinecolor\":\"white\",\"gridwidth\":2}},\"shapedefaults\":{\"line\":{\"color\":\"#2a3f5f\"}},\"annotationdefaults\":{\"arrowcolor\":\"#2a3f5f\",\"arrowhead\":0,\"arrowwidth\":1},\"geo\":{\"bgcolor\":\"white\",\"landcolor\":\"#E5ECF6\",\"subunitcolor\":\"white\",\"showland\":true,\"showlakes\":true,\"lakecolor\":\"white\"},\"title\":{\"x\":0.05},\"mapbox\":{\"style\":\"light\"}}},\"xaxis\":{\"anchor\":\"y\",\"domain\":[0.0,1.0],\"title\":{\"text\":\"variable\"}},\"yaxis\":{\"anchor\":\"x\",\"domain\":[0.0,1.0],\"title\":{\"text\":\"importance\"}},\"legend\":{\"tracegroupgap\":0},\"margin\":{\"t\":60},\"barmode\":\"relative\"},                        {\"responsive\": true}                    ).then(function(){\n",
       "                            \n",
       "var gd = document.getElementById('3e5d2a79-9219-48d8-913d-6384090163a7');\n",
       "var x = new MutationObserver(function (mutations, observer) {{\n",
       "        var display = window.getComputedStyle(gd).display;\n",
       "        if (!display || display === 'none') {{\n",
       "            console.log([gd, 'removed!']);\n",
       "            Plotly.purge(gd);\n",
       "            observer.disconnect();\n",
       "        }}\n",
       "}});\n",
       "\n",
       "// Listen for the removal of the full notebook cells\n",
       "var notebookContainer = gd.closest('#notebook-container');\n",
       "if (notebookContainer) {{\n",
       "    x.observe(notebookContainer, {childList: true});\n",
       "}}\n",
       "\n",
       "// Listen for the clearing of the current output cell\n",
       "var outputEl = gd.closest('.output');\n",
       "if (outputEl) {{\n",
       "    x.observe(outputEl, {childList: true});\n",
       "}}\n",
       "\n",
       "                        })                };                });            </script>        </div>"
      ]
     },
     "metadata": {},
     "output_type": "display_data"
    }
   ],
   "source": [
    "fig = px.bar(\n",
    "    importance_df_test,\n",
    "    x = \"variable\",\n",
    "    y = \"importance\",\n",
    ")\n",
    "fig.show()"
   ]
  },
  {
   "cell_type": "code",
   "execution_count": 29,
   "metadata": {},
   "outputs": [],
   "source": [
    "predictions_list = []"
   ]
  },
  {
   "cell_type": "code",
   "execution_count": 30,
   "metadata": {},
   "outputs": [],
   "source": [
    "org_s1 = Organism.from_yaml(\n",
    "    path_config=Path(\"/home/thomas/repos/simplify_deployment/data/data_science/50_gen_s1/lag_25_s1_config.yaml\"),\n",
    "    path_genome=Path(\"/home/thomas/repos/simplify_deployment/data/data_science/50_gen_s1/lag_25_simplify_1_0.yaml\"),\n",
    ")\n",
    "y_train_s1, X_train_s1, = org_s1.create_y_X(\n",
    "    y_train,\n",
    "    X_train,\n",
    ")\n",
    "y_test_s1, X_test_s1, = org_s1.create_y_X(\n",
    "    y_test,\n",
    "    X_test,\n",
    ")\n",
    "model = LinearRegression()\n",
    "model.fit(X_train_s1, y_train_s1)\n",
    "predictions_list.append(\n",
    "    pd.Series(\n",
    "        model.predict(X_test_s1),\n",
    "        index = X_test_s1.index,\n",
    "        name = \"y_pred_s1_variables\"\n",
    "    )\n",
    ")\n"
   ]
  },
  {
   "cell_type": "code",
   "execution_count": 31,
   "metadata": {},
   "outputs": [
    {
     "name": "stdout",
     "output_type": "stream",
     "text": [
      "1 variables predicted.\n",
      "2 variables predicted.\n",
      "3 variables predicted.\n",
      "4 variables predicted.\n",
      "5 variables predicted.\n",
      "6 variables predicted.\n",
      "7 variables predicted.\n",
      "8 variables predicted.\n",
      "9 variables predicted.\n",
      "10 variables predicted.\n",
      "11 variables predicted.\n",
      "12 variables predicted.\n",
      "13 variables predicted.\n",
      "14 variables predicted.\n",
      "15 variables predicted.\n",
      "16 variables predicted.\n",
      "17 variables predicted.\n",
      "18 variables predicted.\n",
      "19 variables predicted.\n",
      "20 variables predicted.\n",
      "21 variables predicted.\n",
      "22 variables predicted.\n",
      "23 variables predicted.\n",
      "24 variables predicted.\n",
      "25 variables predicted.\n",
      "26 variables predicted.\n",
      "27 variables predicted.\n",
      "28 variables predicted.\n",
      "29 variables predicted.\n",
      "30 variables predicted.\n",
      "31 variables predicted.\n",
      "32 variables predicted.\n",
      "33 variables predicted.\n",
      "34 variables predicted.\n",
      "35 variables predicted.\n",
      "36 variables predicted.\n",
      "37 variables predicted.\n",
      "38 variables predicted.\n",
      "39 variables predicted.\n",
      "40 variables predicted.\n",
      "41 variables predicted.\n",
      "42 variables predicted.\n",
      "43 variables predicted.\n",
      "44 variables predicted.\n",
      "45 variables predicted.\n",
      "46 variables predicted.\n",
      "47 variables predicted.\n",
      "48 variables predicted.\n",
      "49 variables predicted.\n",
      "50 variables predicted.\n",
      "51 variables predicted.\n",
      "52 variables predicted.\n",
      "53 variables predicted.\n",
      "54 variables predicted.\n",
      "55 variables predicted.\n",
      "56 variables predicted.\n",
      "57 variables predicted.\n",
      "58 variables predicted.\n",
      "59 variables predicted.\n",
      "60 variables predicted.\n",
      "61 variables predicted.\n",
      "62 variables predicted.\n",
      "63 variables predicted.\n",
      "64 variables predicted.\n",
      "65 variables predicted.\n",
      "66 variables predicted.\n",
      "67 variables predicted.\n",
      "68 variables predicted.\n",
      "69 variables predicted.\n",
      "70 variables predicted.\n",
      "71 variables predicted.\n",
      "72 variables predicted.\n",
      "73 variables predicted.\n",
      "74 variables predicted.\n",
      "75 variables predicted.\n",
      "76 variables predicted.\n",
      "77 variables predicted.\n",
      "78 variables predicted.\n",
      "79 variables predicted.\n",
      "80 variables predicted.\n",
      "81 variables predicted.\n",
      "82 variables predicted.\n",
      "83 variables predicted.\n",
      "84 variables predicted.\n"
     ]
    }
   ],
   "source": [
    "model = LinearRegression()\n",
    "for n_variables in range(1, importance_df_train.shape[0] + 1):\n",
    "    vars = (\n",
    "        importance_df_train\n",
    "        .nlargest(\n",
    "            n=n_variables,\n",
    "            keep=\"all\",\n",
    "            columns = \"importance\",\n",
    "        )\n",
    "    )[\"variable\"]\n",
    "    X_train_n_vars = X_train_model.loc[:,vars]\n",
    "    X_test_n_vars = X_test_model.loc[:,vars]\n",
    "    model.fit(\n",
    "        X_train_n_vars,\n",
    "        y_train_model\n",
    "    )\n",
    "    predictions_list.append(\n",
    "        pd.Series(\n",
    "            model.predict(X_test_n_vars),\n",
    "            index = X_test_n_vars.index,\n",
    "            name = f\"y_pred_{n_variables}\"\n",
    "        )\n",
    "    )\n",
    "    print(f\"{n_variables} variables predicted.\")\n"
   ]
  },
  {
   "cell_type": "code",
   "execution_count": 32,
   "metadata": {},
   "outputs": [
    {
     "data": {
      "text/html": [
       "<div>\n",
       "<style scoped>\n",
       "    .dataframe tbody tr th:only-of-type {\n",
       "        vertical-align: middle;\n",
       "    }\n",
       "\n",
       "    .dataframe tbody tr th {\n",
       "        vertical-align: top;\n",
       "    }\n",
       "\n",
       "    .dataframe thead th {\n",
       "        text-align: right;\n",
       "    }\n",
       "</style>\n",
       "<table border=\"1\" class=\"dataframe\">\n",
       "  <thead>\n",
       "    <tr style=\"text-align: right;\">\n",
       "      <th></th>\n",
       "      <th>y_true</th>\n",
       "      <th>y_pred_s1_variables</th>\n",
       "      <th>y_pred_1</th>\n",
       "      <th>y_pred_2</th>\n",
       "      <th>y_pred_3</th>\n",
       "      <th>y_pred_4</th>\n",
       "      <th>y_pred_5</th>\n",
       "      <th>y_pred_6</th>\n",
       "      <th>y_pred_7</th>\n",
       "      <th>y_pred_8</th>\n",
       "      <th>...</th>\n",
       "      <th>y_pred_75</th>\n",
       "      <th>y_pred_76</th>\n",
       "      <th>y_pred_77</th>\n",
       "      <th>y_pred_78</th>\n",
       "      <th>y_pred_79</th>\n",
       "      <th>y_pred_80</th>\n",
       "      <th>y_pred_81</th>\n",
       "      <th>y_pred_82</th>\n",
       "      <th>y_pred_83</th>\n",
       "      <th>y_pred_84</th>\n",
       "    </tr>\n",
       "  </thead>\n",
       "  <tbody>\n",
       "    <tr>\n",
       "      <th>2022-12-29 22:44:00+00:00</th>\n",
       "      <td>22.845</td>\n",
       "      <td>35.952602</td>\n",
       "      <td>21.256924</td>\n",
       "      <td>14.631152</td>\n",
       "      <td>23.101569</td>\n",
       "      <td>25.649102</td>\n",
       "      <td>32.909487</td>\n",
       "      <td>29.890681</td>\n",
       "      <td>73.584561</td>\n",
       "      <td>71.144391</td>\n",
       "      <td>...</td>\n",
       "      <td>51.142661</td>\n",
       "      <td>51.216642</td>\n",
       "      <td>51.484581</td>\n",
       "      <td>51.539279</td>\n",
       "      <td>51.493582</td>\n",
       "      <td>51.429965</td>\n",
       "      <td>51.234018</td>\n",
       "      <td>51.254407</td>\n",
       "      <td>51.267510</td>\n",
       "      <td>51.261902</td>\n",
       "    </tr>\n",
       "    <tr>\n",
       "      <th>2022-12-29 22:59:00+00:00</th>\n",
       "      <td>174.852</td>\n",
       "      <td>86.711506</td>\n",
       "      <td>22.740301</td>\n",
       "      <td>13.554301</td>\n",
       "      <td>72.057874</td>\n",
       "      <td>63.829260</td>\n",
       "      <td>71.037318</td>\n",
       "      <td>65.973604</td>\n",
       "      <td>110.782125</td>\n",
       "      <td>108.704792</td>\n",
       "      <td>...</td>\n",
       "      <td>59.167964</td>\n",
       "      <td>59.196103</td>\n",
       "      <td>59.004268</td>\n",
       "      <td>59.003211</td>\n",
       "      <td>59.051925</td>\n",
       "      <td>59.103952</td>\n",
       "      <td>59.088464</td>\n",
       "      <td>59.098873</td>\n",
       "      <td>59.110039</td>\n",
       "      <td>59.103217</td>\n",
       "    </tr>\n",
       "    <tr>\n",
       "      <th>2022-12-29 23:14:00+00:00</th>\n",
       "      <td>169.275</td>\n",
       "      <td>180.102850</td>\n",
       "      <td>27.392502</td>\n",
       "      <td>-4.552078</td>\n",
       "      <td>36.485116</td>\n",
       "      <td>82.192847</td>\n",
       "      <td>89.035166</td>\n",
       "      <td>165.322527</td>\n",
       "      <td>182.304074</td>\n",
       "      <td>179.097184</td>\n",
       "      <td>...</td>\n",
       "      <td>153.078113</td>\n",
       "      <td>153.140797</td>\n",
       "      <td>153.264038</td>\n",
       "      <td>153.201076</td>\n",
       "      <td>153.279822</td>\n",
       "      <td>153.361371</td>\n",
       "      <td>153.245721</td>\n",
       "      <td>153.231115</td>\n",
       "      <td>153.238227</td>\n",
       "      <td>153.230094</td>\n",
       "    </tr>\n",
       "    <tr>\n",
       "      <th>2022-12-29 23:29:00+00:00</th>\n",
       "      <td>172.610</td>\n",
       "      <td>62.870989</td>\n",
       "      <td>28.852917</td>\n",
       "      <td>20.233795</td>\n",
       "      <td>54.360805</td>\n",
       "      <td>63.594883</td>\n",
       "      <td>65.685552</td>\n",
       "      <td>66.273240</td>\n",
       "      <td>86.290718</td>\n",
       "      <td>83.270836</td>\n",
       "      <td>...</td>\n",
       "      <td>101.512594</td>\n",
       "      <td>101.449259</td>\n",
       "      <td>101.340821</td>\n",
       "      <td>101.363550</td>\n",
       "      <td>101.340492</td>\n",
       "      <td>101.295258</td>\n",
       "      <td>101.201979</td>\n",
       "      <td>101.167563</td>\n",
       "      <td>101.179786</td>\n",
       "      <td>101.170872</td>\n",
       "    </tr>\n",
       "    <tr>\n",
       "      <th>2022-12-29 23:44:00+00:00</th>\n",
       "      <td>176.217</td>\n",
       "      <td>87.978834</td>\n",
       "      <td>30.081411</td>\n",
       "      <td>23.230562</td>\n",
       "      <td>103.945316</td>\n",
       "      <td>64.166692</td>\n",
       "      <td>66.200925</td>\n",
       "      <td>59.519832</td>\n",
       "      <td>84.980438</td>\n",
       "      <td>82.373922</td>\n",
       "      <td>...</td>\n",
       "      <td>87.259373</td>\n",
       "      <td>87.296130</td>\n",
       "      <td>87.114110</td>\n",
       "      <td>87.084615</td>\n",
       "      <td>87.038737</td>\n",
       "      <td>86.994931</td>\n",
       "      <td>86.825161</td>\n",
       "      <td>86.853455</td>\n",
       "      <td>86.861265</td>\n",
       "      <td>86.852635</td>\n",
       "    </tr>\n",
       "    <tr>\n",
       "      <th>...</th>\n",
       "      <td>...</td>\n",
       "      <td>...</td>\n",
       "      <td>...</td>\n",
       "      <td>...</td>\n",
       "      <td>...</td>\n",
       "      <td>...</td>\n",
       "      <td>...</td>\n",
       "      <td>...</td>\n",
       "      <td>...</td>\n",
       "      <td>...</td>\n",
       "      <td>...</td>\n",
       "      <td>...</td>\n",
       "      <td>...</td>\n",
       "      <td>...</td>\n",
       "      <td>...</td>\n",
       "      <td>...</td>\n",
       "      <td>...</td>\n",
       "      <td>...</td>\n",
       "      <td>...</td>\n",
       "      <td>...</td>\n",
       "      <td>...</td>\n",
       "    </tr>\n",
       "    <tr>\n",
       "      <th>2023-01-24 21:29:00+00:00</th>\n",
       "      <td>-20.921</td>\n",
       "      <td>-63.888085</td>\n",
       "      <td>-40.955366</td>\n",
       "      <td>-29.773469</td>\n",
       "      <td>-59.348942</td>\n",
       "      <td>-59.365344</td>\n",
       "      <td>-55.820647</td>\n",
       "      <td>-51.266635</td>\n",
       "      <td>-61.879617</td>\n",
       "      <td>-62.941778</td>\n",
       "      <td>...</td>\n",
       "      <td>-90.757401</td>\n",
       "      <td>-90.798058</td>\n",
       "      <td>-90.910142</td>\n",
       "      <td>-90.810076</td>\n",
       "      <td>-90.910553</td>\n",
       "      <td>-90.969595</td>\n",
       "      <td>-90.905163</td>\n",
       "      <td>-90.869943</td>\n",
       "      <td>-90.862867</td>\n",
       "      <td>-90.867057</td>\n",
       "    </tr>\n",
       "    <tr>\n",
       "      <th>2023-01-24 21:44:00+00:00</th>\n",
       "      <td>-17.655</td>\n",
       "      <td>-42.203108</td>\n",
       "      <td>-41.917495</td>\n",
       "      <td>-37.533533</td>\n",
       "      <td>-70.159214</td>\n",
       "      <td>-62.112052</td>\n",
       "      <td>-58.843453</td>\n",
       "      <td>-43.334327</td>\n",
       "      <td>-44.207391</td>\n",
       "      <td>-44.861277</td>\n",
       "      <td>...</td>\n",
       "      <td>-49.577772</td>\n",
       "      <td>-49.879032</td>\n",
       "      <td>-49.930238</td>\n",
       "      <td>-49.842094</td>\n",
       "      <td>-49.921659</td>\n",
       "      <td>-49.893515</td>\n",
       "      <td>-49.882968</td>\n",
       "      <td>-49.807865</td>\n",
       "      <td>-49.817497</td>\n",
       "      <td>-49.823132</td>\n",
       "    </tr>\n",
       "    <tr>\n",
       "      <th>2023-01-24 21:59:00+00:00</th>\n",
       "      <td>57.908</td>\n",
       "      <td>-76.601096</td>\n",
       "      <td>-41.860088</td>\n",
       "      <td>-44.892587</td>\n",
       "      <td>-35.411350</td>\n",
       "      <td>-64.732879</td>\n",
       "      <td>-62.391116</td>\n",
       "      <td>-63.516483</td>\n",
       "      <td>-58.074329</td>\n",
       "      <td>-58.122123</td>\n",
       "      <td>...</td>\n",
       "      <td>-54.095272</td>\n",
       "      <td>-54.235008</td>\n",
       "      <td>-54.123800</td>\n",
       "      <td>-54.043389</td>\n",
       "      <td>-53.795597</td>\n",
       "      <td>-53.763904</td>\n",
       "      <td>-53.665879</td>\n",
       "      <td>-53.648009</td>\n",
       "      <td>-53.645511</td>\n",
       "      <td>-53.651589</td>\n",
       "    </tr>\n",
       "    <tr>\n",
       "      <th>2023-01-24 22:14:00+00:00</th>\n",
       "      <td>6.918</td>\n",
       "      <td>-41.617466</td>\n",
       "      <td>-41.233212</td>\n",
       "      <td>-48.369338</td>\n",
       "      <td>-11.344528</td>\n",
       "      <td>-32.987074</td>\n",
       "      <td>-30.657320</td>\n",
       "      <td>-37.521134</td>\n",
       "      <td>-31.002235</td>\n",
       "      <td>-31.696580</td>\n",
       "      <td>...</td>\n",
       "      <td>-56.058029</td>\n",
       "      <td>-56.142560</td>\n",
       "      <td>-56.045583</td>\n",
       "      <td>-56.112511</td>\n",
       "      <td>-56.130457</td>\n",
       "      <td>-56.104130</td>\n",
       "      <td>-55.990991</td>\n",
       "      <td>-55.988870</td>\n",
       "      <td>-55.976949</td>\n",
       "      <td>-55.984620</td>\n",
       "    </tr>\n",
       "    <tr>\n",
       "      <th>2023-01-24 22:29:00+00:00</th>\n",
       "      <td>44.859</td>\n",
       "      <td>-16.133380</td>\n",
       "      <td>-40.337675</td>\n",
       "      <td>-49.370561</td>\n",
       "      <td>10.248526</td>\n",
       "      <td>-36.200545</td>\n",
       "      <td>-33.463723</td>\n",
       "      <td>-31.882338</td>\n",
       "      <td>-22.595438</td>\n",
       "      <td>-22.927529</td>\n",
       "      <td>...</td>\n",
       "      <td>-29.428534</td>\n",
       "      <td>-29.547062</td>\n",
       "      <td>-29.628248</td>\n",
       "      <td>-29.713759</td>\n",
       "      <td>-29.687521</td>\n",
       "      <td>-29.722226</td>\n",
       "      <td>-29.782167</td>\n",
       "      <td>-29.976777</td>\n",
       "      <td>-29.985458</td>\n",
       "      <td>-29.993487</td>\n",
       "    </tr>\n",
       "  </tbody>\n",
       "</table>\n",
       "<p>2496 rows × 86 columns</p>\n",
       "</div>"
      ],
      "text/plain": [
       "                            y_true  y_pred_s1_variables   y_pred_1   y_pred_2  \\\n",
       "2022-12-29 22:44:00+00:00   22.845            35.952602  21.256924  14.631152   \n",
       "2022-12-29 22:59:00+00:00  174.852            86.711506  22.740301  13.554301   \n",
       "2022-12-29 23:14:00+00:00  169.275           180.102850  27.392502  -4.552078   \n",
       "2022-12-29 23:29:00+00:00  172.610            62.870989  28.852917  20.233795   \n",
       "2022-12-29 23:44:00+00:00  176.217            87.978834  30.081411  23.230562   \n",
       "...                            ...                  ...        ...        ...   \n",
       "2023-01-24 21:29:00+00:00  -20.921           -63.888085 -40.955366 -29.773469   \n",
       "2023-01-24 21:44:00+00:00  -17.655           -42.203108 -41.917495 -37.533533   \n",
       "2023-01-24 21:59:00+00:00   57.908           -76.601096 -41.860088 -44.892587   \n",
       "2023-01-24 22:14:00+00:00    6.918           -41.617466 -41.233212 -48.369338   \n",
       "2023-01-24 22:29:00+00:00   44.859           -16.133380 -40.337675 -49.370561   \n",
       "\n",
       "                             y_pred_3   y_pred_4   y_pred_5    y_pred_6  \\\n",
       "2022-12-29 22:44:00+00:00   23.101569  25.649102  32.909487   29.890681   \n",
       "2022-12-29 22:59:00+00:00   72.057874  63.829260  71.037318   65.973604   \n",
       "2022-12-29 23:14:00+00:00   36.485116  82.192847  89.035166  165.322527   \n",
       "2022-12-29 23:29:00+00:00   54.360805  63.594883  65.685552   66.273240   \n",
       "2022-12-29 23:44:00+00:00  103.945316  64.166692  66.200925   59.519832   \n",
       "...                               ...        ...        ...         ...   \n",
       "2023-01-24 21:29:00+00:00  -59.348942 -59.365344 -55.820647  -51.266635   \n",
       "2023-01-24 21:44:00+00:00  -70.159214 -62.112052 -58.843453  -43.334327   \n",
       "2023-01-24 21:59:00+00:00  -35.411350 -64.732879 -62.391116  -63.516483   \n",
       "2023-01-24 22:14:00+00:00  -11.344528 -32.987074 -30.657320  -37.521134   \n",
       "2023-01-24 22:29:00+00:00   10.248526 -36.200545 -33.463723  -31.882338   \n",
       "\n",
       "                             y_pred_7    y_pred_8  ...   y_pred_75  \\\n",
       "2022-12-29 22:44:00+00:00   73.584561   71.144391  ...   51.142661   \n",
       "2022-12-29 22:59:00+00:00  110.782125  108.704792  ...   59.167964   \n",
       "2022-12-29 23:14:00+00:00  182.304074  179.097184  ...  153.078113   \n",
       "2022-12-29 23:29:00+00:00   86.290718   83.270836  ...  101.512594   \n",
       "2022-12-29 23:44:00+00:00   84.980438   82.373922  ...   87.259373   \n",
       "...                               ...         ...  ...         ...   \n",
       "2023-01-24 21:29:00+00:00  -61.879617  -62.941778  ...  -90.757401   \n",
       "2023-01-24 21:44:00+00:00  -44.207391  -44.861277  ...  -49.577772   \n",
       "2023-01-24 21:59:00+00:00  -58.074329  -58.122123  ...  -54.095272   \n",
       "2023-01-24 22:14:00+00:00  -31.002235  -31.696580  ...  -56.058029   \n",
       "2023-01-24 22:29:00+00:00  -22.595438  -22.927529  ...  -29.428534   \n",
       "\n",
       "                            y_pred_76   y_pred_77   y_pred_78   y_pred_79  \\\n",
       "2022-12-29 22:44:00+00:00   51.216642   51.484581   51.539279   51.493582   \n",
       "2022-12-29 22:59:00+00:00   59.196103   59.004268   59.003211   59.051925   \n",
       "2022-12-29 23:14:00+00:00  153.140797  153.264038  153.201076  153.279822   \n",
       "2022-12-29 23:29:00+00:00  101.449259  101.340821  101.363550  101.340492   \n",
       "2022-12-29 23:44:00+00:00   87.296130   87.114110   87.084615   87.038737   \n",
       "...                               ...         ...         ...         ...   \n",
       "2023-01-24 21:29:00+00:00  -90.798058  -90.910142  -90.810076  -90.910553   \n",
       "2023-01-24 21:44:00+00:00  -49.879032  -49.930238  -49.842094  -49.921659   \n",
       "2023-01-24 21:59:00+00:00  -54.235008  -54.123800  -54.043389  -53.795597   \n",
       "2023-01-24 22:14:00+00:00  -56.142560  -56.045583  -56.112511  -56.130457   \n",
       "2023-01-24 22:29:00+00:00  -29.547062  -29.628248  -29.713759  -29.687521   \n",
       "\n",
       "                            y_pred_80   y_pred_81   y_pred_82   y_pred_83  \\\n",
       "2022-12-29 22:44:00+00:00   51.429965   51.234018   51.254407   51.267510   \n",
       "2022-12-29 22:59:00+00:00   59.103952   59.088464   59.098873   59.110039   \n",
       "2022-12-29 23:14:00+00:00  153.361371  153.245721  153.231115  153.238227   \n",
       "2022-12-29 23:29:00+00:00  101.295258  101.201979  101.167563  101.179786   \n",
       "2022-12-29 23:44:00+00:00   86.994931   86.825161   86.853455   86.861265   \n",
       "...                               ...         ...         ...         ...   \n",
       "2023-01-24 21:29:00+00:00  -90.969595  -90.905163  -90.869943  -90.862867   \n",
       "2023-01-24 21:44:00+00:00  -49.893515  -49.882968  -49.807865  -49.817497   \n",
       "2023-01-24 21:59:00+00:00  -53.763904  -53.665879  -53.648009  -53.645511   \n",
       "2023-01-24 22:14:00+00:00  -56.104130  -55.990991  -55.988870  -55.976949   \n",
       "2023-01-24 22:29:00+00:00  -29.722226  -29.782167  -29.976777  -29.985458   \n",
       "\n",
       "                            y_pred_84  \n",
       "2022-12-29 22:44:00+00:00   51.261902  \n",
       "2022-12-29 22:59:00+00:00   59.103217  \n",
       "2022-12-29 23:14:00+00:00  153.230094  \n",
       "2022-12-29 23:29:00+00:00  101.170872  \n",
       "2022-12-29 23:44:00+00:00   86.852635  \n",
       "...                               ...  \n",
       "2023-01-24 21:29:00+00:00  -90.867057  \n",
       "2023-01-24 21:44:00+00:00  -49.823132  \n",
       "2023-01-24 21:59:00+00:00  -53.651589  \n",
       "2023-01-24 22:14:00+00:00  -55.984620  \n",
       "2023-01-24 22:29:00+00:00  -29.993487  \n",
       "\n",
       "[2496 rows x 86 columns]"
      ]
     },
     "execution_count": 32,
     "metadata": {},
     "output_type": "execute_result"
    }
   ],
   "source": [
    "pred_df = reduce(\n",
    "    lambda a,b: pd.merge(a,b, left_index = True, right_index = True),\n",
    "    [y_test_model] + predictions_list\n",
    ")\n",
    "pred_df"
   ]
  },
  {
   "cell_type": "code",
   "execution_count": 33,
   "metadata": {},
   "outputs": [],
   "source": [
    "rmse_list = []\n",
    "for column in pred_df.columns[1:]:\n",
    "    rmse = np.sqrt(\n",
    "        mean_squared_error(\n",
    "            y_true=pred_df[\"y_true\"],\n",
    "            y_pred=pred_df[column],\n",
    "        )\n",
    "    )\n",
    "    if column == \"y_pred_s1_variables\":\n",
    "        n_vars = 28\n",
    "        source = \"s1\"\n",
    "        last_added_variable = \"S1\"\n",
    "    else:\n",
    "        n_vars = int(column.split(\"y_pred_\")[1])\n",
    "        source = \"ga\"\n",
    "        last_added_variable = importance_df_train.iloc[n_vars-1,0]\n",
    "    rmse_list.append(\n",
    "        {\n",
    "            \"source\":source,\n",
    "            \"n_vars\": n_vars,\n",
    "            \"rmse\":rmse,\n",
    "            \"last_added_variable\": last_added_variable,\n",
    "        }\n",
    "    )\n",
    "rmse_df = pd.DataFrame(\n",
    "    rmse_list,\n",
    ")"
   ]
  },
  {
   "cell_type": "code",
   "execution_count": 34,
   "metadata": {},
   "outputs": [
    {
     "data": {
      "text/html": [
       "<div>\n",
       "<style scoped>\n",
       "    .dataframe tbody tr th:only-of-type {\n",
       "        vertical-align: middle;\n",
       "    }\n",
       "\n",
       "    .dataframe tbody tr th {\n",
       "        vertical-align: top;\n",
       "    }\n",
       "\n",
       "    .dataframe thead th {\n",
       "        text-align: right;\n",
       "    }\n",
       "</style>\n",
       "<table border=\"1\" class=\"dataframe\">\n",
       "  <thead>\n",
       "    <tr style=\"text-align: right;\">\n",
       "      <th></th>\n",
       "      <th>source</th>\n",
       "      <th>n_vars</th>\n",
       "      <th>rmse</th>\n",
       "      <th>last_added_variable</th>\n",
       "    </tr>\n",
       "  </thead>\n",
       "  <tbody>\n",
       "    <tr>\n",
       "      <th>0</th>\n",
       "      <td>s1</td>\n",
       "      <td>28</td>\n",
       "      <td>115.925440</td>\n",
       "      <td>S1</td>\n",
       "    </tr>\n",
       "    <tr>\n",
       "      <th>1</th>\n",
       "      <td>ga</td>\n",
       "      <td>1</td>\n",
       "      <td>135.352409</td>\n",
       "      <td>dsO_ID_MW_lag_10</td>\n",
       "    </tr>\n",
       "    <tr>\n",
       "      <th>2</th>\n",
       "      <td>ga</td>\n",
       "      <td>2</td>\n",
       "      <td>132.091360</td>\n",
       "      <td>dsO_ID_MW_lag_25</td>\n",
       "    </tr>\n",
       "    <tr>\n",
       "      <th>3</th>\n",
       "      <td>ga</td>\n",
       "      <td>3</td>\n",
       "      <td>120.297331</td>\n",
       "      <td>siCumulative_lag_25</td>\n",
       "    </tr>\n",
       "    <tr>\n",
       "      <th>4</th>\n",
       "      <td>ga</td>\n",
       "      <td>4</td>\n",
       "      <td>119.983746</td>\n",
       "      <td>siCumulative_lag_26</td>\n",
       "    </tr>\n",
       "    <tr>\n",
       "      <th>...</th>\n",
       "      <td>...</td>\n",
       "      <td>...</td>\n",
       "      <td>...</td>\n",
       "      <td>...</td>\n",
       "    </tr>\n",
       "    <tr>\n",
       "      <th>80</th>\n",
       "      <td>ga</td>\n",
       "      <td>80</td>\n",
       "      <td>111.391638</td>\n",
       "      <td>siCumulative_band_pass_1_0_h_lag_1952</td>\n",
       "    </tr>\n",
       "    <tr>\n",
       "      <th>81</th>\n",
       "      <td>ga</td>\n",
       "      <td>81</td>\n",
       "      <td>111.390450</td>\n",
       "      <td>siCumulative_second_derivative_lag_213</td>\n",
       "    </tr>\n",
       "    <tr>\n",
       "      <th>82</th>\n",
       "      <td>ga</td>\n",
       "      <td>82</td>\n",
       "      <td>111.390890</td>\n",
       "      <td>siCumulative_first_derivative_lag_1520</td>\n",
       "    </tr>\n",
       "    <tr>\n",
       "      <th>83</th>\n",
       "      <td>ga</td>\n",
       "      <td>83</td>\n",
       "      <td>111.390738</td>\n",
       "      <td>siCumulative_second_derivative_lag_1597</td>\n",
       "    </tr>\n",
       "    <tr>\n",
       "      <th>84</th>\n",
       "      <td>ga</td>\n",
       "      <td>84</td>\n",
       "      <td>111.390806</td>\n",
       "      <td>siCumulative_band_pass_0_25_h_lag_2658</td>\n",
       "    </tr>\n",
       "  </tbody>\n",
       "</table>\n",
       "<p>85 rows × 4 columns</p>\n",
       "</div>"
      ],
      "text/plain": [
       "   source  n_vars        rmse                      last_added_variable\n",
       "0      s1      28  115.925440                                       S1\n",
       "1      ga       1  135.352409                         dsO_ID_MW_lag_10\n",
       "2      ga       2  132.091360                         dsO_ID_MW_lag_25\n",
       "3      ga       3  120.297331                      siCumulative_lag_25\n",
       "4      ga       4  119.983746                      siCumulative_lag_26\n",
       "..    ...     ...         ...                                      ...\n",
       "80     ga      80  111.391638    siCumulative_band_pass_1_0_h_lag_1952\n",
       "81     ga      81  111.390450   siCumulative_second_derivative_lag_213\n",
       "82     ga      82  111.390890   siCumulative_first_derivative_lag_1520\n",
       "83     ga      83  111.390738  siCumulative_second_derivative_lag_1597\n",
       "84     ga      84  111.390806   siCumulative_band_pass_0_25_h_lag_2658\n",
       "\n",
       "[85 rows x 4 columns]"
      ]
     },
     "execution_count": 34,
     "metadata": {},
     "output_type": "execute_result"
    }
   ],
   "source": [
    "rmse_df"
   ]
  },
  {
   "cell_type": "code",
   "execution_count": 35,
   "metadata": {},
   "outputs": [
    {
     "data": {
      "application/vnd.plotly.v1+json": {
       "config": {
        "plotlyServerURL": "https://plot.ly"
       },
       "data": [
        {
         "customdata": [
          [
           "S1"
          ]
         ],
         "hovertemplate": "source=s1<br>n_vars=%{x}<br>rmse=%{y}<br>last_added_variable=%{customdata[0]}<extra></extra>",
         "legendgroup": "s1",
         "marker": {
          "color": "#636efa",
          "symbol": "circle"
         },
         "mode": "markers",
         "name": "s1",
         "orientation": "v",
         "showlegend": true,
         "type": "scatter",
         "x": [
          28
         ],
         "xaxis": "x",
         "y": [
          115.92543990306561
         ],
         "yaxis": "y"
        },
        {
         "customdata": [
          [
           "dsO_ID_MW_lag_10"
          ],
          [
           "dsO_ID_MW_lag_25"
          ],
          [
           "siCumulative_lag_25"
          ],
          [
           "siCumulative_lag_26"
          ],
          [
           "xB_ID_MW_lag_25"
          ],
          [
           "xB_ID_MW_lag_10"
          ],
          [
           "dsO_ID_MW_lag_-20"
          ],
          [
           "loaD_ID_MW_lag_10"
          ],
          [
           "loaD_ID_MW_lag_25"
          ],
          [
           "siCumulative_lag_61"
          ],
          [
           "dsO_ID_MW_lag_70"
          ],
          [
           "dsO_ID_MW_lag_85"
          ],
          [
           "loaD_ID_MW_lag_55"
          ],
          [
           "xB_ID_MW_lag_55"
          ],
          [
           "loaD_ID_MW_lag_85"
          ],
          [
           "siCumulative_cumsum_during_quarter_lag_37"
          ],
          [
           "siCumulative_lag_64"
          ],
          [
           "siCumulative_band_pass_12_0_h_lag_389"
          ],
          [
           "siCumulative_low_pass_0_25_h_lag_288"
          ],
          [
           "siCumulative_low_pass_24_0_h_lag_1822"
          ],
          [
           "xB_ID_MW_lag_-20"
          ],
          [
           "loaD_ID_MW_lag_-20"
          ],
          [
           "siCumulative_band_pass_12_0_h_lag_2855"
          ],
          [
           "siCumulative_low_pass_24_0_h_lag_1879"
          ],
          [
           "siCumulative_high_pass_24_0_h_lag_294"
          ],
          [
           "siCumulative_lag_28"
          ],
          [
           "siCumulative_low_pass_12_0_h_lag_496"
          ],
          [
           "xB_ID_MW_lag_70"
          ],
          [
           "siCumulative_lag_27"
          ],
          [
           "siCumulative_first_derivative_lag_30"
          ],
          [
           "siCumulative_band_pass_1_0_h_lag_1174"
          ],
          [
           "siCumulative_band_pass_12_0_h_lag_2657"
          ],
          [
           "siCumulative_band_pass_24_0_h_lag_2691"
          ],
          [
           "siCumulative_first_derivative_lag_45"
          ],
          [
           "siCumulative_high_pass_24_0_h_lag_1468"
          ],
          [
           "siCumulative_low_pass_24_0_h_lag_1148"
          ],
          [
           "siCumulative_band_pass_24_0_h_lag_2523"
          ],
          [
           "siCumulative_high_pass_1_0_h_lag_825"
          ],
          [
           "siCumulative_lag_1404"
          ],
          [
           "siCumulative_low_pass_0_25_h_lag_2833"
          ],
          [
           "siCumulative_lag_325"
          ],
          [
           "siCumulative_low_pass_24_0_h_lag_2125"
          ],
          [
           "siCumulative_second_derivative_lag_236"
          ],
          [
           "siCumulative_low_pass_24_0_h_lag_2588"
          ],
          [
           "siCumulative_lag_693"
          ],
          [
           "siCumulative_high_pass_24_0_h_lag_1626"
          ],
          [
           "siCumulative_low_pass_12_0_h_lag_2431"
          ],
          [
           "siCumulative_low_pass_24_0_h_lag_1946"
          ],
          [
           "siCumulative_lag_1395"
          ],
          [
           "siCumulative_band_pass_1_0_h_lag_779"
          ],
          [
           "siCumulative_first_derivative_lag_2440"
          ],
          [
           "siCumulative_low_pass_12_0_h_lag_943"
          ],
          [
           "siCumulative_band_pass_1_0_h_lag_2852"
          ],
          [
           "siCumulative_high_pass_12_0_h_lag_764"
          ],
          [
           "siCumulative_band_pass_1_0_h_lag_2832"
          ],
          [
           "siCumulative_lag_1401"
          ],
          [
           "siCumulative_lag_371"
          ],
          [
           "siCumulative_first_derivative_lag_1604"
          ],
          [
           "siCumulative_second_derivative_lag_528"
          ],
          [
           "siCumulative_high_pass_1_0_h_lag_1859"
          ],
          [
           "siCumulative_second_derivative_lag_427"
          ],
          [
           "siCumulative_band_pass_24_0_h_lag_614"
          ],
          [
           "siCumulative_low_pass_0_25_h_lag_2603"
          ],
          [
           "siCumulative_high_pass_0_25_h_lag_121"
          ],
          [
           "siCumulative_band_pass_1_0_h_lag_2657"
          ],
          [
           "siCumulative_low_pass_12_0_h_lag_836"
          ],
          [
           "siCumulative_band_pass_0_25_h_lag_1178"
          ],
          [
           "siCumulative_band_pass_0_25_h_lag_2199"
          ],
          [
           "siCumulative_first_derivative_lag_1976"
          ],
          [
           "siCumulative_low_pass_1_0_h_lag_1943"
          ],
          [
           "siCumulative_high_pass_1_0_h_lag_1869"
          ],
          [
           "siCumulative_first_derivative_lag_2547"
          ],
          [
           "siCumulative_second_derivative_lag_794"
          ],
          [
           "siCumulative_cumsum_during_quarter_lag_1971"
          ],
          [
           "siCumulative_high_pass_1_0_h_lag_205"
          ],
          [
           "siCumulative_cumsum_during_quarter_lag_1608"
          ],
          [
           "siCumulative_high_pass_1_0_h_lag_2679"
          ],
          [
           "siCumulative_low_pass_1_0_h_lag_2716"
          ],
          [
           "siCumulative_high_pass_12_0_h_lag_1671"
          ],
          [
           "siCumulative_band_pass_1_0_h_lag_1952"
          ],
          [
           "siCumulative_second_derivative_lag_213"
          ],
          [
           "siCumulative_first_derivative_lag_1520"
          ],
          [
           "siCumulative_second_derivative_lag_1597"
          ],
          [
           "siCumulative_band_pass_0_25_h_lag_2658"
          ]
         ],
         "hovertemplate": "source=ga<br>n_vars=%{x}<br>rmse=%{y}<br>last_added_variable=%{customdata[0]}<extra></extra>",
         "legendgroup": "ga",
         "marker": {
          "color": "#EF553B",
          "symbol": "circle"
         },
         "mode": "markers",
         "name": "ga",
         "orientation": "v",
         "showlegend": true,
         "type": "scatter",
         "x": [
          1,
          2,
          3,
          4,
          5,
          6,
          7,
          8,
          9,
          10,
          11,
          12,
          13,
          14,
          15,
          16,
          17,
          18,
          19,
          20,
          21,
          22,
          23,
          24,
          25,
          26,
          27,
          28,
          29,
          30,
          31,
          32,
          33,
          34,
          35,
          36,
          37,
          38,
          39,
          40,
          41,
          42,
          43,
          44,
          45,
          46,
          47,
          48,
          49,
          50,
          51,
          52,
          53,
          54,
          55,
          56,
          57,
          58,
          59,
          60,
          61,
          62,
          63,
          64,
          65,
          66,
          67,
          68,
          69,
          70,
          71,
          72,
          73,
          74,
          75,
          76,
          77,
          78,
          79,
          80,
          81,
          82,
          83,
          84
         ],
         "xaxis": "x",
         "y": [
          135.35240892294138,
          132.09135953138903,
          120.29733099641922,
          119.98374617074984,
          119.7479550839658,
          118.94801894232644,
          116.40051998548893,
          116.85421672428967,
          116.50601839632189,
          113.54700793791125,
          112.94122156142552,
          112.97040183988904,
          113.01173636716162,
          113.23056305722199,
          113.14431071578021,
          111.80071219646597,
          111.7187268454807,
          111.74409224297158,
          111.81960981289892,
          111.81878971483206,
          111.8773639973623,
          111.80195224316216,
          111.78311373917215,
          111.77348728053086,
          111.7121964463513,
          111.73739474575683,
          111.64966530600725,
          111.61780934852361,
          111.6155984463347,
          111.52350656339759,
          111.44699570512317,
          111.44699188266075,
          111.46176755664283,
          111.454339049738,
          111.37648227606161,
          111.32788160795351,
          111.31986836046494,
          111.39414119049711,
          111.3498249640709,
          111.3237278678083,
          111.31431200877938,
          111.31623244555495,
          111.34460874984089,
          111.35361945054339,
          111.45506319152281,
          111.41525932249584,
          111.39202713187713,
          111.38802272227153,
          111.37822033827707,
          111.36727618311993,
          111.35378293835498,
          111.31034572967825,
          111.32107313560596,
          111.3900996781528,
          111.38998881612704,
          111.38712006405845,
          111.40019344103277,
          111.40434526611337,
          111.35281801543104,
          111.34714042739257,
          111.36018169791427,
          111.36021060637212,
          111.35895734736135,
          111.38522915380258,
          111.38819704587323,
          111.38382007328649,
          111.39567876923557,
          111.36964379171582,
          111.37052040461427,
          111.38071536767528,
          111.37593850840345,
          111.39502494596174,
          111.39118252161815,
          111.39137938263401,
          111.38007729936797,
          111.38307480635736,
          111.38856549583966,
          111.38949146853975,
          111.39101749082312,
          111.39163763566992,
          111.39044950954721,
          111.39088966037555,
          111.39073849665841,
          111.39080597768245
         ],
         "yaxis": "y"
        }
       ],
       "layout": {
        "legend": {
         "title": {
          "text": "source"
         },
         "tracegroupgap": 0
        },
        "margin": {
         "t": 60
        },
        "template": {
         "data": {
          "bar": [
           {
            "error_x": {
             "color": "#2a3f5f"
            },
            "error_y": {
             "color": "#2a3f5f"
            },
            "marker": {
             "line": {
              "color": "#E5ECF6",
              "width": 0.5
             },
             "pattern": {
              "fillmode": "overlay",
              "size": 10,
              "solidity": 0.2
             }
            },
            "type": "bar"
           }
          ],
          "barpolar": [
           {
            "marker": {
             "line": {
              "color": "#E5ECF6",
              "width": 0.5
             },
             "pattern": {
              "fillmode": "overlay",
              "size": 10,
              "solidity": 0.2
             }
            },
            "type": "barpolar"
           }
          ],
          "carpet": [
           {
            "aaxis": {
             "endlinecolor": "#2a3f5f",
             "gridcolor": "white",
             "linecolor": "white",
             "minorgridcolor": "white",
             "startlinecolor": "#2a3f5f"
            },
            "baxis": {
             "endlinecolor": "#2a3f5f",
             "gridcolor": "white",
             "linecolor": "white",
             "minorgridcolor": "white",
             "startlinecolor": "#2a3f5f"
            },
            "type": "carpet"
           }
          ],
          "choropleth": [
           {
            "colorbar": {
             "outlinewidth": 0,
             "ticks": ""
            },
            "type": "choropleth"
           }
          ],
          "contour": [
           {
            "colorbar": {
             "outlinewidth": 0,
             "ticks": ""
            },
            "colorscale": [
             [
              0,
              "#0d0887"
             ],
             [
              0.1111111111111111,
              "#46039f"
             ],
             [
              0.2222222222222222,
              "#7201a8"
             ],
             [
              0.3333333333333333,
              "#9c179e"
             ],
             [
              0.4444444444444444,
              "#bd3786"
             ],
             [
              0.5555555555555556,
              "#d8576b"
             ],
             [
              0.6666666666666666,
              "#ed7953"
             ],
             [
              0.7777777777777778,
              "#fb9f3a"
             ],
             [
              0.8888888888888888,
              "#fdca26"
             ],
             [
              1,
              "#f0f921"
             ]
            ],
            "type": "contour"
           }
          ],
          "contourcarpet": [
           {
            "colorbar": {
             "outlinewidth": 0,
             "ticks": ""
            },
            "type": "contourcarpet"
           }
          ],
          "heatmap": [
           {
            "colorbar": {
             "outlinewidth": 0,
             "ticks": ""
            },
            "colorscale": [
             [
              0,
              "#0d0887"
             ],
             [
              0.1111111111111111,
              "#46039f"
             ],
             [
              0.2222222222222222,
              "#7201a8"
             ],
             [
              0.3333333333333333,
              "#9c179e"
             ],
             [
              0.4444444444444444,
              "#bd3786"
             ],
             [
              0.5555555555555556,
              "#d8576b"
             ],
             [
              0.6666666666666666,
              "#ed7953"
             ],
             [
              0.7777777777777778,
              "#fb9f3a"
             ],
             [
              0.8888888888888888,
              "#fdca26"
             ],
             [
              1,
              "#f0f921"
             ]
            ],
            "type": "heatmap"
           }
          ],
          "heatmapgl": [
           {
            "colorbar": {
             "outlinewidth": 0,
             "ticks": ""
            },
            "colorscale": [
             [
              0,
              "#0d0887"
             ],
             [
              0.1111111111111111,
              "#46039f"
             ],
             [
              0.2222222222222222,
              "#7201a8"
             ],
             [
              0.3333333333333333,
              "#9c179e"
             ],
             [
              0.4444444444444444,
              "#bd3786"
             ],
             [
              0.5555555555555556,
              "#d8576b"
             ],
             [
              0.6666666666666666,
              "#ed7953"
             ],
             [
              0.7777777777777778,
              "#fb9f3a"
             ],
             [
              0.8888888888888888,
              "#fdca26"
             ],
             [
              1,
              "#f0f921"
             ]
            ],
            "type": "heatmapgl"
           }
          ],
          "histogram": [
           {
            "marker": {
             "pattern": {
              "fillmode": "overlay",
              "size": 10,
              "solidity": 0.2
             }
            },
            "type": "histogram"
           }
          ],
          "histogram2d": [
           {
            "colorbar": {
             "outlinewidth": 0,
             "ticks": ""
            },
            "colorscale": [
             [
              0,
              "#0d0887"
             ],
             [
              0.1111111111111111,
              "#46039f"
             ],
             [
              0.2222222222222222,
              "#7201a8"
             ],
             [
              0.3333333333333333,
              "#9c179e"
             ],
             [
              0.4444444444444444,
              "#bd3786"
             ],
             [
              0.5555555555555556,
              "#d8576b"
             ],
             [
              0.6666666666666666,
              "#ed7953"
             ],
             [
              0.7777777777777778,
              "#fb9f3a"
             ],
             [
              0.8888888888888888,
              "#fdca26"
             ],
             [
              1,
              "#f0f921"
             ]
            ],
            "type": "histogram2d"
           }
          ],
          "histogram2dcontour": [
           {
            "colorbar": {
             "outlinewidth": 0,
             "ticks": ""
            },
            "colorscale": [
             [
              0,
              "#0d0887"
             ],
             [
              0.1111111111111111,
              "#46039f"
             ],
             [
              0.2222222222222222,
              "#7201a8"
             ],
             [
              0.3333333333333333,
              "#9c179e"
             ],
             [
              0.4444444444444444,
              "#bd3786"
             ],
             [
              0.5555555555555556,
              "#d8576b"
             ],
             [
              0.6666666666666666,
              "#ed7953"
             ],
             [
              0.7777777777777778,
              "#fb9f3a"
             ],
             [
              0.8888888888888888,
              "#fdca26"
             ],
             [
              1,
              "#f0f921"
             ]
            ],
            "type": "histogram2dcontour"
           }
          ],
          "mesh3d": [
           {
            "colorbar": {
             "outlinewidth": 0,
             "ticks": ""
            },
            "type": "mesh3d"
           }
          ],
          "parcoords": [
           {
            "line": {
             "colorbar": {
              "outlinewidth": 0,
              "ticks": ""
             }
            },
            "type": "parcoords"
           }
          ],
          "pie": [
           {
            "automargin": true,
            "type": "pie"
           }
          ],
          "scatter": [
           {
            "fillpattern": {
             "fillmode": "overlay",
             "size": 10,
             "solidity": 0.2
            },
            "type": "scatter"
           }
          ],
          "scatter3d": [
           {
            "line": {
             "colorbar": {
              "outlinewidth": 0,
              "ticks": ""
             }
            },
            "marker": {
             "colorbar": {
              "outlinewidth": 0,
              "ticks": ""
             }
            },
            "type": "scatter3d"
           }
          ],
          "scattercarpet": [
           {
            "marker": {
             "colorbar": {
              "outlinewidth": 0,
              "ticks": ""
             }
            },
            "type": "scattercarpet"
           }
          ],
          "scattergeo": [
           {
            "marker": {
             "colorbar": {
              "outlinewidth": 0,
              "ticks": ""
             }
            },
            "type": "scattergeo"
           }
          ],
          "scattergl": [
           {
            "marker": {
             "colorbar": {
              "outlinewidth": 0,
              "ticks": ""
             }
            },
            "type": "scattergl"
           }
          ],
          "scattermapbox": [
           {
            "marker": {
             "colorbar": {
              "outlinewidth": 0,
              "ticks": ""
             }
            },
            "type": "scattermapbox"
           }
          ],
          "scatterpolar": [
           {
            "marker": {
             "colorbar": {
              "outlinewidth": 0,
              "ticks": ""
             }
            },
            "type": "scatterpolar"
           }
          ],
          "scatterpolargl": [
           {
            "marker": {
             "colorbar": {
              "outlinewidth": 0,
              "ticks": ""
             }
            },
            "type": "scatterpolargl"
           }
          ],
          "scatterternary": [
           {
            "marker": {
             "colorbar": {
              "outlinewidth": 0,
              "ticks": ""
             }
            },
            "type": "scatterternary"
           }
          ],
          "surface": [
           {
            "colorbar": {
             "outlinewidth": 0,
             "ticks": ""
            },
            "colorscale": [
             [
              0,
              "#0d0887"
             ],
             [
              0.1111111111111111,
              "#46039f"
             ],
             [
              0.2222222222222222,
              "#7201a8"
             ],
             [
              0.3333333333333333,
              "#9c179e"
             ],
             [
              0.4444444444444444,
              "#bd3786"
             ],
             [
              0.5555555555555556,
              "#d8576b"
             ],
             [
              0.6666666666666666,
              "#ed7953"
             ],
             [
              0.7777777777777778,
              "#fb9f3a"
             ],
             [
              0.8888888888888888,
              "#fdca26"
             ],
             [
              1,
              "#f0f921"
             ]
            ],
            "type": "surface"
           }
          ],
          "table": [
           {
            "cells": {
             "fill": {
              "color": "#EBF0F8"
             },
             "line": {
              "color": "white"
             }
            },
            "header": {
             "fill": {
              "color": "#C8D4E3"
             },
             "line": {
              "color": "white"
             }
            },
            "type": "table"
           }
          ]
         },
         "layout": {
          "annotationdefaults": {
           "arrowcolor": "#2a3f5f",
           "arrowhead": 0,
           "arrowwidth": 1
          },
          "autotypenumbers": "strict",
          "coloraxis": {
           "colorbar": {
            "outlinewidth": 0,
            "ticks": ""
           }
          },
          "colorscale": {
           "diverging": [
            [
             0,
             "#8e0152"
            ],
            [
             0.1,
             "#c51b7d"
            ],
            [
             0.2,
             "#de77ae"
            ],
            [
             0.3,
             "#f1b6da"
            ],
            [
             0.4,
             "#fde0ef"
            ],
            [
             0.5,
             "#f7f7f7"
            ],
            [
             0.6,
             "#e6f5d0"
            ],
            [
             0.7,
             "#b8e186"
            ],
            [
             0.8,
             "#7fbc41"
            ],
            [
             0.9,
             "#4d9221"
            ],
            [
             1,
             "#276419"
            ]
           ],
           "sequential": [
            [
             0,
             "#0d0887"
            ],
            [
             0.1111111111111111,
             "#46039f"
            ],
            [
             0.2222222222222222,
             "#7201a8"
            ],
            [
             0.3333333333333333,
             "#9c179e"
            ],
            [
             0.4444444444444444,
             "#bd3786"
            ],
            [
             0.5555555555555556,
             "#d8576b"
            ],
            [
             0.6666666666666666,
             "#ed7953"
            ],
            [
             0.7777777777777778,
             "#fb9f3a"
            ],
            [
             0.8888888888888888,
             "#fdca26"
            ],
            [
             1,
             "#f0f921"
            ]
           ],
           "sequentialminus": [
            [
             0,
             "#0d0887"
            ],
            [
             0.1111111111111111,
             "#46039f"
            ],
            [
             0.2222222222222222,
             "#7201a8"
            ],
            [
             0.3333333333333333,
             "#9c179e"
            ],
            [
             0.4444444444444444,
             "#bd3786"
            ],
            [
             0.5555555555555556,
             "#d8576b"
            ],
            [
             0.6666666666666666,
             "#ed7953"
            ],
            [
             0.7777777777777778,
             "#fb9f3a"
            ],
            [
             0.8888888888888888,
             "#fdca26"
            ],
            [
             1,
             "#f0f921"
            ]
           ]
          },
          "colorway": [
           "#636efa",
           "#EF553B",
           "#00cc96",
           "#ab63fa",
           "#FFA15A",
           "#19d3f3",
           "#FF6692",
           "#B6E880",
           "#FF97FF",
           "#FECB52"
          ],
          "font": {
           "color": "#2a3f5f"
          },
          "geo": {
           "bgcolor": "white",
           "lakecolor": "white",
           "landcolor": "#E5ECF6",
           "showlakes": true,
           "showland": true,
           "subunitcolor": "white"
          },
          "hoverlabel": {
           "align": "left"
          },
          "hovermode": "closest",
          "mapbox": {
           "style": "light"
          },
          "paper_bgcolor": "white",
          "plot_bgcolor": "#E5ECF6",
          "polar": {
           "angularaxis": {
            "gridcolor": "white",
            "linecolor": "white",
            "ticks": ""
           },
           "bgcolor": "#E5ECF6",
           "radialaxis": {
            "gridcolor": "white",
            "linecolor": "white",
            "ticks": ""
           }
          },
          "scene": {
           "xaxis": {
            "backgroundcolor": "#E5ECF6",
            "gridcolor": "white",
            "gridwidth": 2,
            "linecolor": "white",
            "showbackground": true,
            "ticks": "",
            "zerolinecolor": "white"
           },
           "yaxis": {
            "backgroundcolor": "#E5ECF6",
            "gridcolor": "white",
            "gridwidth": 2,
            "linecolor": "white",
            "showbackground": true,
            "ticks": "",
            "zerolinecolor": "white"
           },
           "zaxis": {
            "backgroundcolor": "#E5ECF6",
            "gridcolor": "white",
            "gridwidth": 2,
            "linecolor": "white",
            "showbackground": true,
            "ticks": "",
            "zerolinecolor": "white"
           }
          },
          "shapedefaults": {
           "line": {
            "color": "#2a3f5f"
           }
          },
          "ternary": {
           "aaxis": {
            "gridcolor": "white",
            "linecolor": "white",
            "ticks": ""
           },
           "baxis": {
            "gridcolor": "white",
            "linecolor": "white",
            "ticks": ""
           },
           "bgcolor": "#E5ECF6",
           "caxis": {
            "gridcolor": "white",
            "linecolor": "white",
            "ticks": ""
           }
          },
          "title": {
           "x": 0.05
          },
          "xaxis": {
           "automargin": true,
           "gridcolor": "white",
           "linecolor": "white",
           "ticks": "",
           "title": {
            "standoff": 15
           },
           "zerolinecolor": "white",
           "zerolinewidth": 2
          },
          "yaxis": {
           "automargin": true,
           "gridcolor": "white",
           "linecolor": "white",
           "ticks": "",
           "title": {
            "standoff": 15
           },
           "zerolinecolor": "white",
           "zerolinewidth": 2
          }
         }
        },
        "xaxis": {
         "anchor": "y",
         "domain": [
          0,
          1
         ],
         "title": {
          "text": "n_vars"
         }
        },
        "yaxis": {
         "anchor": "x",
         "domain": [
          0,
          1
         ],
         "title": {
          "text": "rmse"
         }
        }
       }
      },
      "text/html": [
       "<div>                            <div id=\"69f622a2-2a64-4de4-a648-4f315248208f\" class=\"plotly-graph-div\" style=\"height:525px; width:100%;\"></div>            <script type=\"text/javascript\">                require([\"plotly\"], function(Plotly) {                    window.PLOTLYENV=window.PLOTLYENV || {};                                    if (document.getElementById(\"69f622a2-2a64-4de4-a648-4f315248208f\")) {                    Plotly.newPlot(                        \"69f622a2-2a64-4de4-a648-4f315248208f\",                        [{\"customdata\":[[\"S1\"]],\"hovertemplate\":\"source=s1\\u003cbr\\u003en_vars=%{x}\\u003cbr\\u003ermse=%{y}\\u003cbr\\u003elast_added_variable=%{customdata[0]}\\u003cextra\\u003e\\u003c\\u002fextra\\u003e\",\"legendgroup\":\"s1\",\"marker\":{\"color\":\"#636efa\",\"symbol\":\"circle\"},\"mode\":\"markers\",\"name\":\"s1\",\"orientation\":\"v\",\"showlegend\":true,\"x\":[28],\"xaxis\":\"x\",\"y\":[115.92543990306561],\"yaxis\":\"y\",\"type\":\"scatter\"},{\"customdata\":[[\"dsO_ID_MW_lag_10\"],[\"dsO_ID_MW_lag_25\"],[\"siCumulative_lag_25\"],[\"siCumulative_lag_26\"],[\"xB_ID_MW_lag_25\"],[\"xB_ID_MW_lag_10\"],[\"dsO_ID_MW_lag_-20\"],[\"loaD_ID_MW_lag_10\"],[\"loaD_ID_MW_lag_25\"],[\"siCumulative_lag_61\"],[\"dsO_ID_MW_lag_70\"],[\"dsO_ID_MW_lag_85\"],[\"loaD_ID_MW_lag_55\"],[\"xB_ID_MW_lag_55\"],[\"loaD_ID_MW_lag_85\"],[\"siCumulative_cumsum_during_quarter_lag_37\"],[\"siCumulative_lag_64\"],[\"siCumulative_band_pass_12_0_h_lag_389\"],[\"siCumulative_low_pass_0_25_h_lag_288\"],[\"siCumulative_low_pass_24_0_h_lag_1822\"],[\"xB_ID_MW_lag_-20\"],[\"loaD_ID_MW_lag_-20\"],[\"siCumulative_band_pass_12_0_h_lag_2855\"],[\"siCumulative_low_pass_24_0_h_lag_1879\"],[\"siCumulative_high_pass_24_0_h_lag_294\"],[\"siCumulative_lag_28\"],[\"siCumulative_low_pass_12_0_h_lag_496\"],[\"xB_ID_MW_lag_70\"],[\"siCumulative_lag_27\"],[\"siCumulative_first_derivative_lag_30\"],[\"siCumulative_band_pass_1_0_h_lag_1174\"],[\"siCumulative_band_pass_12_0_h_lag_2657\"],[\"siCumulative_band_pass_24_0_h_lag_2691\"],[\"siCumulative_first_derivative_lag_45\"],[\"siCumulative_high_pass_24_0_h_lag_1468\"],[\"siCumulative_low_pass_24_0_h_lag_1148\"],[\"siCumulative_band_pass_24_0_h_lag_2523\"],[\"siCumulative_high_pass_1_0_h_lag_825\"],[\"siCumulative_lag_1404\"],[\"siCumulative_low_pass_0_25_h_lag_2833\"],[\"siCumulative_lag_325\"],[\"siCumulative_low_pass_24_0_h_lag_2125\"],[\"siCumulative_second_derivative_lag_236\"],[\"siCumulative_low_pass_24_0_h_lag_2588\"],[\"siCumulative_lag_693\"],[\"siCumulative_high_pass_24_0_h_lag_1626\"],[\"siCumulative_low_pass_12_0_h_lag_2431\"],[\"siCumulative_low_pass_24_0_h_lag_1946\"],[\"siCumulative_lag_1395\"],[\"siCumulative_band_pass_1_0_h_lag_779\"],[\"siCumulative_first_derivative_lag_2440\"],[\"siCumulative_low_pass_12_0_h_lag_943\"],[\"siCumulative_band_pass_1_0_h_lag_2852\"],[\"siCumulative_high_pass_12_0_h_lag_764\"],[\"siCumulative_band_pass_1_0_h_lag_2832\"],[\"siCumulative_lag_1401\"],[\"siCumulative_lag_371\"],[\"siCumulative_first_derivative_lag_1604\"],[\"siCumulative_second_derivative_lag_528\"],[\"siCumulative_high_pass_1_0_h_lag_1859\"],[\"siCumulative_second_derivative_lag_427\"],[\"siCumulative_band_pass_24_0_h_lag_614\"],[\"siCumulative_low_pass_0_25_h_lag_2603\"],[\"siCumulative_high_pass_0_25_h_lag_121\"],[\"siCumulative_band_pass_1_0_h_lag_2657\"],[\"siCumulative_low_pass_12_0_h_lag_836\"],[\"siCumulative_band_pass_0_25_h_lag_1178\"],[\"siCumulative_band_pass_0_25_h_lag_2199\"],[\"siCumulative_first_derivative_lag_1976\"],[\"siCumulative_low_pass_1_0_h_lag_1943\"],[\"siCumulative_high_pass_1_0_h_lag_1869\"],[\"siCumulative_first_derivative_lag_2547\"],[\"siCumulative_second_derivative_lag_794\"],[\"siCumulative_cumsum_during_quarter_lag_1971\"],[\"siCumulative_high_pass_1_0_h_lag_205\"],[\"siCumulative_cumsum_during_quarter_lag_1608\"],[\"siCumulative_high_pass_1_0_h_lag_2679\"],[\"siCumulative_low_pass_1_0_h_lag_2716\"],[\"siCumulative_high_pass_12_0_h_lag_1671\"],[\"siCumulative_band_pass_1_0_h_lag_1952\"],[\"siCumulative_second_derivative_lag_213\"],[\"siCumulative_first_derivative_lag_1520\"],[\"siCumulative_second_derivative_lag_1597\"],[\"siCumulative_band_pass_0_25_h_lag_2658\"]],\"hovertemplate\":\"source=ga\\u003cbr\\u003en_vars=%{x}\\u003cbr\\u003ermse=%{y}\\u003cbr\\u003elast_added_variable=%{customdata[0]}\\u003cextra\\u003e\\u003c\\u002fextra\\u003e\",\"legendgroup\":\"ga\",\"marker\":{\"color\":\"#EF553B\",\"symbol\":\"circle\"},\"mode\":\"markers\",\"name\":\"ga\",\"orientation\":\"v\",\"showlegend\":true,\"x\":[1,2,3,4,5,6,7,8,9,10,11,12,13,14,15,16,17,18,19,20,21,22,23,24,25,26,27,28,29,30,31,32,33,34,35,36,37,38,39,40,41,42,43,44,45,46,47,48,49,50,51,52,53,54,55,56,57,58,59,60,61,62,63,64,65,66,67,68,69,70,71,72,73,74,75,76,77,78,79,80,81,82,83,84],\"xaxis\":\"x\",\"y\":[135.35240892294138,132.09135953138903,120.29733099641922,119.98374617074984,119.7479550839658,118.94801894232644,116.40051998548893,116.85421672428967,116.50601839632189,113.54700793791125,112.94122156142552,112.97040183988904,113.01173636716162,113.23056305722199,113.14431071578021,111.80071219646597,111.7187268454807,111.74409224297158,111.81960981289892,111.81878971483206,111.8773639973623,111.80195224316216,111.78311373917215,111.77348728053086,111.7121964463513,111.73739474575683,111.64966530600725,111.61780934852361,111.6155984463347,111.52350656339759,111.44699570512317,111.44699188266075,111.46176755664283,111.454339049738,111.37648227606161,111.32788160795351,111.31986836046494,111.39414119049711,111.3498249640709,111.3237278678083,111.31431200877938,111.31623244555495,111.34460874984089,111.35361945054339,111.45506319152281,111.41525932249584,111.39202713187713,111.38802272227153,111.37822033827707,111.36727618311993,111.35378293835498,111.31034572967825,111.32107313560596,111.3900996781528,111.38998881612704,111.38712006405845,111.40019344103277,111.40434526611337,111.35281801543104,111.34714042739257,111.36018169791427,111.36021060637212,111.35895734736135,111.38522915380258,111.38819704587323,111.38382007328649,111.39567876923557,111.36964379171582,111.37052040461427,111.38071536767528,111.37593850840345,111.39502494596174,111.39118252161815,111.39137938263401,111.38007729936797,111.38307480635736,111.38856549583966,111.38949146853975,111.39101749082312,111.39163763566992,111.39044950954721,111.39088966037555,111.39073849665841,111.39080597768245],\"yaxis\":\"y\",\"type\":\"scatter\"}],                        {\"template\":{\"data\":{\"histogram2dcontour\":[{\"type\":\"histogram2dcontour\",\"colorbar\":{\"outlinewidth\":0,\"ticks\":\"\"},\"colorscale\":[[0.0,\"#0d0887\"],[0.1111111111111111,\"#46039f\"],[0.2222222222222222,\"#7201a8\"],[0.3333333333333333,\"#9c179e\"],[0.4444444444444444,\"#bd3786\"],[0.5555555555555556,\"#d8576b\"],[0.6666666666666666,\"#ed7953\"],[0.7777777777777778,\"#fb9f3a\"],[0.8888888888888888,\"#fdca26\"],[1.0,\"#f0f921\"]]}],\"choropleth\":[{\"type\":\"choropleth\",\"colorbar\":{\"outlinewidth\":0,\"ticks\":\"\"}}],\"histogram2d\":[{\"type\":\"histogram2d\",\"colorbar\":{\"outlinewidth\":0,\"ticks\":\"\"},\"colorscale\":[[0.0,\"#0d0887\"],[0.1111111111111111,\"#46039f\"],[0.2222222222222222,\"#7201a8\"],[0.3333333333333333,\"#9c179e\"],[0.4444444444444444,\"#bd3786\"],[0.5555555555555556,\"#d8576b\"],[0.6666666666666666,\"#ed7953\"],[0.7777777777777778,\"#fb9f3a\"],[0.8888888888888888,\"#fdca26\"],[1.0,\"#f0f921\"]]}],\"heatmap\":[{\"type\":\"heatmap\",\"colorbar\":{\"outlinewidth\":0,\"ticks\":\"\"},\"colorscale\":[[0.0,\"#0d0887\"],[0.1111111111111111,\"#46039f\"],[0.2222222222222222,\"#7201a8\"],[0.3333333333333333,\"#9c179e\"],[0.4444444444444444,\"#bd3786\"],[0.5555555555555556,\"#d8576b\"],[0.6666666666666666,\"#ed7953\"],[0.7777777777777778,\"#fb9f3a\"],[0.8888888888888888,\"#fdca26\"],[1.0,\"#f0f921\"]]}],\"heatmapgl\":[{\"type\":\"heatmapgl\",\"colorbar\":{\"outlinewidth\":0,\"ticks\":\"\"},\"colorscale\":[[0.0,\"#0d0887\"],[0.1111111111111111,\"#46039f\"],[0.2222222222222222,\"#7201a8\"],[0.3333333333333333,\"#9c179e\"],[0.4444444444444444,\"#bd3786\"],[0.5555555555555556,\"#d8576b\"],[0.6666666666666666,\"#ed7953\"],[0.7777777777777778,\"#fb9f3a\"],[0.8888888888888888,\"#fdca26\"],[1.0,\"#f0f921\"]]}],\"contourcarpet\":[{\"type\":\"contourcarpet\",\"colorbar\":{\"outlinewidth\":0,\"ticks\":\"\"}}],\"contour\":[{\"type\":\"contour\",\"colorbar\":{\"outlinewidth\":0,\"ticks\":\"\"},\"colorscale\":[[0.0,\"#0d0887\"],[0.1111111111111111,\"#46039f\"],[0.2222222222222222,\"#7201a8\"],[0.3333333333333333,\"#9c179e\"],[0.4444444444444444,\"#bd3786\"],[0.5555555555555556,\"#d8576b\"],[0.6666666666666666,\"#ed7953\"],[0.7777777777777778,\"#fb9f3a\"],[0.8888888888888888,\"#fdca26\"],[1.0,\"#f0f921\"]]}],\"surface\":[{\"type\":\"surface\",\"colorbar\":{\"outlinewidth\":0,\"ticks\":\"\"},\"colorscale\":[[0.0,\"#0d0887\"],[0.1111111111111111,\"#46039f\"],[0.2222222222222222,\"#7201a8\"],[0.3333333333333333,\"#9c179e\"],[0.4444444444444444,\"#bd3786\"],[0.5555555555555556,\"#d8576b\"],[0.6666666666666666,\"#ed7953\"],[0.7777777777777778,\"#fb9f3a\"],[0.8888888888888888,\"#fdca26\"],[1.0,\"#f0f921\"]]}],\"mesh3d\":[{\"type\":\"mesh3d\",\"colorbar\":{\"outlinewidth\":0,\"ticks\":\"\"}}],\"scatter\":[{\"fillpattern\":{\"fillmode\":\"overlay\",\"size\":10,\"solidity\":0.2},\"type\":\"scatter\"}],\"parcoords\":[{\"type\":\"parcoords\",\"line\":{\"colorbar\":{\"outlinewidth\":0,\"ticks\":\"\"}}}],\"scatterpolargl\":[{\"type\":\"scatterpolargl\",\"marker\":{\"colorbar\":{\"outlinewidth\":0,\"ticks\":\"\"}}}],\"bar\":[{\"error_x\":{\"color\":\"#2a3f5f\"},\"error_y\":{\"color\":\"#2a3f5f\"},\"marker\":{\"line\":{\"color\":\"#E5ECF6\",\"width\":0.5},\"pattern\":{\"fillmode\":\"overlay\",\"size\":10,\"solidity\":0.2}},\"type\":\"bar\"}],\"scattergeo\":[{\"type\":\"scattergeo\",\"marker\":{\"colorbar\":{\"outlinewidth\":0,\"ticks\":\"\"}}}],\"scatterpolar\":[{\"type\":\"scatterpolar\",\"marker\":{\"colorbar\":{\"outlinewidth\":0,\"ticks\":\"\"}}}],\"histogram\":[{\"marker\":{\"pattern\":{\"fillmode\":\"overlay\",\"size\":10,\"solidity\":0.2}},\"type\":\"histogram\"}],\"scattergl\":[{\"type\":\"scattergl\",\"marker\":{\"colorbar\":{\"outlinewidth\":0,\"ticks\":\"\"}}}],\"scatter3d\":[{\"type\":\"scatter3d\",\"line\":{\"colorbar\":{\"outlinewidth\":0,\"ticks\":\"\"}},\"marker\":{\"colorbar\":{\"outlinewidth\":0,\"ticks\":\"\"}}}],\"scattermapbox\":[{\"type\":\"scattermapbox\",\"marker\":{\"colorbar\":{\"outlinewidth\":0,\"ticks\":\"\"}}}],\"scatterternary\":[{\"type\":\"scatterternary\",\"marker\":{\"colorbar\":{\"outlinewidth\":0,\"ticks\":\"\"}}}],\"scattercarpet\":[{\"type\":\"scattercarpet\",\"marker\":{\"colorbar\":{\"outlinewidth\":0,\"ticks\":\"\"}}}],\"carpet\":[{\"aaxis\":{\"endlinecolor\":\"#2a3f5f\",\"gridcolor\":\"white\",\"linecolor\":\"white\",\"minorgridcolor\":\"white\",\"startlinecolor\":\"#2a3f5f\"},\"baxis\":{\"endlinecolor\":\"#2a3f5f\",\"gridcolor\":\"white\",\"linecolor\":\"white\",\"minorgridcolor\":\"white\",\"startlinecolor\":\"#2a3f5f\"},\"type\":\"carpet\"}],\"table\":[{\"cells\":{\"fill\":{\"color\":\"#EBF0F8\"},\"line\":{\"color\":\"white\"}},\"header\":{\"fill\":{\"color\":\"#C8D4E3\"},\"line\":{\"color\":\"white\"}},\"type\":\"table\"}],\"barpolar\":[{\"marker\":{\"line\":{\"color\":\"#E5ECF6\",\"width\":0.5},\"pattern\":{\"fillmode\":\"overlay\",\"size\":10,\"solidity\":0.2}},\"type\":\"barpolar\"}],\"pie\":[{\"automargin\":true,\"type\":\"pie\"}]},\"layout\":{\"autotypenumbers\":\"strict\",\"colorway\":[\"#636efa\",\"#EF553B\",\"#00cc96\",\"#ab63fa\",\"#FFA15A\",\"#19d3f3\",\"#FF6692\",\"#B6E880\",\"#FF97FF\",\"#FECB52\"],\"font\":{\"color\":\"#2a3f5f\"},\"hovermode\":\"closest\",\"hoverlabel\":{\"align\":\"left\"},\"paper_bgcolor\":\"white\",\"plot_bgcolor\":\"#E5ECF6\",\"polar\":{\"bgcolor\":\"#E5ECF6\",\"angularaxis\":{\"gridcolor\":\"white\",\"linecolor\":\"white\",\"ticks\":\"\"},\"radialaxis\":{\"gridcolor\":\"white\",\"linecolor\":\"white\",\"ticks\":\"\"}},\"ternary\":{\"bgcolor\":\"#E5ECF6\",\"aaxis\":{\"gridcolor\":\"white\",\"linecolor\":\"white\",\"ticks\":\"\"},\"baxis\":{\"gridcolor\":\"white\",\"linecolor\":\"white\",\"ticks\":\"\"},\"caxis\":{\"gridcolor\":\"white\",\"linecolor\":\"white\",\"ticks\":\"\"}},\"coloraxis\":{\"colorbar\":{\"outlinewidth\":0,\"ticks\":\"\"}},\"colorscale\":{\"sequential\":[[0.0,\"#0d0887\"],[0.1111111111111111,\"#46039f\"],[0.2222222222222222,\"#7201a8\"],[0.3333333333333333,\"#9c179e\"],[0.4444444444444444,\"#bd3786\"],[0.5555555555555556,\"#d8576b\"],[0.6666666666666666,\"#ed7953\"],[0.7777777777777778,\"#fb9f3a\"],[0.8888888888888888,\"#fdca26\"],[1.0,\"#f0f921\"]],\"sequentialminus\":[[0.0,\"#0d0887\"],[0.1111111111111111,\"#46039f\"],[0.2222222222222222,\"#7201a8\"],[0.3333333333333333,\"#9c179e\"],[0.4444444444444444,\"#bd3786\"],[0.5555555555555556,\"#d8576b\"],[0.6666666666666666,\"#ed7953\"],[0.7777777777777778,\"#fb9f3a\"],[0.8888888888888888,\"#fdca26\"],[1.0,\"#f0f921\"]],\"diverging\":[[0,\"#8e0152\"],[0.1,\"#c51b7d\"],[0.2,\"#de77ae\"],[0.3,\"#f1b6da\"],[0.4,\"#fde0ef\"],[0.5,\"#f7f7f7\"],[0.6,\"#e6f5d0\"],[0.7,\"#b8e186\"],[0.8,\"#7fbc41\"],[0.9,\"#4d9221\"],[1,\"#276419\"]]},\"xaxis\":{\"gridcolor\":\"white\",\"linecolor\":\"white\",\"ticks\":\"\",\"title\":{\"standoff\":15},\"zerolinecolor\":\"white\",\"automargin\":true,\"zerolinewidth\":2},\"yaxis\":{\"gridcolor\":\"white\",\"linecolor\":\"white\",\"ticks\":\"\",\"title\":{\"standoff\":15},\"zerolinecolor\":\"white\",\"automargin\":true,\"zerolinewidth\":2},\"scene\":{\"xaxis\":{\"backgroundcolor\":\"#E5ECF6\",\"gridcolor\":\"white\",\"linecolor\":\"white\",\"showbackground\":true,\"ticks\":\"\",\"zerolinecolor\":\"white\",\"gridwidth\":2},\"yaxis\":{\"backgroundcolor\":\"#E5ECF6\",\"gridcolor\":\"white\",\"linecolor\":\"white\",\"showbackground\":true,\"ticks\":\"\",\"zerolinecolor\":\"white\",\"gridwidth\":2},\"zaxis\":{\"backgroundcolor\":\"#E5ECF6\",\"gridcolor\":\"white\",\"linecolor\":\"white\",\"showbackground\":true,\"ticks\":\"\",\"zerolinecolor\":\"white\",\"gridwidth\":2}},\"shapedefaults\":{\"line\":{\"color\":\"#2a3f5f\"}},\"annotationdefaults\":{\"arrowcolor\":\"#2a3f5f\",\"arrowhead\":0,\"arrowwidth\":1},\"geo\":{\"bgcolor\":\"white\",\"landcolor\":\"#E5ECF6\",\"subunitcolor\":\"white\",\"showland\":true,\"showlakes\":true,\"lakecolor\":\"white\"},\"title\":{\"x\":0.05},\"mapbox\":{\"style\":\"light\"}}},\"xaxis\":{\"anchor\":\"y\",\"domain\":[0.0,1.0],\"title\":{\"text\":\"n_vars\"}},\"yaxis\":{\"anchor\":\"x\",\"domain\":[0.0,1.0],\"title\":{\"text\":\"rmse\"}},\"legend\":{\"title\":{\"text\":\"source\"},\"tracegroupgap\":0},\"margin\":{\"t\":60}},                        {\"responsive\": true}                    ).then(function(){\n",
       "                            \n",
       "var gd = document.getElementById('69f622a2-2a64-4de4-a648-4f315248208f');\n",
       "var x = new MutationObserver(function (mutations, observer) {{\n",
       "        var display = window.getComputedStyle(gd).display;\n",
       "        if (!display || display === 'none') {{\n",
       "            console.log([gd, 'removed!']);\n",
       "            Plotly.purge(gd);\n",
       "            observer.disconnect();\n",
       "        }}\n",
       "}});\n",
       "\n",
       "// Listen for the removal of the full notebook cells\n",
       "var notebookContainer = gd.closest('#notebook-container');\n",
       "if (notebookContainer) {{\n",
       "    x.observe(notebookContainer, {childList: true});\n",
       "}}\n",
       "\n",
       "// Listen for the clearing of the current output cell\n",
       "var outputEl = gd.closest('.output');\n",
       "if (outputEl) {{\n",
       "    x.observe(outputEl, {childList: true});\n",
       "}}\n",
       "\n",
       "                        })                };                });            </script>        </div>"
      ]
     },
     "metadata": {},
     "output_type": "display_data"
    }
   ],
   "source": [
    "fig_rmse = px.scatter(\n",
    "    rmse_df,\n",
    "    x = \"n_vars\",\n",
    "    y = \"rmse\",\n",
    "    color = \"source\",\n",
    "    hover_data=\"last_added_variable\"\n",
    ")\n",
    "fig_rmse.show()"
   ]
  },
  {
   "cell_type": "code",
   "execution_count": 36,
   "metadata": {},
   "outputs": [
    {
     "data": {
      "text/html": [
       "<div>\n",
       "<style scoped>\n",
       "    .dataframe tbody tr th:only-of-type {\n",
       "        vertical-align: middle;\n",
       "    }\n",
       "\n",
       "    .dataframe tbody tr th {\n",
       "        vertical-align: top;\n",
       "    }\n",
       "\n",
       "    .dataframe thead th {\n",
       "        text-align: right;\n",
       "    }\n",
       "</style>\n",
       "<table border=\"1\" class=\"dataframe\">\n",
       "  <thead>\n",
       "    <tr style=\"text-align: right;\">\n",
       "      <th></th>\n",
       "      <th>variable</th>\n",
       "      <th>importance</th>\n",
       "    </tr>\n",
       "  </thead>\n",
       "  <tbody>\n",
       "    <tr>\n",
       "      <th>18</th>\n",
       "      <td>dsO_ID_MW_lag_10</td>\n",
       "      <td>5.169124e+02</td>\n",
       "    </tr>\n",
       "    <tr>\n",
       "      <th>19</th>\n",
       "      <td>dsO_ID_MW_lag_25</td>\n",
       "      <td>4.177875e+02</td>\n",
       "    </tr>\n",
       "    <tr>\n",
       "      <th>0</th>\n",
       "      <td>siCumulative_lag_25</td>\n",
       "      <td>3.093869e+02</td>\n",
       "    </tr>\n",
       "    <tr>\n",
       "      <th>1</th>\n",
       "      <td>siCumulative_lag_26</td>\n",
       "      <td>2.004231e+02</td>\n",
       "    </tr>\n",
       "    <tr>\n",
       "      <th>24</th>\n",
       "      <td>xB_ID_MW_lag_25</td>\n",
       "      <td>1.802449e+02</td>\n",
       "    </tr>\n",
       "    <tr>\n",
       "      <th>...</th>\n",
       "      <td>...</td>\n",
       "      <td>...</td>\n",
       "    </tr>\n",
       "    <tr>\n",
       "      <th>35</th>\n",
       "      <td>siCumulative_band_pass_1_0_h_lag_1952</td>\n",
       "      <td>5.961457e-05</td>\n",
       "    </tr>\n",
       "    <tr>\n",
       "      <th>75</th>\n",
       "      <td>siCumulative_second_derivative_lag_213</td>\n",
       "      <td>5.862118e-05</td>\n",
       "    </tr>\n",
       "    <tr>\n",
       "      <th>70</th>\n",
       "      <td>siCumulative_first_derivative_lag_1520</td>\n",
       "      <td>3.319611e-05</td>\n",
       "    </tr>\n",
       "    <tr>\n",
       "      <th>80</th>\n",
       "      <td>siCumulative_second_derivative_lag_1597</td>\n",
       "      <td>3.185804e-06</td>\n",
       "    </tr>\n",
       "    <tr>\n",
       "      <th>41</th>\n",
       "      <td>siCumulative_band_pass_0_25_h_lag_2658</td>\n",
       "      <td>-2.641775e-07</td>\n",
       "    </tr>\n",
       "  </tbody>\n",
       "</table>\n",
       "<p>84 rows × 2 columns</p>\n",
       "</div>"
      ],
      "text/plain": [
       "                                   variable    importance\n",
       "18                         dsO_ID_MW_lag_10  5.169124e+02\n",
       "19                         dsO_ID_MW_lag_25  4.177875e+02\n",
       "0                       siCumulative_lag_25  3.093869e+02\n",
       "1                       siCumulative_lag_26  2.004231e+02\n",
       "24                          xB_ID_MW_lag_25  1.802449e+02\n",
       "..                                      ...           ...\n",
       "35    siCumulative_band_pass_1_0_h_lag_1952  5.961457e-05\n",
       "75   siCumulative_second_derivative_lag_213  5.862118e-05\n",
       "70   siCumulative_first_derivative_lag_1520  3.319611e-05\n",
       "80  siCumulative_second_derivative_lag_1597  3.185804e-06\n",
       "41   siCumulative_band_pass_0_25_h_lag_2658 -2.641775e-07\n",
       "\n",
       "[84 rows x 2 columns]"
      ]
     },
     "execution_count": 36,
     "metadata": {},
     "output_type": "execute_result"
    }
   ],
   "source": [
    "importance_df_train"
   ]
  }
 ],
 "metadata": {
  "kernelspec": {
   "display_name": "simplify-deployment-2FnGvFJr-py3.12",
   "language": "python",
   "name": "python3"
  },
  "language_info": {
   "codemirror_mode": {
    "name": "ipython",
    "version": 3
   },
   "file_extension": ".py",
   "mimetype": "text/x-python",
   "name": "python",
   "nbconvert_exporter": "python",
   "pygments_lexer": "ipython3",
   "version": "3.12.3"
  }
 },
 "nbformat": 4,
 "nbformat_minor": 2
}
