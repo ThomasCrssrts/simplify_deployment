{
 "cells": [
  {
   "cell_type": "code",
   "execution_count": null,
   "metadata": {},
   "outputs": [],
   "source": [
    "import pandas as pd\n",
    "import numpy as np\n",
    "from sklearn.inspection import permutation_importance\n",
    "from simplify_deployment.organism import Organism\n",
    "from pathlib import Path\n",
    "from sklearn.linear_model import LinearRegression\n",
    "import plotly.express as px\n",
    "from functools import reduce\n",
    "from sklearn.metrics import mean_squared_error"
   ]
  },
  {
   "cell_type": "code",
   "execution_count": null,
   "metadata": {},
   "outputs": [],
   "source": [
    "org = Organism.from_yaml(\n",
    "    path_config=Path(\"/home/thomas/repos/simplify_deployment/data/data_science/lag_25_s1_config.yaml\"),\n",
    "    path_genome=Path(\"/home/thomas/repos/simplify_deployment/data/data_science/lag_25_s1_50_gen_fold_11_best_genome.yaml\")\n",
    ")"
   ]
  },
  {
   "cell_type": "code",
   "execution_count": null,
   "metadata": {},
   "outputs": [],
   "source": [
    "X_train = pd.read_parquet(\"/home/thomas/repos/simplify_deployment/data/data_science/X_train_fold_11.parquet\")\n",
    "X_test = pd.read_parquet(\"/home/thomas/repos/simplify_deployment/data/data_science/X_test_fold_11.parquet\")\n",
    "y_train = pd.read_parquet(\"/home/thomas/repos/simplify_deployment/data/data_science/y_train_fold_11.parquet\")\n",
    "y_test = pd.read_parquet(\"/home/thomas/repos/simplify_deployment/data/data_science/y_test_fold_11.parquet\")"
   ]
  },
  {
   "cell_type": "code",
   "execution_count": null,
   "metadata": {},
   "outputs": [],
   "source": [
    "y_train_model, X_train_model = org.create_y_X(\n",
    "    y_train,\n",
    "    X_train,\n",
    ")\n",
    "# to create test for model we first glue all together so we don't lose any data\n",
    "y_test_model, X_test_model = org.create_y_X(\n",
    "    y_test,\n",
    "    X_test,\n",
    ")\n",
    "y_test_model = y_test_model.rename(\"y_true\")"
   ]
  },
  {
   "cell_type": "code",
   "execution_count": null,
   "metadata": {},
   "outputs": [],
   "source": [
    "model = LinearRegression()\n",
    "model.fit(\n",
    "    X_train_model,\n",
    "    y_train_model,\n",
    ")\n",
    "importances_train = permutation_importance(\n",
    "    estimator = model,\n",
    "    X = X_train_model,\n",
    "    y = y_train_model,\n",
    "    scoring = \"neg_root_mean_squared_error\",\n",
    "    n_repeats = 100\n",
    ")\n",
    "importances_test = permutation_importance(\n",
    "    estimator = model,\n",
    "    X = X_test_model,\n",
    "    y = y_test_model,\n",
    "    scoring = \"neg_root_mean_squared_error\",\n",
    "    n_repeats = 100\n",
    ")\n",
    "\n"
   ]
  },
  {
   "cell_type": "code",
   "execution_count": null,
   "metadata": {},
   "outputs": [],
   "source": [
    "importance_df_train = pd.DataFrame(\n",
    "    {\n",
    "        \"variable\": X_train_model.columns,\n",
    "        \"importance\": importances_train[\"importances_mean\"]\n",
    "    }\n",
    ")\n",
    "importance_df_train = importance_df_train.sort_values(by = \"importance\", ascending = False)\n",
    "importance_df_train.to_parquet(\n",
    "    \"/home/thomas/repos/simplify_deployment/data/data_science/importance_df_train.parquet\"\n",
    ")\n",
    "importance_df_train"
   ]
  },
  {
   "cell_type": "code",
   "execution_count": null,
   "metadata": {},
   "outputs": [],
   "source": [
    "fig = px.bar(\n",
    "    importance_df_train,\n",
    "    x = \"variable\",\n",
    "    y = \"importance\",\n",
    ")\n",
    "fig.show()"
   ]
  },
  {
   "cell_type": "code",
   "execution_count": null,
   "metadata": {},
   "outputs": [],
   "source": [
    "importance_df_test = pd.DataFrame(\n",
    "    {\n",
    "        \"variable\": X_test_model.columns,\n",
    "        \"importance\": importances_test[\"importances_mean\"]\n",
    "    }\n",
    ")\n",
    "importance_df_test = importance_df_test.sort_values(by = \"importance\", ascending = False)\n",
    "importance_df_test.to_parquet(\n",
    "    \"/home/thomas/repos/simplify_deployment/data/data_science/importance_df_test.parquet\"\n",
    ")\n",
    "importance_df_test"
   ]
  },
  {
   "cell_type": "code",
   "execution_count": null,
   "metadata": {},
   "outputs": [],
   "source": [
    "fig = px.bar(\n",
    "    importance_df_test,\n",
    "    x = \"variable\",\n",
    "    y = \"importance\",\n",
    ")\n",
    "fig.show()"
   ]
  },
  {
   "cell_type": "code",
   "execution_count": null,
   "metadata": {},
   "outputs": [],
   "source": [
    "predictions_list = []"
   ]
  },
  {
   "cell_type": "code",
   "execution_count": null,
   "metadata": {},
   "outputs": [],
   "source": [
    "org_s1 = Organism.from_yaml(\n",
    "    path_config=Path(\"/home/thomas/repos/simplify_deployment/data/data_science/lag_25_s1_config.yaml\"),\n",
    "    path_genome=Path(\"/home/thomas/repos/simplify_deployment/data/data_science/lag_25_simplify_1_0.yaml\"),\n",
    ")\n",
    "y_train_s1, X_train_s1, = org_s1.create_y_X(\n",
    "    y_train,\n",
    "    X_train,\n",
    ")\n",
    "y_test_s1, X_test_s1, = org_s1.create_y_X(\n",
    "    y_test,\n",
    "    X_test,\n",
    ")\n",
    "model = LinearRegression()\n",
    "model.fit(X_train_s1, y_train_s1)\n",
    "predictions_list.append(\n",
    "    pd.Series(\n",
    "        model.predict(X_test_s1),\n",
    "        index = X_test_s1.index,\n",
    "        name = \"y_pred_s1_variables\"\n",
    "    )\n",
    ")\n"
   ]
  },
  {
   "cell_type": "code",
   "execution_count": null,
   "metadata": {},
   "outputs": [],
   "source": [
    "model = LinearRegression()\n",
    "for n_variables in range(1, importance_df_train.shape[0] + 1):\n",
    "    vars = (\n",
    "        importance_df_train\n",
    "        .nlargest(\n",
    "            n=n_variables,\n",
    "            keep=\"all\",\n",
    "            columns = \"importance\",\n",
    "        )\n",
    "    )[\"variable\"]\n",
    "    X_train_n_vars = X_train_model.loc[:,vars]\n",
    "    X_test_n_vars = X_test_model.loc[:,vars]\n",
    "    model.fit(\n",
    "        X_train_n_vars,\n",
    "        y_train_model\n",
    "    )\n",
    "    predictions_list.append(\n",
    "        pd.Series(\n",
    "            model.predict(X_test_n_vars),\n",
    "            index = X_test_n_vars.index,\n",
    "            name = f\"y_pred_{n_variables}\"\n",
    "        )\n",
    "    )\n",
    "    print(f\"{n_variables} variables predicted.\")\n"
   ]
  },
  {
   "cell_type": "code",
   "execution_count": null,
   "metadata": {},
   "outputs": [],
   "source": [
    "pred_df = reduce(\n",
    "    lambda a,b: pd.merge(a,b, left_index = True, right_index = True),\n",
    "    [y_test_model] + predictions_list\n",
    ")\n",
    "pred_df"
   ]
  },
  {
   "cell_type": "code",
   "execution_count": null,
   "metadata": {},
   "outputs": [],
   "source": [
    "rmse_list = []\n",
    "for column in pred_df.columns[1:]:\n",
    "    rmse = np.sqrt(\n",
    "        mean_squared_error(\n",
    "            y_true=pred_df[\"y_true\"],\n",
    "            y_pred=pred_df[column],\n",
    "        )\n",
    "    )\n",
    "    if column == \"y_pred_s1_variables\":\n",
    "        n_vars = 28\n",
    "        source = \"s1\"\n",
    "        last_added_variable = \"S1\"\n",
    "    else:\n",
    "        n_vars = int(column.split(\"y_pred_\")[1])\n",
    "        source = \"ga\"\n",
    "        last_added_variable = importance_df_train.iloc[n_vars-1,0]\n",
    "    rmse_list.append(\n",
    "        {\n",
    "            \"source\":source,\n",
    "            \"n_vars\": n_vars,\n",
    "            \"rmse\":rmse,\n",
    "            \"last_added_variable\": last_added_variable,\n",
    "        }\n",
    "    )\n",
    "rmse_df = pd.DataFrame(\n",
    "    rmse_list,\n",
    ")"
   ]
  },
  {
   "cell_type": "code",
   "execution_count": null,
   "metadata": {},
   "outputs": [],
   "source": [
    "rmse_df"
   ]
  },
  {
   "cell_type": "code",
   "execution_count": null,
   "metadata": {},
   "outputs": [],
   "source": [
    "fig_rmse = px.scatter(\n",
    "    rmse_df,\n",
    "    x = \"n_vars\",\n",
    "    y = \"rmse\",\n",
    "    color = \"source\",\n",
    "    hover_data=\"last_added_variable\"\n",
    ")\n",
    "fig_rmse.show()"
   ]
  },
  {
   "cell_type": "code",
   "execution_count": null,
   "metadata": {},
   "outputs": [],
   "source": [
    "importance_df_train"
   ]
  }
 ],
 "metadata": {
  "kernelspec": {
   "display_name": "simplify-deployment-2FnGvFJr-py3.12",
   "language": "python",
   "name": "python3"
  },
  "language_info": {
   "codemirror_mode": {
    "name": "ipython",
    "version": 3
   },
   "file_extension": ".py",
   "mimetype": "text/x-python",
   "name": "python",
   "nbconvert_exporter": "python",
   "pygments_lexer": "ipython3",
   "version": "3.12.3"
  }
 },
 "nbformat": 4,
 "nbformat_minor": 2
}
