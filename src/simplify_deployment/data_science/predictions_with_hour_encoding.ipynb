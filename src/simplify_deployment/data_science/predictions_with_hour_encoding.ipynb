{
 "cells": [
  {
   "cell_type": "code",
   "execution_count": 1,
   "metadata": {},
   "outputs": [],
   "source": [
    "import pandas as pd\n",
    "from simplify_deployment.organism import Organism\n",
    "import plotly.express as px\n",
    "from sklearn.linear_model import LinearRegression\n"
   ]
  },
  {
   "cell_type": "code",
   "execution_count": null,
   "metadata": {},
   "outputs": [],
   "source": [
    "prediction_list = []\n",
    "for fold in range(12):\n",
    "    # Raw\n",
    "    X_train_raw = pd.read_parquet(f\"/home/thomas/repos/simplify_deployment/data/data_science/50_gen_s1/folds/X_train_fold_{fold}.parquet\")\n",
    "    X_test_raw = pd.read_parquet(f\"/home/thomas/repos/simplify_deployment/data/data_science/50_gen_s1/folds/X_test_fold_{fold}.parquet\")\n",
    "    y_train_raw = pd.read_parquet(f\"/home/thomas/repos/simplify_deployment/data/data_science/50_gen_s1/folds/y_train_fold_{fold}.parquet\")\n",
    "    y_test_raw = pd.read_parquet(f\"/home/thomas/repos/simplify_deployment/data/data_science/50_gen_s1/folds/y_test_fold_{fold}.parquet\")\n",
    "\n",
    "    # Data for model\n",
    "    org = Organism.from_yaml(\n",
    "        path_config=\"/home/thomas/repos/simplify_deployment/data/data_science/50_gen_s1/lag_25_s1_config.yaml\",\n",
    "        path_genome=f\"/home/thomas/repos/simplify_deployment/data/data_science/50_gen_s1/best_genome/lag_25_s1_50_gen_fold_{fold}_best_genome.yaml\"\n",
    "    )\n",
    "    y_train, X_train = org.create_y_X(\n",
    "        y_train_raw,\n",
    "        X_train_raw,\n",
    "    )\n",
    "    y_test, X_test = org.create_y_X(\n",
    "        y_test_raw,\n",
    "        X_test_raw,\n",
    "    )\n",
    "\n",
    "    # Model\n",
    "    X_train[\"hour\"] = X_train.index.hour\n",
    "    X_test[\"hour\"] = X_test.index.hour\n",
    "    model = LinearRegression()\n",
    "    model.fit(X_train, y_train)\n",
    "    prediction_list.append(\n",
    "        pd.DataFrame(\n",
    "            {\n",
    "                \"y_pred_hour_ordinal_encoded\": model.predict(X_test),\n",
    "            },\n",
    "            index = X_test.index,\n",
    "        )\n",
    "    )\n",
    "\n",
    "    print(f\"Fold {fold} done.\")"
   ]
  },
  {
   "cell_type": "code",
   "execution_count": null,
   "metadata": {},
   "outputs": [],
   "source": [
    "X_train"
   ]
  },
  {
   "cell_type": "code",
   "execution_count": 4,
   "metadata": {},
   "outputs": [],
   "source": [
    "prediction = pd.concat(\n",
    "    prediction_list,\n",
    "    axis = 0,\n",
    ")\n",
    "prediction.to_parquet(\"/home/thomas/repos/simplify_deployment/data/data_science/50_gen_s1/hour_ordinal_encoded.parquet\")"
   ]
  },
  {
   "cell_type": "code",
   "execution_count": null,
   "metadata": {},
   "outputs": [],
   "source": [
    "fig = px.line(X_train, x = X_train.index, y = list(X_train.columns[:11]))\n",
    "fig.show()"
   ]
  },
  {
   "cell_type": "code",
   "execution_count": null,
   "metadata": {},
   "outputs": [],
   "source": [
    "prediction"
   ]
  }
 ],
 "metadata": {
  "kernelspec": {
   "display_name": "simplify-deployment-2FnGvFJr-py3.12",
   "language": "python",
   "name": "python3"
  },
  "language_info": {
   "codemirror_mode": {
    "name": "ipython",
    "version": 3
   },
   "file_extension": ".py",
   "mimetype": "text/x-python",
   "name": "python",
   "nbconvert_exporter": "python",
   "pygments_lexer": "ipython3",
   "version": "3.12.3"
  }
 },
 "nbformat": 4,
 "nbformat_minor": 2
}
