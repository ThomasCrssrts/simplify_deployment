{
 "cells": [
  {
   "cell_type": "code",
   "execution_count": 5,
   "metadata": {},
   "outputs": [],
   "source": [
    "import pandas as pd\n",
    "import numpy as np\n",
    "from functools import reduce\n",
    "from sklearn.metrics import mean_squared_error, mean_absolute_error\n",
    "import plotly.express as px"
   ]
  },
  {
   "cell_type": "code",
   "execution_count": null,
   "metadata": {},
   "outputs": [],
   "source": [
    "base_prediction = pd.read_parquet(\"/home/thomas/repos/simplify_deployment/data/data_science/predictions.parquet\")\n",
    "base_prediction = base_prediction[[\"y_true\", \"y_pred_s1_50_gen_parallel\"]]\n",
    "base_prediction"
   ]
  },
  {
   "cell_type": "code",
   "execution_count": 7,
   "metadata": {},
   "outputs": [],
   "source": [
    "spline = pd.read_parquet(\"/home/thomas/repos/simplify_deployment/data/data_science/50_gen_s1/hour_spline_encoded.parquet\")\n",
    "sin_cos = pd.read_parquet(\"/home/thomas/repos/simplify_deployment/data/data_science/50_gen_s1/hour_sin_cos_encoded.parquet\")\n",
    "onehot = pd.read_parquet(\"/home/thomas/repos/simplify_deployment/data/data_science/50_gen_s1/hour_onehot_encoded.parquet\")\n",
    "ordinal = pd.read_parquet(\"/home/thomas/repos/simplify_deployment/data/data_science/50_gen_s1/hour_ordinal_encoded.parquet\")\n",
    "one_per_hour = pd.read_parquet(\"/home/thomas/repos/simplify_deployment/data/data_science/50_gen_s1/one_model_per_hour.parquet\")"
   ]
  },
  {
   "cell_type": "code",
   "execution_count": null,
   "metadata": {},
   "outputs": [],
   "source": [
    "predictions = reduce(\n",
    "    lambda a,b: pd.merge(\n",
    "        a,\n",
    "        b,\n",
    "        left_index = True,\n",
    "        right_index = True,\n",
    "        how = \"inner\",\n",
    "    ),\n",
    "    [\n",
    "        base_prediction,\n",
    "        spline,\n",
    "        sin_cos,\n",
    "        onehot,\n",
    "        ordinal,\n",
    "        one_per_hour,\n",
    "    ]\n",
    ")\n",
    "predictions"
   ]
  },
  {
   "cell_type": "code",
   "execution_count": null,
   "metadata": {},
   "outputs": [],
   "source": [
    "for column in predictions.columns[1:]:\n",
    "    rmse_value = np.sqrt(mean_squared_error(predictions[\"y_true\"],predictions[column]))\n",
    "    print(f\"Rmse {column} is {rmse_value}.\")\n",
    "print(\"\\n\")\n",
    "for column in predictions.columns[1:]:\n",
    "    mae_value = mean_absolute_error(predictions[\"y_true\"],predictions[column])\n",
    "    print(f\"Mae {column} is {mae_value}.\")"
   ]
  },
  {
   "cell_type": "code",
   "execution_count": null,
   "metadata": {},
   "outputs": [],
   "source": [
    "residuals = pd.DataFrame(index = predictions.index)\n",
    "for column in predictions.columns[1:]:\n",
    "    residuals[f\"{column}_residuals\"] = predictions[\"y_true\"] - predictions[column]\n",
    "residuals "
   ]
  },
  {
   "cell_type": "code",
   "execution_count": null,
   "metadata": {},
   "outputs": [],
   "source": [
    "# What is the p-value that we actually do better?\n",
    "# To get this p-value, we will sample residuals with replacement from all the techniques.\n",
    "# For then check for each sample of rmse is better or not\n",
    "# if it is better give a hit. This gives a p value if we do this 10 000 times.\n",
    "n = 10000\n",
    "sample_rmse_list = []\n",
    "for _ in range(n):\n",
    "    sample = residuals.apply(lambda x: np.random.choice(x, size=len(x), replace=True), axis = 0)\n",
    "    sample.columns = [col.replace(\"_residuals\", \"_rmse\") for col in sample.columns]\n",
    "    sample_rmse = sample.apply(lambda x: np.sqrt(np.mean(x**2)),axis = 0)\n",
    "    sample_rmse_list.append(sample_rmse.to_frame().T)\n",
    "\n",
    "sample_rmse_df = pd.concat(\n",
    "    sample_rmse_list, \n",
    "    axis = 0,\n",
    ")\n",
    "sample_rmse_df"
   ]
  },
  {
   "cell_type": "code",
   "execution_count": null,
   "metadata": {},
   "outputs": [],
   "source": [
    "sample_rmse_df_molten = sample_rmse_df.melt(value_name=\"rmse\", var_name=\"source\")\n",
    "sample_rmse_df_molten\n",
    "fig = px.histogram(\n",
    "    sample_rmse_df_molten, \n",
    "    x = \"rmse\", \n",
    "    color = \n",
    "    \"source\", \n",
    "    title=f\"25 minutes before real time si prediction\", \n",
    "    barmode=\"overlay\",\n",
    ")\n",
    "fig.show()"
   ]
  }
 ],
 "metadata": {
  "kernelspec": {
   "display_name": "simplify-deployment-2FnGvFJr-py3.12",
   "language": "python",
   "name": "python3"
  },
  "language_info": {
   "codemirror_mode": {
    "name": "ipython",
    "version": 3
   },
   "file_extension": ".py",
   "mimetype": "text/x-python",
   "name": "python",
   "nbconvert_exporter": "python",
   "pygments_lexer": "ipython3",
   "version": "3.12.3"
  }
 },
 "nbformat": 4,
 "nbformat_minor": 2
}
