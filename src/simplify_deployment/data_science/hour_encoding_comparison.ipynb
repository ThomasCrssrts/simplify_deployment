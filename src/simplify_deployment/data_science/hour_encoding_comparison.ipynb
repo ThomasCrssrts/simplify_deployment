{
 "cells": [
  {
   "cell_type": "code",
   "execution_count": 4,
   "metadata": {},
   "outputs": [],
   "source": [
    "import pandas as pd\n",
    "import numpy as np\n"
   ]
  },
  {
   "cell_type": "code",
   "execution_count": 5,
   "metadata": {},
   "outputs": [
    {
     "data": {
      "text/html": [
       "<div>\n",
       "<style scoped>\n",
       "    .dataframe tbody tr th:only-of-type {\n",
       "        vertical-align: middle;\n",
       "    }\n",
       "\n",
       "    .dataframe tbody tr th {\n",
       "        vertical-align: top;\n",
       "    }\n",
       "\n",
       "    .dataframe thead th {\n",
       "        text-align: right;\n",
       "    }\n",
       "</style>\n",
       "<table border=\"1\" class=\"dataframe\">\n",
       "  <thead>\n",
       "    <tr style=\"text-align: right;\">\n",
       "      <th></th>\n",
       "      <th>y_true</th>\n",
       "      <th>y_pred_s1_50_gen_parallel</th>\n",
       "    </tr>\n",
       "  </thead>\n",
       "  <tbody>\n",
       "    <tr>\n",
       "      <th>2022-12-01 22:44:00+00:00</th>\n",
       "      <td>-70.484</td>\n",
       "      <td>-70.529247</td>\n",
       "    </tr>\n",
       "    <tr>\n",
       "      <th>2022-12-01 22:59:00+00:00</th>\n",
       "      <td>-125.662</td>\n",
       "      <td>11.984345</td>\n",
       "    </tr>\n",
       "    <tr>\n",
       "      <th>2022-12-01 23:14:00+00:00</th>\n",
       "      <td>71.946</td>\n",
       "      <td>-159.113161</td>\n",
       "    </tr>\n",
       "    <tr>\n",
       "      <th>2022-12-01 23:29:00+00:00</th>\n",
       "      <td>-101.859</td>\n",
       "      <td>24.945586</td>\n",
       "    </tr>\n",
       "    <tr>\n",
       "      <th>2022-12-01 23:44:00+00:00</th>\n",
       "      <td>-45.071</td>\n",
       "      <td>-14.599998</td>\n",
       "    </tr>\n",
       "    <tr>\n",
       "      <th>...</th>\n",
       "      <td>...</td>\n",
       "      <td>...</td>\n",
       "    </tr>\n",
       "    <tr>\n",
       "      <th>2023-06-30 20:29:00+00:00</th>\n",
       "      <td>-61.305</td>\n",
       "      <td>-25.595774</td>\n",
       "    </tr>\n",
       "    <tr>\n",
       "      <th>2023-06-30 20:44:00+00:00</th>\n",
       "      <td>-13.549</td>\n",
       "      <td>-6.777618</td>\n",
       "    </tr>\n",
       "    <tr>\n",
       "      <th>2023-06-30 20:59:00+00:00</th>\n",
       "      <td>-29.614</td>\n",
       "      <td>9.842615</td>\n",
       "    </tr>\n",
       "    <tr>\n",
       "      <th>2023-06-30 21:14:00+00:00</th>\n",
       "      <td>-40.824</td>\n",
       "      <td>-43.734448</td>\n",
       "    </tr>\n",
       "    <tr>\n",
       "      <th>2023-06-30 21:29:00+00:00</th>\n",
       "      <td>10.249</td>\n",
       "      <td>-23.208407</td>\n",
       "    </tr>\n",
       "  </tbody>\n",
       "</table>\n",
       "<p>17548 rows × 2 columns</p>\n",
       "</div>"
      ],
      "text/plain": [
       "                            y_true  y_pred_s1_50_gen_parallel\n",
       "2022-12-01 22:44:00+00:00  -70.484                 -70.529247\n",
       "2022-12-01 22:59:00+00:00 -125.662                  11.984345\n",
       "2022-12-01 23:14:00+00:00   71.946                -159.113161\n",
       "2022-12-01 23:29:00+00:00 -101.859                  24.945586\n",
       "2022-12-01 23:44:00+00:00  -45.071                 -14.599998\n",
       "...                            ...                        ...\n",
       "2023-06-30 20:29:00+00:00  -61.305                 -25.595774\n",
       "2023-06-30 20:44:00+00:00  -13.549                  -6.777618\n",
       "2023-06-30 20:59:00+00:00  -29.614                   9.842615\n",
       "2023-06-30 21:14:00+00:00  -40.824                 -43.734448\n",
       "2023-06-30 21:29:00+00:00   10.249                 -23.208407\n",
       "\n",
       "[17548 rows x 2 columns]"
      ]
     },
     "execution_count": 5,
     "metadata": {},
     "output_type": "execute_result"
    }
   ],
   "source": [
    "base_prediction = pd.read_parquet(\"/home/thomas/repos/simplify_deployment/data/data_science/predictions.parquet\")\n",
    "base_prediction = base_prediction[[\"y_true\", \"y_pred_s1_50_gen_parallel\"]]\n",
    "base_prediction"
   ]
  },
  {
   "cell_type": "code",
   "execution_count": 6,
   "metadata": {},
   "outputs": [],
   "source": [
    "spline = pd.read_parquet(\"/home/thomas/repos/simplify_deployment/data/data_science/50_gen_s1/hour_spline_encoded.parquet\")\n",
    "sin_cos = pd.read_parquet(\"/home/thomas/repos/simplify_deployment/data/data_science/50_gen_s1/hour_sin_cos_encoded.parquet\")\n",
    "onehot = pd.read_parquet(\"/home/thomas/repos/simplify_deployment/data/data_science/50_gen_s1/hour_onehot_encoded.parquet\")\n",
    "ordinal = pd.read_parquet(\"/home/thomas/repos/simplify_deployment/data/data_science/50_gen_s1/hour_ordinal_encoded.parquet\")"
   ]
  }
 ],
 "metadata": {
  "kernelspec": {
   "display_name": "simplify-deployment-2FnGvFJr-py3.12",
   "language": "python",
   "name": "python3"
  },
  "language_info": {
   "codemirror_mode": {
    "name": "ipython",
    "version": 3
   },
   "file_extension": ".py",
   "mimetype": "text/x-python",
   "name": "python",
   "nbconvert_exporter": "python",
   "pygments_lexer": "ipython3",
   "version": "3.12.3"
  }
 },
 "nbformat": 4,
 "nbformat_minor": 2
}
