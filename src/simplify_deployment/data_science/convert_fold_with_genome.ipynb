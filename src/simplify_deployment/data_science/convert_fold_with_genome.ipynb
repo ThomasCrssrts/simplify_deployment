{
 "cells": [
  {
   "cell_type": "code",
   "execution_count": 13,
   "metadata": {},
   "outputs": [],
   "source": [
    "import pandas as pd\n",
    "import numpy as np\n",
    "import torch.nn as nn \n",
    "from sklearn.datasets import make_regression\n",
    "from torch.utils.data import Dataset, DataLoader\n",
    "import torch\n",
    "from typing import Tuple\n",
    "from sklearn.linear_model import LinearRegression\n",
    "from sklearn.preprocessing import StandardScaler\n",
    "import plotly.express as px\n",
    "from simplify_deployment.organism import Organism\n",
    "from pathlib import Path"
   ]
  },
  {
   "cell_type": "code",
   "execution_count": 14,
   "metadata": {},
   "outputs": [
    {
     "name": "stdout",
     "output_type": "stream",
     "text": [
      "Fold 0 done.\n",
      "Fold 1 done.\n",
      "Fold 2 done.\n",
      "Fold 3 done.\n",
      "Fold 4 done.\n",
      "Fold 5 done.\n",
      "Fold 6 done.\n",
      "Fold 7 done.\n",
      "Fold 8 done.\n",
      "Fold 9 done.\n",
      "Fold 10 done.\n",
      "Fold 11 done.\n"
     ]
    }
   ],
   "source": [
    "target_folder = Path(\"/home/thomas/repos/simplify_deployment/data/data_science/50_gen_s1/folds_converted_with_genome\")\n",
    "for fold in range(12):\n",
    "    # Read\n",
    "    org = Organism.from_yaml(\n",
    "        path_config=\"/home/thomas/repos/simplify_deployment/src/simplify_deployment/config/lag_25_lots_of_vars.yaml\",\n",
    "        path_genome=f\"/home/thomas/repos/simplify_deployment/data/data_science/50_gen_s1/best_genome/lag_25_s1_50_gen_fold_{fold}_best_genome.yaml\",\n",
    "    )\n",
    "    y_train, X_train = org.create_y_X(\n",
    "        y = pd.read_parquet(\n",
    "            f\"/home/thomas/repos/simplify_deployment/data/data_science/50_gen_s1/folds/y_train_fold_{fold}.parquet\",\n",
    "        ),\n",
    "        X_minute = pd.read_parquet(\n",
    "            f\"/home/thomas/repos/simplify_deployment/data/data_science/50_gen_s1/folds/X_train_fold_{fold}.parquet\",\n",
    "        ),\n",
    "    )\n",
    "    y_test, X_test = org.create_y_X(\n",
    "        y = pd.read_parquet(\n",
    "            f\"/home/thomas/repos/simplify_deployment/data/data_science/50_gen_s1/folds/y_test_fold_{fold}.parquet\",\n",
    "        ),\n",
    "        X_minute = pd.read_parquet(\n",
    "            f\"/home/thomas/repos/simplify_deployment/data/data_science/50_gen_s1/folds/X_test_fold_{fold}.parquet\",\n",
    "        ),\n",
    "    )\n",
    "\n",
    "    # Write\n",
    "    X_train.to_parquet(target_folder/f\"X_train_fold_{fold}.parquet\")\n",
    "    y_train.to_frame().to_parquet(target_folder/f\"y_train_fold_{fold}.parquet\")\n",
    "\n",
    "    X_test.to_parquet(target_folder/f\"X_test_fold_{fold}.parquet\")\n",
    "    y_test.to_frame().to_parquet(target_folder/f\"y_test_fold_{fold}.parquet\")\n",
    "\n",
    "    print(f\"Fold {fold} done.\")"
   ]
  },
  {
   "cell_type": "code",
   "execution_count": 15,
   "metadata": {},
   "outputs": [
    {
     "data": {
      "text/plain": [
       "2023-06-15 22:14:00+00:00    -53.877\n",
       "2023-06-15 22:29:00+00:00    -54.506\n",
       "2023-06-15 22:44:00+00:00     30.219\n",
       "2023-06-15 22:59:00+00:00    136.135\n",
       "2023-06-15 23:14:00+00:00     42.267\n",
       "                              ...   \n",
       "2023-10-03 21:29:00+00:00     -2.456\n",
       "2023-10-03 21:44:00+00:00     86.405\n",
       "2023-10-03 21:59:00+00:00    188.829\n",
       "2023-10-03 22:14:00+00:00    -26.519\n",
       "2023-10-03 22:29:00+00:00     47.031\n",
       "Name: siCumulative, Length: 10562, dtype: float64"
      ]
     },
     "execution_count": 15,
     "metadata": {},
     "output_type": "execute_result"
    }
   ],
   "source": [
    "y_train"
   ]
  }
 ],
 "metadata": {
  "kernelspec": {
   "display_name": "simplify-deployment-2FnGvFJr-py3.12",
   "language": "python",
   "name": "python3"
  },
  "language_info": {
   "codemirror_mode": {
    "name": "ipython",
    "version": 3
   },
   "file_extension": ".py",
   "mimetype": "text/x-python",
   "name": "python",
   "nbconvert_exporter": "python",
   "pygments_lexer": "ipython3",
   "version": "3.12.3"
  }
 },
 "nbformat": 4,
 "nbformat_minor": 2
}
