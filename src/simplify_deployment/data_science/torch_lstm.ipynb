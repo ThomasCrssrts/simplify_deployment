{
 "cells": [
  {
   "cell_type": "code",
   "execution_count": 8,
   "metadata": {},
   "outputs": [],
   "source": [
    "import numpy as np\n",
    "from torch import nn\n",
    "import torch\n",
    "import pandas as pd\n",
    "from torch.utils.data import DataLoader, Dataset\n",
    "from typing import Tuple\n",
    "from torch.optim import Adam\n",
    "import matplotlib.pyplot as plt\n",
    "from sklearn.preprocessing import StandardScaler"
   ]
  },
  {
   "cell_type": "code",
   "execution_count": null,
   "metadata": {},
   "outputs": [],
   "source": [
    "n = 10000\n",
    "df = pd.DataFrame(\n",
    "    {\n",
    "        \"feature1\": np.random.uniform(-100,100,size = n),\n",
    "    }    \n",
    ")\n",
    "df[\"feature1_first_derivative\"]= df[\"feature1\"].diff(1).fillna(0)\n",
    "df[\"feature1_second_derivative\"]= df[\"feature1_first_derivative\"].diff(1).fillna(0)\n",
    "df[\"feature2\"]= np.random.uniform(-100,100,size = n)\n",
    "df[\"random\"] = np.random.uniform(-100,100,size = n)\n",
    "df[\"target\"] = 2*df[\"feature1\"] + df[\"feature2\"]  + 5\n",
    "df"
   ]
  },
  {
   "cell_type": "code",
   "execution_count": null,
   "metadata": {},
   "outputs": [],
   "source": [
    "scaler = StandardScaler().set_output(transform = \"pandas\")\n",
    "df = scaler.fit_transform(df)\n",
    "df"
   ]
  },
  {
   "cell_type": "code",
   "execution_count": 11,
   "metadata": {},
   "outputs": [],
   "source": [
    "class LstmModel(nn.Module):\n",
    "    def __init__(self) -> None:\n",
    "        super().__init__()\n",
    "        self.lstm = nn.LSTM(\n",
    "            input_size=2,\n",
    "            hidden_size=8,\n",
    "            num_layers=2,\n",
    "            batch_first=True,\n",
    "        )\n",
    "        self.fc1 = nn.Linear(8, 1)\n",
    "\n",
    "    def forward(self, x: torch.Tensor) -> torch.Tensor:\n",
    "        y_lstm, (hn, cn) = self.lstm(x)\n",
    "        # Use the output of the last time step\n",
    "        y_final = self.fc1(y_lstm[:, -1, :])\n",
    "        return y_final\n",
    "       \n",
    "class LstmDataset(Dataset):\n",
    "    def __init__(\n",
    "            self, \n",
    "            X_lstm: torch.Tensor,\n",
    "            y_lstm: torch.Tensor,\n",
    "    ) -> None:\n",
    "        self.X_lstm = X_lstm\n",
    "        self.y_lstm = y_lstm\n",
    "\n",
    "    def __len__(\n",
    "            self,\n",
    "    ) -> int:\n",
    "        return self.X_lstm.shape[0]\n",
    "        \n",
    "    def __getitem__(\n",
    "            self, \n",
    "            index\n",
    "    ) -> Tuple[torch.Tensor, torch.Tensor]:\n",
    "        X = self.X_lstm[index,:,:]\n",
    "\n",
    "        y = self.y_lstm[index]\n",
    "        return X,y"
   ]
  },
  {
   "cell_type": "code",
   "execution_count": 12,
   "metadata": {},
   "outputs": [],
   "source": [
    "L = 10\n",
    "X_list = []\n",
    "y_list = []\n",
    "for i in range(df.shape[0]-L+1):\n",
    "    X_list.append(\n",
    "        df.iloc[i:i+L,:-1].loc[:,[\"feature1\", \"feature2\"]],\n",
    "    )\n",
    "    y_list.append(\n",
    "        df.iloc[i+L-1,-1],\n",
    "    )\n",
    "X_lstm = torch.Tensor(np.array(X_list)).float()\n",
    "y_lstm = torch.Tensor(np.array(y_list)).float()"
   ]
  },
  {
   "cell_type": "code",
   "execution_count": null,
   "metadata": {},
   "outputs": [],
   "source": [
    "lstm_epochs = 3000\n",
    "lstm_plt_dict = {\n",
    "    \"x\": [],\n",
    "    \"y\": [],\n",
    "}\n",
    "lstm_dataset = LstmDataset(\n",
    "    X_lstm=X_lstm,\n",
    "    y_lstm=y_lstm,\n",
    ")\n",
    "\n",
    "lstm_dataloader = DataLoader(\n",
    "    lstm_dataset,\n",
    "    batch_size=10,\n",
    "    shuffle=True,\n",
    ")\n",
    "\n",
    "lstm_model = LstmModel()\n",
    "lstm_criterion = torch.nn.MSELoss()\n",
    "\n",
    "lstm_optimizer = Adam(\n",
    "    params = lstm_model.parameters(),\n",
    "    lr = 1/1000,\n",
    "    weight_decay=1e-5,\n",
    "\n",
    ")\n",
    "for epoch in range(lstm_epochs):\n",
    "    for i,(lstm_X, lstm_y_true) in enumerate(lstm_dataloader):\n",
    "        lstm_optimizer.zero_grad()\n",
    "        lstm_y_pred = lstm_model(lstm_X)\n",
    "        lstm_loss = lstm_criterion(\n",
    "            lstm_y_pred,\n",
    "            lstm_y_true,\n",
    "        )\n",
    "        lstm_loss.backward()\n",
    "        lstm_optimizer.step()\n",
    "        if i % 100 == 0:\n",
    "            print(lstm_loss)\n",
    "        lstm_plt_dict[\"x\"].append(i*(epoch+1))\n",
    "        lstm_plt_dict[\"y\"].append(lstm_loss.item())\n",
    "        \n",
    "    print(f\"Epoch {epoch} done.\")"
   ]
  },
  {
   "cell_type": "code",
   "execution_count": null,
   "metadata": {},
   "outputs": [],
   "source": [
    "lstm_fig, lstm_ax = plt.subplots()\n",
    "lstm_ax.scatter(lstm_plt_dict[\"x\"],lstm_plt_dict[\"y\"])\n",
    "lstm_ax.set_xlabel(\"iteration\")\n",
    "lstm_ax.set_ylabel(\"loss\")\n",
    "lstm_fig.show()\n"
   ]
  },
  {
   "cell_type": "code",
   "execution_count": null,
   "metadata": {},
   "outputs": [],
   "source": [
    "def count_trainable_parameters(model: nn.Module) -> int:\n",
    "    return sum(p.numel() for p in model.parameters() if p.requires_grad)\n",
    "count_trainable_parameters(lstm_model)"
   ]
  },
  {
   "cell_type": "code",
   "execution_count": null,
   "metadata": {},
   "outputs": [],
   "source": [
    "torch.Tensor().numel()"
   ]
  }
 ],
 "metadata": {
  "kernelspec": {
   "display_name": "simplify-deployment-2FnGvFJr-py3.12",
   "language": "python",
   "name": "python3"
  },
  "language_info": {
   "codemirror_mode": {
    "name": "ipython",
    "version": 3
   },
   "file_extension": ".py",
   "mimetype": "text/x-python",
   "name": "python",
   "nbconvert_exporter": "python",
   "pygments_lexer": "ipython3",
   "version": "3.12.3"
  }
 },
 "nbformat": 4,
 "nbformat_minor": 2
}
