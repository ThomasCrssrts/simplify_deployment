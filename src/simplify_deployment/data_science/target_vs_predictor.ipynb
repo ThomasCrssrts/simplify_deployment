{
 "cells": [
  {
   "cell_type": "code",
   "execution_count": 18,
   "metadata": {},
   "outputs": [],
   "source": [
    "import pandas as pd\n",
    "import numpy as np\n",
    "from sklearn.inspection import permutation_importance\n",
    "from simplify_deployment.organism import Organism\n",
    "from pathlib import Path\n",
    "from sklearn.linear_model import LinearRegression\n",
    "import plotly.express as px\n",
    "from functools import reduce\n",
    "from sklearn.metrics import mean_squared_error\n",
    "from simplify_deployment.config_utils import Filter, Valid_filter\n"
   ]
  },
  {
   "cell_type": "code",
   "execution_count": 19,
   "metadata": {},
   "outputs": [],
   "source": [
    "fold = 1\n",
    "org = Organism.from_yaml(\n",
    "    path_config=Path(\"/home/thomas/repos/simplify_deployment/data/data_science/50_gen_s1/lag_25_s1_config.yaml\"),\n",
    "    path_genome=Path(f\"/home/thomas/repos/simplify_deployment/data/data_science/50_gen_s1/best_genome/lag_25_s1_50_gen_fold_{fold}_best_genome.yaml\")\n",
    ")\n",
    "X_train = pd.read_parquet(f\"/home/thomas/repos/simplify_deployment/data/data_science/50_gen_s1/folds/X_train_fold_{fold}.parquet\")\n",
    "X_test = pd.read_parquet(f\"/home/thomas/repos/simplify_deployment/data/data_science/50_gen_s1/folds/X_test_fold_{fold}.parquet\")\n",
    "y_train = pd.read_parquet(f\"/home/thomas/repos/simplify_deployment/data/data_science/50_gen_s1/folds/y_train_fold_{fold}.parquet\")\n",
    "y_test = pd.read_parquet(f\"/home/thomas/repos/simplify_deployment/data/data_science/50_gen_s1/folds/y_test_fold_{fold}.parquet\")\n"
   ]
  },
  {
   "cell_type": "code",
   "execution_count": 20,
   "metadata": {},
   "outputs": [],
   "source": [
    "y_train_model, X_train_model = org.create_y_X(\n",
    "    y_train,\n",
    "    X_train,\n",
    ")\n",
    "# to create test for model we first glue all together so we don't lose any data\n",
    "y_test_model, X_test_model = org.create_y_X(\n",
    "    y_test,\n",
    "    X_test,\n",
    ")\n",
    "y_test_model = y_test_model.rename(\"y_true\")"
   ]
  },
  {
   "cell_type": "code",
   "execution_count": null,
   "metadata": {},
   "outputs": [],
   "source": [
    "X_test_model.insert(0,\"y_true\",y_test_model)\n",
    "X_test_model"
   ]
  },
  {
   "cell_type": "code",
   "execution_count": null,
   "metadata": {},
   "outputs": [],
   "source": [
    "fig = px.scatter(\n",
    "    X_test_model,\n",
    "    x = list(X_test_model.columns),\n",
    "    y = \"y_true\",\n",
    ")\n",
    "fig.update_traces(visible = \"legendonly\")\n",
    "fig.show()"
   ]
  },
  {
   "cell_type": "code",
   "execution_count": null,
   "metadata": {},
   "outputs": [],
   "source": [
    "filter = Filter(\n",
    "    Valid_filter.band_pass,\n",
    "    period_hours=24,\n",
    ")\n"
   ]
  }
 ],
 "metadata": {
  "kernelspec": {
   "display_name": "simplify-deployment-2FnGvFJr-py3.12",
   "language": "python",
   "name": "python3"
  },
  "language_info": {
   "codemirror_mode": {
    "name": "ipython",
    "version": 3
   },
   "file_extension": ".py",
   "mimetype": "text/x-python",
   "name": "python",
   "nbconvert_exporter": "python",
   "pygments_lexer": "ipython3",
   "version": "3.12.3"
  }
 },
 "nbformat": 4,
 "nbformat_minor": 2
}
